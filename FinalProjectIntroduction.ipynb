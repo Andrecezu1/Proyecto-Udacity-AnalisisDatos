{
 "cells": [
  {
   "cell_type": "markdown",
   "metadata": {},
   "source": [
    "# Seattle and Boston Airbnb Data\n",
    "\n",
    "\"Airbnb (ABNB) is an online marketplace that connects people who want to rent out their homes with people who are looking for accommodations in specific locales.\n",
    "\n",
    "The company has come a long way since 2007, when its co-founders first came up with the idea to invite paying guests to sleep on an air mattress in their living room. According to Airbnb's latest data, it has in excess of six million listings, covering more than 100,000 cities and towns and 220-plus countries worldwide.\" \n",
    "\n",
    "Information gathered from:\n",
    "https://www.investopedia.com/articles/personal-finance/032814/pros-and-cons-using-airbnb.asp\n",
    "\n",
    "The datasets that are going to be analyzed in this project are the Seattle and Boston Airbnb Data. These datasets have information about the reviews, the scores and calendar information that include prices.\n",
    "\n",
    "<br> There are somme suggested questions for both datasets that are:</br>\n",
    "\n",
    "<br>1) What are the busiest times of the year to visit each city?</br>\n",
    "<br>2) Which city has the best Airbnb ratings?</br>\n",
    "<br>3) What characteristics are related to higher ratings?</br>\n",
    "<br>4) Which are the best rated hosts?</br>"
   ]
  },
  {
   "cell_type": "code",
   "execution_count": 1,
   "metadata": {},
   "outputs": [],
   "source": [
    "# Import libraries\n",
    "import numpy as np\n",
    "import pandas as pd\n",
    "import matplotlib.pyplot as plt\n",
    "from IPython import display\n",
    "from sklearn.linear_model import LinearRegression\n",
    "from sklearn.model_selection import train_test_split\n",
    "from sklearn.metrics import r2_score, mean_squared_error\n",
    "import seaborn as sns\n",
    "%matplotlib inline\n",
    "%load_ext autoreload\n",
    "%autoreload 2"
   ]
  },
  {
   "cell_type": "markdown",
   "metadata": {},
   "source": [
    "## A Look at the Data\n",
    "\n",
    "In order to get a better understanding of the data we will be looking at throughout this lesson, let's take a look at some of the characteristics of the dataset.\n",
    "\n",
    "First, let's read in the data and necessary libraries."
   ]
  },
  {
   "cell_type": "code",
   "execution_count": 2,
   "metadata": {},
   "outputs": [],
   "source": [
    "#Contiene información de los \n",
    "Seattle_calendar = pd.read_csv('./Seattle/calendar.csv')\n",
    "Seattle_listings= pd.read_csv('./Seattle/listings.csv')\n",
    "Seattle_reviews= pd.read_csv('./Seattle/reviews.csv')\n",
    "\n",
    "Boston_calendar = pd.read_csv('./Boston/calendar.csv')\n",
    "Boston_listings= pd.read_csv('./Boston/listings.csv')\n",
    "Boston_reviews= pd.read_csv('./Boston/reviews.csv')\n",
    "\n",
    "from datetime import datetime"
   ]
  },
  {
   "cell_type": "markdown",
   "metadata": {},
   "source": [
    "**1.** Number of rows and columns."
   ]
  },
  {
   "cell_type": "code",
   "execution_count": 3,
   "metadata": {},
   "outputs": [
    {
     "name": "stdout",
     "output_type": "stream",
     "text": [
      "Seattle Calendar:(1393570, 4)\n",
      "Seattle listings:(3818, 92)\n",
      "Seattle reviews:(84849, 6)\n",
      "Boston Calendar:(1308890, 4)\n",
      "Boston listings:(3585, 95)\n",
      "Boston reviews:(68275, 6)\n"
     ]
    }
   ],
   "source": [
    "print (\"Seattle Calendar:\" + str(Seattle_calendar.shape))\n",
    "print (\"Seattle listings:\" + str(Seattle_listings.shape))\n",
    "print (\"Seattle reviews:\" + str(Seattle_reviews.shape))\n",
    "print (\"Boston Calendar:\" + str(Boston_calendar.shape))\n",
    "print (\"Boston listings:\" + str(Boston_listings.shape))\n",
    "print (\"Boston reviews:\" + str(Boston_reviews.shape))"
   ]
  },
  {
   "cell_type": "markdown",
   "metadata": {},
   "source": [
    "**2.** Which columns had no missing values? Provide a set of column names that have no missing values."
   ]
  },
  {
   "cell_type": "code",
   "execution_count": 4,
   "metadata": {},
   "outputs": [
    {
     "name": "stdout",
     "output_type": "stream",
     "text": [
      "<class 'pandas.core.frame.DataFrame'>\n",
      "RangeIndex: 1393570 entries, 0 to 1393569\n",
      "Data columns (total 4 columns):\n",
      " #   Column      Non-Null Count    Dtype \n",
      "---  ------      --------------    ----- \n",
      " 0   listing_id  1393570 non-null  int64 \n",
      " 1   date        1393570 non-null  object\n",
      " 2   available   1393570 non-null  object\n",
      " 3   price       934542 non-null   object\n",
      "dtypes: int64(1), object(3)\n",
      "memory usage: 42.5+ MB\n",
      "Seattle Calendar:None\n"
     ]
    }
   ],
   "source": [
    "print (\"Seattle Calendar:\" + str(Seattle_calendar.info()))"
   ]
  },
  {
   "cell_type": "code",
   "execution_count": 5,
   "metadata": {},
   "outputs": [
    {
     "data": {
      "text/plain": [
       "0.32938998399793334"
      ]
     },
     "execution_count": 5,
     "metadata": {},
     "output_type": "execute_result"
    }
   ],
   "source": [
    "Seattle_calendar.price.isna().sum()/len(Seattle_calendar)"
   ]
  },
  {
   "cell_type": "code",
   "execution_count": 6,
   "metadata": {},
   "outputs": [
    {
     "data": {
      "text/html": [
       "<div>\n",
       "<style scoped>\n",
       "    .dataframe tbody tr th:only-of-type {\n",
       "        vertical-align: middle;\n",
       "    }\n",
       "\n",
       "    .dataframe tbody tr th {\n",
       "        vertical-align: top;\n",
       "    }\n",
       "\n",
       "    .dataframe thead th {\n",
       "        text-align: right;\n",
       "    }\n",
       "</style>\n",
       "<table border=\"1\" class=\"dataframe\">\n",
       "  <thead>\n",
       "    <tr style=\"text-align: right;\">\n",
       "      <th></th>\n",
       "      <th>listing_id</th>\n",
       "      <th>date</th>\n",
       "      <th>available</th>\n",
       "      <th>price</th>\n",
       "    </tr>\n",
       "  </thead>\n",
       "  <tbody>\n",
       "    <tr>\n",
       "      <th>0</th>\n",
       "      <td>241032</td>\n",
       "      <td>2016-01-04</td>\n",
       "      <td>t</td>\n",
       "      <td>$85.00</td>\n",
       "    </tr>\n",
       "    <tr>\n",
       "      <th>1</th>\n",
       "      <td>241032</td>\n",
       "      <td>2016-01-05</td>\n",
       "      <td>t</td>\n",
       "      <td>$85.00</td>\n",
       "    </tr>\n",
       "    <tr>\n",
       "      <th>2</th>\n",
       "      <td>241032</td>\n",
       "      <td>2016-01-06</td>\n",
       "      <td>f</td>\n",
       "      <td>NaN</td>\n",
       "    </tr>\n",
       "    <tr>\n",
       "      <th>3</th>\n",
       "      <td>241032</td>\n",
       "      <td>2016-01-07</td>\n",
       "      <td>f</td>\n",
       "      <td>NaN</td>\n",
       "    </tr>\n",
       "    <tr>\n",
       "      <th>4</th>\n",
       "      <td>241032</td>\n",
       "      <td>2016-01-08</td>\n",
       "      <td>f</td>\n",
       "      <td>NaN</td>\n",
       "    </tr>\n",
       "  </tbody>\n",
       "</table>\n",
       "</div>"
      ],
      "text/plain": [
       "   listing_id        date available   price\n",
       "0      241032  2016-01-04         t  $85.00\n",
       "1      241032  2016-01-05         t  $85.00\n",
       "2      241032  2016-01-06         f     NaN\n",
       "3      241032  2016-01-07         f     NaN\n",
       "4      241032  2016-01-08         f     NaN"
      ]
     },
     "execution_count": 6,
     "metadata": {},
     "output_type": "execute_result"
    }
   ],
   "source": [
    "Seattle_calendar.head()"
   ]
  },
  {
   "cell_type": "markdown",
   "metadata": {},
   "source": [
    "33.94% of the Seattle price values are null. It is important to see the relevance of this proportion in order to see how they are going to be treated."
   ]
  },
  {
   "cell_type": "code",
   "execution_count": 7,
   "metadata": {},
   "outputs": [
    {
     "data": {
      "text/html": [
       "<div>\n",
       "<style scoped>\n",
       "    .dataframe tbody tr th:only-of-type {\n",
       "        vertical-align: middle;\n",
       "    }\n",
       "\n",
       "    .dataframe tbody tr th {\n",
       "        vertical-align: top;\n",
       "    }\n",
       "\n",
       "    .dataframe thead th {\n",
       "        text-align: right;\n",
       "    }\n",
       "</style>\n",
       "<table border=\"1\" class=\"dataframe\">\n",
       "  <thead>\n",
       "    <tr style=\"text-align: right;\">\n",
       "      <th></th>\n",
       "      <th>id</th>\n",
       "      <th>listing_url</th>\n",
       "      <th>scrape_id</th>\n",
       "      <th>last_scraped</th>\n",
       "      <th>name</th>\n",
       "      <th>summary</th>\n",
       "      <th>space</th>\n",
       "      <th>description</th>\n",
       "      <th>experiences_offered</th>\n",
       "      <th>neighborhood_overview</th>\n",
       "      <th>...</th>\n",
       "      <th>review_scores_value</th>\n",
       "      <th>requires_license</th>\n",
       "      <th>license</th>\n",
       "      <th>jurisdiction_names</th>\n",
       "      <th>instant_bookable</th>\n",
       "      <th>cancellation_policy</th>\n",
       "      <th>require_guest_profile_picture</th>\n",
       "      <th>require_guest_phone_verification</th>\n",
       "      <th>calculated_host_listings_count</th>\n",
       "      <th>reviews_per_month</th>\n",
       "    </tr>\n",
       "  </thead>\n",
       "  <tbody>\n",
       "    <tr>\n",
       "      <th>0</th>\n",
       "      <td>241032</td>\n",
       "      <td>https://www.airbnb.com/rooms/241032</td>\n",
       "      <td>20160104002432</td>\n",
       "      <td>2016-01-04</td>\n",
       "      <td>Stylish Queen Anne Apartment</td>\n",
       "      <td>NaN</td>\n",
       "      <td>Make your self at home in this charming one-be...</td>\n",
       "      <td>Make your self at home in this charming one-be...</td>\n",
       "      <td>none</td>\n",
       "      <td>NaN</td>\n",
       "      <td>...</td>\n",
       "      <td>10.0</td>\n",
       "      <td>f</td>\n",
       "      <td>NaN</td>\n",
       "      <td>WASHINGTON</td>\n",
       "      <td>f</td>\n",
       "      <td>moderate</td>\n",
       "      <td>f</td>\n",
       "      <td>f</td>\n",
       "      <td>2</td>\n",
       "      <td>4.07</td>\n",
       "    </tr>\n",
       "    <tr>\n",
       "      <th>1</th>\n",
       "      <td>953595</td>\n",
       "      <td>https://www.airbnb.com/rooms/953595</td>\n",
       "      <td>20160104002432</td>\n",
       "      <td>2016-01-04</td>\n",
       "      <td>Bright &amp; Airy Queen Anne Apartment</td>\n",
       "      <td>Chemically sensitive? We've removed the irrita...</td>\n",
       "      <td>Beautiful, hypoallergenic apartment in an extr...</td>\n",
       "      <td>Chemically sensitive? We've removed the irrita...</td>\n",
       "      <td>none</td>\n",
       "      <td>Queen Anne is a wonderful, truly functional vi...</td>\n",
       "      <td>...</td>\n",
       "      <td>10.0</td>\n",
       "      <td>f</td>\n",
       "      <td>NaN</td>\n",
       "      <td>WASHINGTON</td>\n",
       "      <td>f</td>\n",
       "      <td>strict</td>\n",
       "      <td>t</td>\n",
       "      <td>t</td>\n",
       "      <td>6</td>\n",
       "      <td>1.48</td>\n",
       "    </tr>\n",
       "    <tr>\n",
       "      <th>2</th>\n",
       "      <td>3308979</td>\n",
       "      <td>https://www.airbnb.com/rooms/3308979</td>\n",
       "      <td>20160104002432</td>\n",
       "      <td>2016-01-04</td>\n",
       "      <td>New Modern House-Amazing water view</td>\n",
       "      <td>New modern house built in 2013.  Spectacular s...</td>\n",
       "      <td>Our house is modern, light and fresh with a wa...</td>\n",
       "      <td>New modern house built in 2013.  Spectacular s...</td>\n",
       "      <td>none</td>\n",
       "      <td>Upper Queen Anne is a charming neighborhood fu...</td>\n",
       "      <td>...</td>\n",
       "      <td>10.0</td>\n",
       "      <td>f</td>\n",
       "      <td>NaN</td>\n",
       "      <td>WASHINGTON</td>\n",
       "      <td>f</td>\n",
       "      <td>strict</td>\n",
       "      <td>f</td>\n",
       "      <td>f</td>\n",
       "      <td>2</td>\n",
       "      <td>1.15</td>\n",
       "    </tr>\n",
       "    <tr>\n",
       "      <th>3</th>\n",
       "      <td>7421966</td>\n",
       "      <td>https://www.airbnb.com/rooms/7421966</td>\n",
       "      <td>20160104002432</td>\n",
       "      <td>2016-01-04</td>\n",
       "      <td>Queen Anne Chateau</td>\n",
       "      <td>A charming apartment that sits atop Queen Anne...</td>\n",
       "      <td>NaN</td>\n",
       "      <td>A charming apartment that sits atop Queen Anne...</td>\n",
       "      <td>none</td>\n",
       "      <td>NaN</td>\n",
       "      <td>...</td>\n",
       "      <td>NaN</td>\n",
       "      <td>f</td>\n",
       "      <td>NaN</td>\n",
       "      <td>WASHINGTON</td>\n",
       "      <td>f</td>\n",
       "      <td>flexible</td>\n",
       "      <td>f</td>\n",
       "      <td>f</td>\n",
       "      <td>1</td>\n",
       "      <td>NaN</td>\n",
       "    </tr>\n",
       "    <tr>\n",
       "      <th>4</th>\n",
       "      <td>278830</td>\n",
       "      <td>https://www.airbnb.com/rooms/278830</td>\n",
       "      <td>20160104002432</td>\n",
       "      <td>2016-01-04</td>\n",
       "      <td>Charming craftsman 3 bdm house</td>\n",
       "      <td>Cozy family craftman house in beautiful neighb...</td>\n",
       "      <td>Cozy family craftman house in beautiful neighb...</td>\n",
       "      <td>Cozy family craftman house in beautiful neighb...</td>\n",
       "      <td>none</td>\n",
       "      <td>We are in the beautiful neighborhood of Queen ...</td>\n",
       "      <td>...</td>\n",
       "      <td>9.0</td>\n",
       "      <td>f</td>\n",
       "      <td>NaN</td>\n",
       "      <td>WASHINGTON</td>\n",
       "      <td>f</td>\n",
       "      <td>strict</td>\n",
       "      <td>f</td>\n",
       "      <td>f</td>\n",
       "      <td>1</td>\n",
       "      <td>0.89</td>\n",
       "    </tr>\n",
       "  </tbody>\n",
       "</table>\n",
       "<p>5 rows × 92 columns</p>\n",
       "</div>"
      ],
      "text/plain": [
       "        id                           listing_url       scrape_id last_scraped  \\\n",
       "0   241032   https://www.airbnb.com/rooms/241032  20160104002432   2016-01-04   \n",
       "1   953595   https://www.airbnb.com/rooms/953595  20160104002432   2016-01-04   \n",
       "2  3308979  https://www.airbnb.com/rooms/3308979  20160104002432   2016-01-04   \n",
       "3  7421966  https://www.airbnb.com/rooms/7421966  20160104002432   2016-01-04   \n",
       "4   278830   https://www.airbnb.com/rooms/278830  20160104002432   2016-01-04   \n",
       "\n",
       "                                  name  \\\n",
       "0         Stylish Queen Anne Apartment   \n",
       "1   Bright & Airy Queen Anne Apartment   \n",
       "2  New Modern House-Amazing water view   \n",
       "3                   Queen Anne Chateau   \n",
       "4       Charming craftsman 3 bdm house   \n",
       "\n",
       "                                             summary  \\\n",
       "0                                                NaN   \n",
       "1  Chemically sensitive? We've removed the irrita...   \n",
       "2  New modern house built in 2013.  Spectacular s...   \n",
       "3  A charming apartment that sits atop Queen Anne...   \n",
       "4  Cozy family craftman house in beautiful neighb...   \n",
       "\n",
       "                                               space  \\\n",
       "0  Make your self at home in this charming one-be...   \n",
       "1  Beautiful, hypoallergenic apartment in an extr...   \n",
       "2  Our house is modern, light and fresh with a wa...   \n",
       "3                                                NaN   \n",
       "4  Cozy family craftman house in beautiful neighb...   \n",
       "\n",
       "                                         description experiences_offered  \\\n",
       "0  Make your self at home in this charming one-be...                none   \n",
       "1  Chemically sensitive? We've removed the irrita...                none   \n",
       "2  New modern house built in 2013.  Spectacular s...                none   \n",
       "3  A charming apartment that sits atop Queen Anne...                none   \n",
       "4  Cozy family craftman house in beautiful neighb...                none   \n",
       "\n",
       "                               neighborhood_overview  ... review_scores_value  \\\n",
       "0                                                NaN  ...                10.0   \n",
       "1  Queen Anne is a wonderful, truly functional vi...  ...                10.0   \n",
       "2  Upper Queen Anne is a charming neighborhood fu...  ...                10.0   \n",
       "3                                                NaN  ...                 NaN   \n",
       "4  We are in the beautiful neighborhood of Queen ...  ...                 9.0   \n",
       "\n",
       "  requires_license license jurisdiction_names instant_bookable  \\\n",
       "0                f     NaN         WASHINGTON                f   \n",
       "1                f     NaN         WASHINGTON                f   \n",
       "2                f     NaN         WASHINGTON                f   \n",
       "3                f     NaN         WASHINGTON                f   \n",
       "4                f     NaN         WASHINGTON                f   \n",
       "\n",
       "  cancellation_policy  require_guest_profile_picture  \\\n",
       "0            moderate                              f   \n",
       "1              strict                              t   \n",
       "2              strict                              f   \n",
       "3            flexible                              f   \n",
       "4              strict                              f   \n",
       "\n",
       "  require_guest_phone_verification calculated_host_listings_count  \\\n",
       "0                                f                              2   \n",
       "1                                t                              6   \n",
       "2                                f                              2   \n",
       "3                                f                              1   \n",
       "4                                f                              1   \n",
       "\n",
       "  reviews_per_month  \n",
       "0              4.07  \n",
       "1              1.48  \n",
       "2              1.15  \n",
       "3               NaN  \n",
       "4              0.89  \n",
       "\n",
       "[5 rows x 92 columns]"
      ]
     },
     "execution_count": 7,
     "metadata": {},
     "output_type": "execute_result"
    }
   ],
   "source": [
    "Seattle_listings.head()"
   ]
  },
  {
   "cell_type": "code",
   "execution_count": 8,
   "metadata": {},
   "outputs": [
    {
     "name": "stdout",
     "output_type": "stream",
     "text": [
      "<class 'pandas.core.frame.DataFrame'>\n",
      "RangeIndex: 3818 entries, 0 to 3817\n",
      "Data columns (total 92 columns):\n",
      " #   Column                            Non-Null Count  Dtype  \n",
      "---  ------                            --------------  -----  \n",
      " 0   id                                3818 non-null   int64  \n",
      " 1   listing_url                       3818 non-null   object \n",
      " 2   scrape_id                         3818 non-null   int64  \n",
      " 3   last_scraped                      3818 non-null   object \n",
      " 4   name                              3818 non-null   object \n",
      " 5   summary                           3641 non-null   object \n",
      " 6   space                             3249 non-null   object \n",
      " 7   description                       3818 non-null   object \n",
      " 8   experiences_offered               3818 non-null   object \n",
      " 9   neighborhood_overview             2786 non-null   object \n",
      " 10  notes                             2212 non-null   object \n",
      " 11  transit                           2884 non-null   object \n",
      " 12  thumbnail_url                     3498 non-null   object \n",
      " 13  medium_url                        3498 non-null   object \n",
      " 14  picture_url                       3818 non-null   object \n",
      " 15  xl_picture_url                    3498 non-null   object \n",
      " 16  host_id                           3818 non-null   int64  \n",
      " 17  host_url                          3818 non-null   object \n",
      " 18  host_name                         3816 non-null   object \n",
      " 19  host_since                        3816 non-null   object \n",
      " 20  host_location                     3810 non-null   object \n",
      " 21  host_about                        2959 non-null   object \n",
      " 22  host_response_time                3295 non-null   object \n",
      " 23  host_response_rate                3295 non-null   object \n",
      " 24  host_acceptance_rate              3045 non-null   object \n",
      " 25  host_is_superhost                 3816 non-null   object \n",
      " 26  host_thumbnail_url                3816 non-null   object \n",
      " 27  host_picture_url                  3816 non-null   object \n",
      " 28  host_neighbourhood                3518 non-null   object \n",
      " 29  host_listings_count               3816 non-null   float64\n",
      " 30  host_total_listings_count         3816 non-null   float64\n",
      " 31  host_verifications                3818 non-null   object \n",
      " 32  host_has_profile_pic              3816 non-null   object \n",
      " 33  host_identity_verified            3816 non-null   object \n",
      " 34  street                            3818 non-null   object \n",
      " 35  neighbourhood                     3402 non-null   object \n",
      " 36  neighbourhood_cleansed            3818 non-null   object \n",
      " 37  neighbourhood_group_cleansed      3818 non-null   object \n",
      " 38  city                              3818 non-null   object \n",
      " 39  state                             3818 non-null   object \n",
      " 40  zipcode                           3811 non-null   object \n",
      " 41  market                            3818 non-null   object \n",
      " 42  smart_location                    3818 non-null   object \n",
      " 43  country_code                      3818 non-null   object \n",
      " 44  country                           3818 non-null   object \n",
      " 45  latitude                          3818 non-null   float64\n",
      " 46  longitude                         3818 non-null   float64\n",
      " 47  is_location_exact                 3818 non-null   object \n",
      " 48  property_type                     3817 non-null   object \n",
      " 49  room_type                         3818 non-null   object \n",
      " 50  accommodates                      3818 non-null   int64  \n",
      " 51  bathrooms                         3802 non-null   float64\n",
      " 52  bedrooms                          3812 non-null   float64\n",
      " 53  beds                              3817 non-null   float64\n",
      " 54  bed_type                          3818 non-null   object \n",
      " 55  amenities                         3818 non-null   object \n",
      " 56  square_feet                       97 non-null     float64\n",
      " 57  price                             3818 non-null   object \n",
      " 58  weekly_price                      2009 non-null   object \n",
      " 59  monthly_price                     1517 non-null   object \n",
      " 60  security_deposit                  1866 non-null   object \n",
      " 61  cleaning_fee                      2788 non-null   object \n",
      " 62  guests_included                   3818 non-null   int64  \n",
      " 63  extra_people                      3818 non-null   object \n",
      " 64  minimum_nights                    3818 non-null   int64  \n",
      " 65  maximum_nights                    3818 non-null   int64  \n",
      " 66  calendar_updated                  3818 non-null   object \n",
      " 67  has_availability                  3818 non-null   object \n",
      " 68  availability_30                   3818 non-null   int64  \n",
      " 69  availability_60                   3818 non-null   int64  \n",
      " 70  availability_90                   3818 non-null   int64  \n",
      " 71  availability_365                  3818 non-null   int64  \n",
      " 72  calendar_last_scraped             3818 non-null   object \n",
      " 73  number_of_reviews                 3818 non-null   int64  \n",
      " 74  first_review                      3191 non-null   object \n",
      " 75  last_review                       3191 non-null   object \n",
      " 76  review_scores_rating              3171 non-null   float64\n",
      " 77  review_scores_accuracy            3160 non-null   float64\n",
      " 78  review_scores_cleanliness         3165 non-null   float64\n",
      " 79  review_scores_checkin             3160 non-null   float64\n",
      " 80  review_scores_communication       3167 non-null   float64\n",
      " 81  review_scores_location            3163 non-null   float64\n",
      " 82  review_scores_value               3162 non-null   float64\n",
      " 83  requires_license                  3818 non-null   object \n",
      " 84  license                           0 non-null      float64\n",
      " 85  jurisdiction_names                3818 non-null   object \n",
      " 86  instant_bookable                  3818 non-null   object \n",
      " 87  cancellation_policy               3818 non-null   object \n",
      " 88  require_guest_profile_picture     3818 non-null   object \n",
      " 89  require_guest_phone_verification  3818 non-null   object \n",
      " 90  calculated_host_listings_count    3818 non-null   int64  \n",
      " 91  reviews_per_month                 3191 non-null   float64\n",
      "dtypes: float64(17), int64(13), object(62)\n",
      "memory usage: 2.7+ MB\n",
      "Seattle listings:None\n"
     ]
    }
   ],
   "source": [
    "print (\"Seattle listings:\" + str(Seattle_listings.info()))"
   ]
  },
  {
   "cell_type": "code",
   "execution_count": 9,
   "metadata": {},
   "outputs": [],
   "source": [
    "most_missing_cols = []\n",
    "for i in Seattle_listings.columns:\n",
    "    if Seattle_listings[i].isnull().sum()/len(Seattle_listings[i])>0.75:\n",
    "        most_missing_cols.append(i)"
   ]
  },
  {
   "cell_type": "code",
   "execution_count": 10,
   "metadata": {},
   "outputs": [
    {
     "data": {
      "text/plain": [
       "['square_feet', 'license']"
      ]
     },
     "execution_count": 10,
     "metadata": {},
     "output_type": "execute_result"
    }
   ],
   "source": [
    "most_missing_cols"
   ]
  },
  {
   "cell_type": "markdown",
   "metadata": {},
   "source": [
    "The columns that have more than 75% of missing values are square_feet and license. Therefore, those columns are going to be deleted. \n",
    "\n",
    "On the other hand, the columns with URLs, scrape ID,Last_scrapped  does not give important information to the analysis I will develop. Therefore this will be dalated.\n",
    "\n",
    "Price, weekly price, monthly price, security deposit, cleaning fee,  has the wrong datatype."
   ]
  },
  {
   "cell_type": "code",
   "execution_count": 11,
   "metadata": {},
   "outputs": [
    {
     "data": {
      "text/html": [
       "<div>\n",
       "<style scoped>\n",
       "    .dataframe tbody tr th:only-of-type {\n",
       "        vertical-align: middle;\n",
       "    }\n",
       "\n",
       "    .dataframe tbody tr th {\n",
       "        vertical-align: top;\n",
       "    }\n",
       "\n",
       "    .dataframe thead th {\n",
       "        text-align: right;\n",
       "    }\n",
       "</style>\n",
       "<table border=\"1\" class=\"dataframe\">\n",
       "  <thead>\n",
       "    <tr style=\"text-align: right;\">\n",
       "      <th></th>\n",
       "      <th>listing_id</th>\n",
       "      <th>id</th>\n",
       "      <th>date</th>\n",
       "      <th>reviewer_id</th>\n",
       "      <th>reviewer_name</th>\n",
       "      <th>comments</th>\n",
       "    </tr>\n",
       "  </thead>\n",
       "  <tbody>\n",
       "    <tr>\n",
       "      <th>0</th>\n",
       "      <td>7202016</td>\n",
       "      <td>38917982</td>\n",
       "      <td>2015-07-19</td>\n",
       "      <td>28943674</td>\n",
       "      <td>Bianca</td>\n",
       "      <td>Cute and cozy place. Perfect location to every...</td>\n",
       "    </tr>\n",
       "    <tr>\n",
       "      <th>1</th>\n",
       "      <td>7202016</td>\n",
       "      <td>39087409</td>\n",
       "      <td>2015-07-20</td>\n",
       "      <td>32440555</td>\n",
       "      <td>Frank</td>\n",
       "      <td>Kelly has a great room in a very central locat...</td>\n",
       "    </tr>\n",
       "    <tr>\n",
       "      <th>2</th>\n",
       "      <td>7202016</td>\n",
       "      <td>39820030</td>\n",
       "      <td>2015-07-26</td>\n",
       "      <td>37722850</td>\n",
       "      <td>Ian</td>\n",
       "      <td>Very spacious apartment, and in a great neighb...</td>\n",
       "    </tr>\n",
       "    <tr>\n",
       "      <th>3</th>\n",
       "      <td>7202016</td>\n",
       "      <td>40813543</td>\n",
       "      <td>2015-08-02</td>\n",
       "      <td>33671805</td>\n",
       "      <td>George</td>\n",
       "      <td>Close to Seattle Center and all it has to offe...</td>\n",
       "    </tr>\n",
       "    <tr>\n",
       "      <th>4</th>\n",
       "      <td>7202016</td>\n",
       "      <td>41986501</td>\n",
       "      <td>2015-08-10</td>\n",
       "      <td>34959538</td>\n",
       "      <td>Ming</td>\n",
       "      <td>Kelly was a great host and very accommodating ...</td>\n",
       "    </tr>\n",
       "  </tbody>\n",
       "</table>\n",
       "</div>"
      ],
      "text/plain": [
       "   listing_id        id        date  reviewer_id reviewer_name  \\\n",
       "0     7202016  38917982  2015-07-19     28943674        Bianca   \n",
       "1     7202016  39087409  2015-07-20     32440555         Frank   \n",
       "2     7202016  39820030  2015-07-26     37722850           Ian   \n",
       "3     7202016  40813543  2015-08-02     33671805        George   \n",
       "4     7202016  41986501  2015-08-10     34959538          Ming   \n",
       "\n",
       "                                            comments  \n",
       "0  Cute and cozy place. Perfect location to every...  \n",
       "1  Kelly has a great room in a very central locat...  \n",
       "2  Very spacious apartment, and in a great neighb...  \n",
       "3  Close to Seattle Center and all it has to offe...  \n",
       "4  Kelly was a great host and very accommodating ...  "
      ]
     },
     "execution_count": 11,
     "metadata": {},
     "output_type": "execute_result"
    }
   ],
   "source": [
    "Seattle_reviews.head()"
   ]
  },
  {
   "cell_type": "code",
   "execution_count": 12,
   "metadata": {},
   "outputs": [
    {
     "name": "stdout",
     "output_type": "stream",
     "text": [
      "<class 'pandas.core.frame.DataFrame'>\n",
      "RangeIndex: 84849 entries, 0 to 84848\n",
      "Data columns (total 6 columns):\n",
      " #   Column         Non-Null Count  Dtype \n",
      "---  ------         --------------  ----- \n",
      " 0   listing_id     84849 non-null  int64 \n",
      " 1   id             84849 non-null  int64 \n",
      " 2   date           84849 non-null  object\n",
      " 3   reviewer_id    84849 non-null  int64 \n",
      " 4   reviewer_name  84849 non-null  object\n",
      " 5   comments       84831 non-null  object\n",
      "dtypes: int64(3), object(3)\n",
      "memory usage: 3.9+ MB\n",
      "Seattle reviews:None\n"
     ]
    }
   ],
   "source": [
    "print (\"Seattle reviews:\" + str(Seattle_reviews.info()))"
   ]
  },
  {
   "cell_type": "code",
   "execution_count": 13,
   "metadata": {},
   "outputs": [
    {
     "data": {
      "text/plain": [
       "0.021214156914047308"
      ]
     },
     "execution_count": 13,
     "metadata": {},
     "output_type": "execute_result"
    }
   ],
   "source": [
    "Seattle_reviews.comments.isna().sum()/len(Seattle_reviews)*100"
   ]
  },
  {
   "cell_type": "markdown",
   "metadata": {},
   "source": [
    "The date type needs to be changed because it appears as an object"
   ]
  },
  {
   "cell_type": "code",
   "execution_count": 14,
   "metadata": {},
   "outputs": [
    {
     "data": {
      "text/html": [
       "<div>\n",
       "<style scoped>\n",
       "    .dataframe tbody tr th:only-of-type {\n",
       "        vertical-align: middle;\n",
       "    }\n",
       "\n",
       "    .dataframe tbody tr th {\n",
       "        vertical-align: top;\n",
       "    }\n",
       "\n",
       "    .dataframe thead th {\n",
       "        text-align: right;\n",
       "    }\n",
       "</style>\n",
       "<table border=\"1\" class=\"dataframe\">\n",
       "  <thead>\n",
       "    <tr style=\"text-align: right;\">\n",
       "      <th></th>\n",
       "      <th>listing_id</th>\n",
       "      <th>date</th>\n",
       "      <th>available</th>\n",
       "      <th>price</th>\n",
       "    </tr>\n",
       "  </thead>\n",
       "  <tbody>\n",
       "    <tr>\n",
       "      <th>0</th>\n",
       "      <td>12147973</td>\n",
       "      <td>2017-09-05</td>\n",
       "      <td>f</td>\n",
       "      <td>NaN</td>\n",
       "    </tr>\n",
       "    <tr>\n",
       "      <th>1</th>\n",
       "      <td>12147973</td>\n",
       "      <td>2017-09-04</td>\n",
       "      <td>f</td>\n",
       "      <td>NaN</td>\n",
       "    </tr>\n",
       "    <tr>\n",
       "      <th>2</th>\n",
       "      <td>12147973</td>\n",
       "      <td>2017-09-03</td>\n",
       "      <td>f</td>\n",
       "      <td>NaN</td>\n",
       "    </tr>\n",
       "    <tr>\n",
       "      <th>3</th>\n",
       "      <td>12147973</td>\n",
       "      <td>2017-09-02</td>\n",
       "      <td>f</td>\n",
       "      <td>NaN</td>\n",
       "    </tr>\n",
       "    <tr>\n",
       "      <th>4</th>\n",
       "      <td>12147973</td>\n",
       "      <td>2017-09-01</td>\n",
       "      <td>f</td>\n",
       "      <td>NaN</td>\n",
       "    </tr>\n",
       "  </tbody>\n",
       "</table>\n",
       "</div>"
      ],
      "text/plain": [
       "   listing_id        date available price\n",
       "0    12147973  2017-09-05         f   NaN\n",
       "1    12147973  2017-09-04         f   NaN\n",
       "2    12147973  2017-09-03         f   NaN\n",
       "3    12147973  2017-09-02         f   NaN\n",
       "4    12147973  2017-09-01         f   NaN"
      ]
     },
     "execution_count": 14,
     "metadata": {},
     "output_type": "execute_result"
    }
   ],
   "source": [
    "Boston_calendar.head()"
   ]
  },
  {
   "cell_type": "code",
   "execution_count": 15,
   "metadata": {},
   "outputs": [
    {
     "name": "stdout",
     "output_type": "stream",
     "text": [
      "<class 'pandas.core.frame.DataFrame'>\n",
      "RangeIndex: 1308890 entries, 0 to 1308889\n",
      "Data columns (total 4 columns):\n",
      " #   Column      Non-Null Count    Dtype \n",
      "---  ------      --------------    ----- \n",
      " 0   listing_id  1308890 non-null  int64 \n",
      " 1   date        1308890 non-null  object\n",
      " 2   available   1308890 non-null  object\n",
      " 3   price       643037 non-null   object\n",
      "dtypes: int64(1), object(3)\n",
      "memory usage: 39.9+ MB\n",
      "Boston Calendar:None\n"
     ]
    }
   ],
   "source": [
    "print (\"Boston Calendar:\" + str(Boston_calendar.info()))"
   ]
  },
  {
   "cell_type": "code",
   "execution_count": 16,
   "metadata": {},
   "outputs": [
    {
     "data": {
      "text/plain": [
       "50.87157820748879"
      ]
     },
     "execution_count": 16,
     "metadata": {},
     "output_type": "execute_result"
    }
   ],
   "source": [
    "Boston_calendar.price.isna().sum()/len(Boston_calendar)*100"
   ]
  },
  {
   "cell_type": "markdown",
   "metadata": {},
   "source": [
    "50% of the prices are null. on the other hand, the date has an incorrect type."
   ]
  },
  {
   "cell_type": "code",
   "execution_count": 17,
   "metadata": {},
   "outputs": [
    {
     "data": {
      "text/html": [
       "<div>\n",
       "<style scoped>\n",
       "    .dataframe tbody tr th:only-of-type {\n",
       "        vertical-align: middle;\n",
       "    }\n",
       "\n",
       "    .dataframe tbody tr th {\n",
       "        vertical-align: top;\n",
       "    }\n",
       "\n",
       "    .dataframe thead th {\n",
       "        text-align: right;\n",
       "    }\n",
       "</style>\n",
       "<table border=\"1\" class=\"dataframe\">\n",
       "  <thead>\n",
       "    <tr style=\"text-align: right;\">\n",
       "      <th></th>\n",
       "      <th>id</th>\n",
       "      <th>listing_url</th>\n",
       "      <th>scrape_id</th>\n",
       "      <th>last_scraped</th>\n",
       "      <th>name</th>\n",
       "      <th>summary</th>\n",
       "      <th>space</th>\n",
       "      <th>description</th>\n",
       "      <th>experiences_offered</th>\n",
       "      <th>neighborhood_overview</th>\n",
       "      <th>...</th>\n",
       "      <th>review_scores_value</th>\n",
       "      <th>requires_license</th>\n",
       "      <th>license</th>\n",
       "      <th>jurisdiction_names</th>\n",
       "      <th>instant_bookable</th>\n",
       "      <th>cancellation_policy</th>\n",
       "      <th>require_guest_profile_picture</th>\n",
       "      <th>require_guest_phone_verification</th>\n",
       "      <th>calculated_host_listings_count</th>\n",
       "      <th>reviews_per_month</th>\n",
       "    </tr>\n",
       "  </thead>\n",
       "  <tbody>\n",
       "    <tr>\n",
       "      <th>0</th>\n",
       "      <td>12147973</td>\n",
       "      <td>https://www.airbnb.com/rooms/12147973</td>\n",
       "      <td>20160906204935</td>\n",
       "      <td>2016-09-07</td>\n",
       "      <td>Sunny Bungalow in the City</td>\n",
       "      <td>Cozy, sunny, family home.  Master bedroom high...</td>\n",
       "      <td>The house has an open and cozy feel at the sam...</td>\n",
       "      <td>Cozy, sunny, family home.  Master bedroom high...</td>\n",
       "      <td>none</td>\n",
       "      <td>Roslindale is quiet, convenient and friendly. ...</td>\n",
       "      <td>...</td>\n",
       "      <td>NaN</td>\n",
       "      <td>f</td>\n",
       "      <td>NaN</td>\n",
       "      <td>NaN</td>\n",
       "      <td>f</td>\n",
       "      <td>moderate</td>\n",
       "      <td>f</td>\n",
       "      <td>f</td>\n",
       "      <td>1</td>\n",
       "      <td>NaN</td>\n",
       "    </tr>\n",
       "    <tr>\n",
       "      <th>1</th>\n",
       "      <td>3075044</td>\n",
       "      <td>https://www.airbnb.com/rooms/3075044</td>\n",
       "      <td>20160906204935</td>\n",
       "      <td>2016-09-07</td>\n",
       "      <td>Charming room in pet friendly apt</td>\n",
       "      <td>Charming and quiet room in a second floor 1910...</td>\n",
       "      <td>Small but cozy and quite room with a full size...</td>\n",
       "      <td>Charming and quiet room in a second floor 1910...</td>\n",
       "      <td>none</td>\n",
       "      <td>The room is in Roslindale, a diverse and prima...</td>\n",
       "      <td>...</td>\n",
       "      <td>9.0</td>\n",
       "      <td>f</td>\n",
       "      <td>NaN</td>\n",
       "      <td>NaN</td>\n",
       "      <td>t</td>\n",
       "      <td>moderate</td>\n",
       "      <td>f</td>\n",
       "      <td>f</td>\n",
       "      <td>1</td>\n",
       "      <td>1.30</td>\n",
       "    </tr>\n",
       "    <tr>\n",
       "      <th>2</th>\n",
       "      <td>6976</td>\n",
       "      <td>https://www.airbnb.com/rooms/6976</td>\n",
       "      <td>20160906204935</td>\n",
       "      <td>2016-09-07</td>\n",
       "      <td>Mexican Folk Art Haven in Boston</td>\n",
       "      <td>Come stay with a friendly, middle-aged guy in ...</td>\n",
       "      <td>Come stay with a friendly, middle-aged guy in ...</td>\n",
       "      <td>Come stay with a friendly, middle-aged guy in ...</td>\n",
       "      <td>none</td>\n",
       "      <td>The LOCATION: Roslindale is a safe and diverse...</td>\n",
       "      <td>...</td>\n",
       "      <td>10.0</td>\n",
       "      <td>f</td>\n",
       "      <td>NaN</td>\n",
       "      <td>NaN</td>\n",
       "      <td>f</td>\n",
       "      <td>moderate</td>\n",
       "      <td>t</td>\n",
       "      <td>f</td>\n",
       "      <td>1</td>\n",
       "      <td>0.47</td>\n",
       "    </tr>\n",
       "    <tr>\n",
       "      <th>3</th>\n",
       "      <td>1436513</td>\n",
       "      <td>https://www.airbnb.com/rooms/1436513</td>\n",
       "      <td>20160906204935</td>\n",
       "      <td>2016-09-07</td>\n",
       "      <td>Spacious Sunny Bedroom Suite in Historic Home</td>\n",
       "      <td>Come experience the comforts of home away from...</td>\n",
       "      <td>Most places you find in Boston are small howev...</td>\n",
       "      <td>Come experience the comforts of home away from...</td>\n",
       "      <td>none</td>\n",
       "      <td>Roslindale is a lovely little neighborhood loc...</td>\n",
       "      <td>...</td>\n",
       "      <td>10.0</td>\n",
       "      <td>f</td>\n",
       "      <td>NaN</td>\n",
       "      <td>NaN</td>\n",
       "      <td>f</td>\n",
       "      <td>moderate</td>\n",
       "      <td>f</td>\n",
       "      <td>f</td>\n",
       "      <td>1</td>\n",
       "      <td>1.00</td>\n",
       "    </tr>\n",
       "    <tr>\n",
       "      <th>4</th>\n",
       "      <td>7651065</td>\n",
       "      <td>https://www.airbnb.com/rooms/7651065</td>\n",
       "      <td>20160906204935</td>\n",
       "      <td>2016-09-07</td>\n",
       "      <td>Come Home to Boston</td>\n",
       "      <td>My comfy, clean and relaxing home is one block...</td>\n",
       "      <td>Clean, attractive, private room, one block fro...</td>\n",
       "      <td>My comfy, clean and relaxing home is one block...</td>\n",
       "      <td>none</td>\n",
       "      <td>I love the proximity to downtown, the neighbor...</td>\n",
       "      <td>...</td>\n",
       "      <td>10.0</td>\n",
       "      <td>f</td>\n",
       "      <td>NaN</td>\n",
       "      <td>NaN</td>\n",
       "      <td>f</td>\n",
       "      <td>flexible</td>\n",
       "      <td>f</td>\n",
       "      <td>f</td>\n",
       "      <td>1</td>\n",
       "      <td>2.25</td>\n",
       "    </tr>\n",
       "  </tbody>\n",
       "</table>\n",
       "<p>5 rows × 95 columns</p>\n",
       "</div>"
      ],
      "text/plain": [
       "         id                            listing_url       scrape_id  \\\n",
       "0  12147973  https://www.airbnb.com/rooms/12147973  20160906204935   \n",
       "1   3075044   https://www.airbnb.com/rooms/3075044  20160906204935   \n",
       "2      6976      https://www.airbnb.com/rooms/6976  20160906204935   \n",
       "3   1436513   https://www.airbnb.com/rooms/1436513  20160906204935   \n",
       "4   7651065   https://www.airbnb.com/rooms/7651065  20160906204935   \n",
       "\n",
       "  last_scraped                                           name  \\\n",
       "0   2016-09-07                     Sunny Bungalow in the City   \n",
       "1   2016-09-07              Charming room in pet friendly apt   \n",
       "2   2016-09-07               Mexican Folk Art Haven in Boston   \n",
       "3   2016-09-07  Spacious Sunny Bedroom Suite in Historic Home   \n",
       "4   2016-09-07                            Come Home to Boston   \n",
       "\n",
       "                                             summary  \\\n",
       "0  Cozy, sunny, family home.  Master bedroom high...   \n",
       "1  Charming and quiet room in a second floor 1910...   \n",
       "2  Come stay with a friendly, middle-aged guy in ...   \n",
       "3  Come experience the comforts of home away from...   \n",
       "4  My comfy, clean and relaxing home is one block...   \n",
       "\n",
       "                                               space  \\\n",
       "0  The house has an open and cozy feel at the sam...   \n",
       "1  Small but cozy and quite room with a full size...   \n",
       "2  Come stay with a friendly, middle-aged guy in ...   \n",
       "3  Most places you find in Boston are small howev...   \n",
       "4  Clean, attractive, private room, one block fro...   \n",
       "\n",
       "                                         description experiences_offered  \\\n",
       "0  Cozy, sunny, family home.  Master bedroom high...                none   \n",
       "1  Charming and quiet room in a second floor 1910...                none   \n",
       "2  Come stay with a friendly, middle-aged guy in ...                none   \n",
       "3  Come experience the comforts of home away from...                none   \n",
       "4  My comfy, clean and relaxing home is one block...                none   \n",
       "\n",
       "                               neighborhood_overview  ... review_scores_value  \\\n",
       "0  Roslindale is quiet, convenient and friendly. ...  ...                 NaN   \n",
       "1  The room is in Roslindale, a diverse and prima...  ...                 9.0   \n",
       "2  The LOCATION: Roslindale is a safe and diverse...  ...                10.0   \n",
       "3  Roslindale is a lovely little neighborhood loc...  ...                10.0   \n",
       "4  I love the proximity to downtown, the neighbor...  ...                10.0   \n",
       "\n",
       "  requires_license license jurisdiction_names instant_bookable  \\\n",
       "0                f     NaN                NaN                f   \n",
       "1                f     NaN                NaN                t   \n",
       "2                f     NaN                NaN                f   \n",
       "3                f     NaN                NaN                f   \n",
       "4                f     NaN                NaN                f   \n",
       "\n",
       "  cancellation_policy require_guest_profile_picture  \\\n",
       "0            moderate                             f   \n",
       "1            moderate                             f   \n",
       "2            moderate                             t   \n",
       "3            moderate                             f   \n",
       "4            flexible                             f   \n",
       "\n",
       "  require_guest_phone_verification calculated_host_listings_count  \\\n",
       "0                                f                              1   \n",
       "1                                f                              1   \n",
       "2                                f                              1   \n",
       "3                                f                              1   \n",
       "4                                f                              1   \n",
       "\n",
       "   reviews_per_month  \n",
       "0                NaN  \n",
       "1               1.30  \n",
       "2               0.47  \n",
       "3               1.00  \n",
       "4               2.25  \n",
       "\n",
       "[5 rows x 95 columns]"
      ]
     },
     "execution_count": 17,
     "metadata": {},
     "output_type": "execute_result"
    }
   ],
   "source": [
    "Boston_listings.head()"
   ]
  },
  {
   "cell_type": "code",
   "execution_count": 18,
   "metadata": {},
   "outputs": [
    {
     "name": "stdout",
     "output_type": "stream",
     "text": [
      "<class 'pandas.core.frame.DataFrame'>\n",
      "RangeIndex: 3585 entries, 0 to 3584\n",
      "Data columns (total 95 columns):\n",
      " #   Column                            Non-Null Count  Dtype  \n",
      "---  ------                            --------------  -----  \n",
      " 0   id                                3585 non-null   int64  \n",
      " 1   listing_url                       3585 non-null   object \n",
      " 2   scrape_id                         3585 non-null   int64  \n",
      " 3   last_scraped                      3585 non-null   object \n",
      " 4   name                              3585 non-null   object \n",
      " 5   summary                           3442 non-null   object \n",
      " 6   space                             2528 non-null   object \n",
      " 7   description                       3585 non-null   object \n",
      " 8   experiences_offered               3585 non-null   object \n",
      " 9   neighborhood_overview             2170 non-null   object \n",
      " 10  notes                             1610 non-null   object \n",
      " 11  transit                           2295 non-null   object \n",
      " 12  access                            2096 non-null   object \n",
      " 13  interaction                       2031 non-null   object \n",
      " 14  house_rules                       2393 non-null   object \n",
      " 15  thumbnail_url                     2986 non-null   object \n",
      " 16  medium_url                        2986 non-null   object \n",
      " 17  picture_url                       3585 non-null   object \n",
      " 18  xl_picture_url                    2986 non-null   object \n",
      " 19  host_id                           3585 non-null   int64  \n",
      " 20  host_url                          3585 non-null   object \n",
      " 21  host_name                         3585 non-null   object \n",
      " 22  host_since                        3585 non-null   object \n",
      " 23  host_location                     3574 non-null   object \n",
      " 24  host_about                        2276 non-null   object \n",
      " 25  host_response_time                3114 non-null   object \n",
      " 26  host_response_rate                3114 non-null   object \n",
      " 27  host_acceptance_rate              3114 non-null   object \n",
      " 28  host_is_superhost                 3585 non-null   object \n",
      " 29  host_thumbnail_url                3585 non-null   object \n",
      " 30  host_picture_url                  3585 non-null   object \n",
      " 31  host_neighbourhood                3246 non-null   object \n",
      " 32  host_listings_count               3585 non-null   int64  \n",
      " 33  host_total_listings_count         3585 non-null   int64  \n",
      " 34  host_verifications                3585 non-null   object \n",
      " 35  host_has_profile_pic              3585 non-null   object \n",
      " 36  host_identity_verified            3585 non-null   object \n",
      " 37  street                            3585 non-null   object \n",
      " 38  neighbourhood                     3042 non-null   object \n",
      " 39  neighbourhood_cleansed            3585 non-null   object \n",
      " 40  neighbourhood_group_cleansed      0 non-null      float64\n",
      " 41  city                              3583 non-null   object \n",
      " 42  state                             3585 non-null   object \n",
      " 43  zipcode                           3547 non-null   object \n",
      " 44  market                            3571 non-null   object \n",
      " 45  smart_location                    3585 non-null   object \n",
      " 46  country_code                      3585 non-null   object \n",
      " 47  country                           3585 non-null   object \n",
      " 48  latitude                          3585 non-null   float64\n",
      " 49  longitude                         3585 non-null   float64\n",
      " 50  is_location_exact                 3585 non-null   object \n",
      " 51  property_type                     3582 non-null   object \n",
      " 52  room_type                         3585 non-null   object \n",
      " 53  accommodates                      3585 non-null   int64  \n",
      " 54  bathrooms                         3571 non-null   float64\n",
      " 55  bedrooms                          3575 non-null   float64\n",
      " 56  beds                              3576 non-null   float64\n",
      " 57  bed_type                          3585 non-null   object \n",
      " 58  amenities                         3585 non-null   object \n",
      " 59  square_feet                       56 non-null     float64\n",
      " 60  price                             3585 non-null   object \n",
      " 61  weekly_price                      892 non-null    object \n",
      " 62  monthly_price                     888 non-null    object \n",
      " 63  security_deposit                  1342 non-null   object \n",
      " 64  cleaning_fee                      2478 non-null   object \n",
      " 65  guests_included                   3585 non-null   int64  \n",
      " 66  extra_people                      3585 non-null   object \n",
      " 67  minimum_nights                    3585 non-null   int64  \n",
      " 68  maximum_nights                    3585 non-null   int64  \n",
      " 69  calendar_updated                  3585 non-null   object \n",
      " 70  has_availability                  0 non-null      float64\n",
      " 71  availability_30                   3585 non-null   int64  \n",
      " 72  availability_60                   3585 non-null   int64  \n",
      " 73  availability_90                   3585 non-null   int64  \n",
      " 74  availability_365                  3585 non-null   int64  \n",
      " 75  calendar_last_scraped             3585 non-null   object \n",
      " 76  number_of_reviews                 3585 non-null   int64  \n",
      " 77  first_review                      2829 non-null   object \n",
      " 78  last_review                       2829 non-null   object \n",
      " 79  review_scores_rating              2772 non-null   float64\n",
      " 80  review_scores_accuracy            2762 non-null   float64\n",
      " 81  review_scores_cleanliness         2767 non-null   float64\n",
      " 82  review_scores_checkin             2765 non-null   float64\n",
      " 83  review_scores_communication       2767 non-null   float64\n",
      " 84  review_scores_location            2763 non-null   float64\n",
      " 85  review_scores_value               2764 non-null   float64\n",
      " 86  requires_license                  3585 non-null   object \n",
      " 87  license                           0 non-null      float64\n",
      " 88  jurisdiction_names                0 non-null      float64\n",
      " 89  instant_bookable                  3585 non-null   object \n",
      " 90  cancellation_policy               3585 non-null   object \n",
      " 91  require_guest_profile_picture     3585 non-null   object \n",
      " 92  require_guest_phone_verification  3585 non-null   object \n",
      " 93  calculated_host_listings_count    3585 non-null   int64  \n",
      " 94  reviews_per_month                 2829 non-null   float64\n",
      "dtypes: float64(18), int64(15), object(62)\n",
      "memory usage: 2.6+ MB\n",
      "Boston listings:None\n"
     ]
    }
   ],
   "source": [
    "print (\"Boston listings:\" + str(Boston_listings.info()))"
   ]
  },
  {
   "cell_type": "code",
   "execution_count": 19,
   "metadata": {},
   "outputs": [],
   "source": [
    "most_missing_colsB = []\n",
    "for i in Boston_listings.columns:\n",
    "    if Boston_listings[i].isnull().sum()/len(Boston_listings[i])>0.75:\n",
    "        most_missing_colsB.append(i)"
   ]
  },
  {
   "cell_type": "code",
   "execution_count": 20,
   "metadata": {},
   "outputs": [
    {
     "data": {
      "text/plain": [
       "['neighbourhood_group_cleansed',\n",
       " 'square_feet',\n",
       " 'weekly_price',\n",
       " 'monthly_price',\n",
       " 'has_availability',\n",
       " 'license',\n",
       " 'jurisdiction_names']"
      ]
     },
     "execution_count": 20,
     "metadata": {},
     "output_type": "execute_result"
    }
   ],
   "source": [
    "most_missing_colsB"
   ]
  },
  {
   "cell_type": "markdown",
   "metadata": {},
   "source": [
    "The columns with most null values are: 'neighbourhood_group_cleansed','square_feet','weekly_price','monthly_price', 'has_availability', 'license',\n",
    " 'jurisdiction_names'. It is important to see if they will be delated or treated. For example if null values are set as 0 and the final number of columns should be the same as the Seattle_listing data.\n",
    " \n",
    " On the other hand, the columns with URLs, scrape ID,Last_scrapped  does not give important information to the analysis I will develop. Therefore this will be dalated.\n",
    "\n",
    "Price, weekly price, monthly price, security deposit, cleaning fee,  has the wrong datatype."
   ]
  },
  {
   "cell_type": "code",
   "execution_count": 21,
   "metadata": {},
   "outputs": [
    {
     "data": {
      "text/html": [
       "<div>\n",
       "<style scoped>\n",
       "    .dataframe tbody tr th:only-of-type {\n",
       "        vertical-align: middle;\n",
       "    }\n",
       "\n",
       "    .dataframe tbody tr th {\n",
       "        vertical-align: top;\n",
       "    }\n",
       "\n",
       "    .dataframe thead th {\n",
       "        text-align: right;\n",
       "    }\n",
       "</style>\n",
       "<table border=\"1\" class=\"dataframe\">\n",
       "  <thead>\n",
       "    <tr style=\"text-align: right;\">\n",
       "      <th></th>\n",
       "      <th>listing_id</th>\n",
       "      <th>id</th>\n",
       "      <th>date</th>\n",
       "      <th>reviewer_id</th>\n",
       "      <th>reviewer_name</th>\n",
       "      <th>comments</th>\n",
       "    </tr>\n",
       "  </thead>\n",
       "  <tbody>\n",
       "    <tr>\n",
       "      <th>0</th>\n",
       "      <td>1178162</td>\n",
       "      <td>4724140</td>\n",
       "      <td>2013-05-21</td>\n",
       "      <td>4298113</td>\n",
       "      <td>Olivier</td>\n",
       "      <td>My stay at islam's place was really cool! Good...</td>\n",
       "    </tr>\n",
       "    <tr>\n",
       "      <th>1</th>\n",
       "      <td>1178162</td>\n",
       "      <td>4869189</td>\n",
       "      <td>2013-05-29</td>\n",
       "      <td>6452964</td>\n",
       "      <td>Charlotte</td>\n",
       "      <td>Great location for both airport and city - gre...</td>\n",
       "    </tr>\n",
       "    <tr>\n",
       "      <th>2</th>\n",
       "      <td>1178162</td>\n",
       "      <td>5003196</td>\n",
       "      <td>2013-06-06</td>\n",
       "      <td>6449554</td>\n",
       "      <td>Sebastian</td>\n",
       "      <td>We really enjoyed our stay at Islams house. Fr...</td>\n",
       "    </tr>\n",
       "    <tr>\n",
       "      <th>3</th>\n",
       "      <td>1178162</td>\n",
       "      <td>5150351</td>\n",
       "      <td>2013-06-15</td>\n",
       "      <td>2215611</td>\n",
       "      <td>Marine</td>\n",
       "      <td>The room was nice and clean and so were the co...</td>\n",
       "    </tr>\n",
       "    <tr>\n",
       "      <th>4</th>\n",
       "      <td>1178162</td>\n",
       "      <td>5171140</td>\n",
       "      <td>2013-06-16</td>\n",
       "      <td>6848427</td>\n",
       "      <td>Andrew</td>\n",
       "      <td>Great location. Just 5 mins walk from the Airp...</td>\n",
       "    </tr>\n",
       "  </tbody>\n",
       "</table>\n",
       "</div>"
      ],
      "text/plain": [
       "   listing_id       id        date  reviewer_id reviewer_name  \\\n",
       "0     1178162  4724140  2013-05-21      4298113       Olivier   \n",
       "1     1178162  4869189  2013-05-29      6452964     Charlotte   \n",
       "2     1178162  5003196  2013-06-06      6449554     Sebastian   \n",
       "3     1178162  5150351  2013-06-15      2215611        Marine   \n",
       "4     1178162  5171140  2013-06-16      6848427        Andrew   \n",
       "\n",
       "                                            comments  \n",
       "0  My stay at islam's place was really cool! Good...  \n",
       "1  Great location for both airport and city - gre...  \n",
       "2  We really enjoyed our stay at Islams house. Fr...  \n",
       "3  The room was nice and clean and so were the co...  \n",
       "4  Great location. Just 5 mins walk from the Airp...  "
      ]
     },
     "execution_count": 21,
     "metadata": {},
     "output_type": "execute_result"
    }
   ],
   "source": [
    "Boston_reviews.head()"
   ]
  },
  {
   "cell_type": "code",
   "execution_count": 22,
   "metadata": {},
   "outputs": [
    {
     "name": "stdout",
     "output_type": "stream",
     "text": [
      "<class 'pandas.core.frame.DataFrame'>\n",
      "RangeIndex: 68275 entries, 0 to 68274\n",
      "Data columns (total 6 columns):\n",
      " #   Column         Non-Null Count  Dtype \n",
      "---  ------         --------------  ----- \n",
      " 0   listing_id     68275 non-null  int64 \n",
      " 1   id             68275 non-null  int64 \n",
      " 2   date           68275 non-null  object\n",
      " 3   reviewer_id    68275 non-null  int64 \n",
      " 4   reviewer_name  68275 non-null  object\n",
      " 5   comments       68222 non-null  object\n",
      "dtypes: int64(3), object(3)\n",
      "memory usage: 3.1+ MB\n",
      "Boston reviews:None\n"
     ]
    }
   ],
   "source": [
    "print (\"Boston reviews:\" + str(Boston_reviews.info()))"
   ]
  },
  {
   "cell_type": "markdown",
   "metadata": {},
   "source": [
    "**3.** Describe de information of each dataset."
   ]
  },
  {
   "cell_type": "code",
   "execution_count": 23,
   "metadata": {},
   "outputs": [
    {
     "data": {
      "text/plain": [
       "Index(['listing_id', 'id', 'date', 'reviewer_id', 'reviewer_name', 'comments'], dtype='object')"
      ]
     },
     "execution_count": 23,
     "metadata": {},
     "output_type": "execute_result"
    }
   ],
   "source": [
    "Seattle_reviews.columns"
   ]
  },
  {
   "cell_type": "code",
   "execution_count": 24,
   "metadata": {},
   "outputs": [
    {
     "data": {
      "text/plain": [
       "Index(['id', 'listing_url', 'scrape_id', 'last_scraped', 'name', 'summary',\n",
       "       'space', 'description', 'experiences_offered', 'neighborhood_overview',\n",
       "       'notes', 'transit', 'thumbnail_url', 'medium_url', 'picture_url',\n",
       "       'xl_picture_url', 'host_id', 'host_url', 'host_name', 'host_since',\n",
       "       'host_location', 'host_about', 'host_response_time',\n",
       "       'host_response_rate', 'host_acceptance_rate', 'host_is_superhost',\n",
       "       'host_thumbnail_url', 'host_picture_url', 'host_neighbourhood',\n",
       "       'host_listings_count', 'host_total_listings_count',\n",
       "       'host_verifications', 'host_has_profile_pic', 'host_identity_verified',\n",
       "       'street', 'neighbourhood', 'neighbourhood_cleansed',\n",
       "       'neighbourhood_group_cleansed', 'city', 'state', 'zipcode', 'market',\n",
       "       'smart_location', 'country_code', 'country', 'latitude', 'longitude',\n",
       "       'is_location_exact', 'property_type', 'room_type', 'accommodates',\n",
       "       'bathrooms', 'bedrooms', 'beds', 'bed_type', 'amenities', 'square_feet',\n",
       "       'price', 'weekly_price', 'monthly_price', 'security_deposit',\n",
       "       'cleaning_fee', 'guests_included', 'extra_people', 'minimum_nights',\n",
       "       'maximum_nights', 'calendar_updated', 'has_availability',\n",
       "       'availability_30', 'availability_60', 'availability_90',\n",
       "       'availability_365', 'calendar_last_scraped', 'number_of_reviews',\n",
       "       'first_review', 'last_review', 'review_scores_rating',\n",
       "       'review_scores_accuracy', 'review_scores_cleanliness',\n",
       "       'review_scores_checkin', 'review_scores_communication',\n",
       "       'review_scores_location', 'review_scores_value', 'requires_license',\n",
       "       'license', 'jurisdiction_names', 'instant_bookable',\n",
       "       'cancellation_policy', 'require_guest_profile_picture',\n",
       "       'require_guest_phone_verification', 'calculated_host_listings_count',\n",
       "       'reviews_per_month'],\n",
       "      dtype='object')"
      ]
     },
     "execution_count": 24,
     "metadata": {},
     "output_type": "execute_result"
    }
   ],
   "source": [
    "Seattle_listings.columns"
   ]
  },
  {
   "cell_type": "code",
   "execution_count": 25,
   "metadata": {},
   "outputs": [
    {
     "data": {
      "text/plain": [
       "Index(['listing_id', 'date', 'available', 'price'], dtype='object')"
      ]
     },
     "execution_count": 25,
     "metadata": {},
     "output_type": "execute_result"
    }
   ],
   "source": [
    "Seattle_calendar.columns"
   ]
  },
  {
   "cell_type": "code",
   "execution_count": 26,
   "metadata": {},
   "outputs": [
    {
     "data": {
      "text/plain": [
       "Index(['listing_id', 'date', 'available', 'price'], dtype='object')"
      ]
     },
     "execution_count": 26,
     "metadata": {},
     "output_type": "execute_result"
    }
   ],
   "source": [
    "Boston_calendar.columns"
   ]
  },
  {
   "cell_type": "code",
   "execution_count": 27,
   "metadata": {},
   "outputs": [
    {
     "data": {
      "text/plain": [
       "Index(['id', 'listing_url', 'scrape_id', 'last_scraped', 'name', 'summary',\n",
       "       'space', 'description', 'experiences_offered', 'neighborhood_overview',\n",
       "       'notes', 'transit', 'access', 'interaction', 'house_rules',\n",
       "       'thumbnail_url', 'medium_url', 'picture_url', 'xl_picture_url',\n",
       "       'host_id', 'host_url', 'host_name', 'host_since', 'host_location',\n",
       "       'host_about', 'host_response_time', 'host_response_rate',\n",
       "       'host_acceptance_rate', 'host_is_superhost', 'host_thumbnail_url',\n",
       "       'host_picture_url', 'host_neighbourhood', 'host_listings_count',\n",
       "       'host_total_listings_count', 'host_verifications',\n",
       "       'host_has_profile_pic', 'host_identity_verified', 'street',\n",
       "       'neighbourhood', 'neighbourhood_cleansed',\n",
       "       'neighbourhood_group_cleansed', 'city', 'state', 'zipcode', 'market',\n",
       "       'smart_location', 'country_code', 'country', 'latitude', 'longitude',\n",
       "       'is_location_exact', 'property_type', 'room_type', 'accommodates',\n",
       "       'bathrooms', 'bedrooms', 'beds', 'bed_type', 'amenities', 'square_feet',\n",
       "       'price', 'weekly_price', 'monthly_price', 'security_deposit',\n",
       "       'cleaning_fee', 'guests_included', 'extra_people', 'minimum_nights',\n",
       "       'maximum_nights', 'calendar_updated', 'has_availability',\n",
       "       'availability_30', 'availability_60', 'availability_90',\n",
       "       'availability_365', 'calendar_last_scraped', 'number_of_reviews',\n",
       "       'first_review', 'last_review', 'review_scores_rating',\n",
       "       'review_scores_accuracy', 'review_scores_cleanliness',\n",
       "       'review_scores_checkin', 'review_scores_communication',\n",
       "       'review_scores_location', 'review_scores_value', 'requires_license',\n",
       "       'license', 'jurisdiction_names', 'instant_bookable',\n",
       "       'cancellation_policy', 'require_guest_profile_picture',\n",
       "       'require_guest_phone_verification', 'calculated_host_listings_count',\n",
       "       'reviews_per_month'],\n",
       "      dtype='object')"
      ]
     },
     "execution_count": 27,
     "metadata": {},
     "output_type": "execute_result"
    }
   ],
   "source": [
    "Boston_listings.columns"
   ]
  },
  {
   "cell_type": "code",
   "execution_count": 28,
   "metadata": {},
   "outputs": [
    {
     "data": {
      "text/plain": [
       "Index(['listing_id', 'id', 'date', 'reviewer_id', 'reviewer_name', 'comments'], dtype='object')"
      ]
     },
     "execution_count": 28,
     "metadata": {},
     "output_type": "execute_result"
    }
   ],
   "source": [
    "Boston_reviews.columns"
   ]
  },
  {
   "cell_type": "code",
   "execution_count": 29,
   "metadata": {},
   "outputs": [
    {
     "data": {
      "image/png": "[encoded data removed]",
      "text/plain": [
       "<Figure size 432x288 with 1 Axes>"
      ]
     },
     "metadata": {
      "needs_background": "light"
     },
     "output_type": "display_data"
    }
   ],
   "source": [
    "ed_vals = Seattle_listings.review_scores_accuracy.value_counts()#Provide a pandas series of the counts for each review score\n",
    "\n",
    "# The below should be a bar chart of the proportion of individuals in your ed_vals\n",
    "# if it is set up correctly.\n",
    "\n",
    "(ed_vals/Seattle_listings.shape[0]).plot(kind=\"bar\");\n",
    "plt.title(\"Seattle accuracy review scores rating\");"
   ]
  },
  {
   "cell_type": "code",
   "execution_count": 30,
   "metadata": {},
   "outputs": [
    {
     "data": {
      "image/png": "[encoded data removed]",
      "text/plain": [
       "<Figure size 432x288 with 1 Axes>"
      ]
     },
     "metadata": {
      "needs_background": "light"
     },
     "output_type": "display_data"
    }
   ],
   "source": [
    "ed_vals = Boston_listings.review_scores_accuracy.value_counts()#Provide a pandas series of the counts for each review score\n",
    "\n",
    "# The below should be a bar chart of the proportion of individuals in your ed_vals\n",
    "# if it is set up correctly.\n",
    "\n",
    "(ed_vals/Boston_listings.shape[0]).plot(kind=\"bar\");\n",
    "plt.title(\"Boston accuracy review scores rating\");"
   ]
  },
  {
   "cell_type": "markdown",
   "metadata": {},
   "source": [
    "The accuracy reviews between both cities are similar. However, we can find that Seattles scores are slightly better."
   ]
  },
  {
   "cell_type": "code",
   "execution_count": 31,
   "metadata": {},
   "outputs": [
    {
     "data": {
      "image/png": "[encoded data removed]",
      "text/plain": [
       "<Figure size 432x288 with 1 Axes>"
      ]
     },
     "metadata": {
      "needs_background": "light"
     },
     "output_type": "display_data"
    }
   ],
   "source": [
    "ed_vals = Seattle_listings.review_scores_cleanliness.value_counts()#Provide a pandas series of the counts for each review score\n",
    "\n",
    "# The below should be a bar chart of the proportion of individuals in your ed_vals\n",
    "# if it is set up correctly.\n",
    "\n",
    "(ed_vals/Seattle_listings.shape[0]).plot(kind=\"bar\");\n",
    "plt.title(\"Seattle cleanliness review scores rating\");"
   ]
  },
  {
   "cell_type": "code",
   "execution_count": 32,
   "metadata": {},
   "outputs": [
    {
     "data": {
      "image/png": "[encoded data removed]",
      "text/plain": [
       "<Figure size 432x288 with 1 Axes>"
      ]
     },
     "metadata": {
      "needs_background": "light"
     },
     "output_type": "display_data"
    }
   ],
   "source": [
    "ed_vals = Boston_listings.review_scores_cleanliness.value_counts()#Provide a pandas series of the counts for each review score\n",
    "\n",
    "# The below should be a bar chart of the proportion of individuals in your ed_vals\n",
    "# if it is set up correctly.\n",
    "\n",
    "(ed_vals/Boston_listings.shape[0]).plot(kind=\"bar\");\n",
    "plt.title(\"Boston cleanliness review scores rating\");\n"
   ]
  },
  {
   "cell_type": "markdown",
   "metadata": {},
   "source": [
    "Seattle is has a little bit better scores in cleanliness."
   ]
  },
  {
   "cell_type": "code",
   "execution_count": 33,
   "metadata": {},
   "outputs": [
    {
     "data": {
      "image/png": "[encoded data removed]",
      "text/plain": [
       "<Figure size 432x288 with 1 Axes>"
      ]
     },
     "metadata": {
      "needs_background": "light"
     },
     "output_type": "display_data"
    }
   ],
   "source": [
    "ed_vals = Seattle_listings.review_scores_checkin.value_counts()#Provide a pandas series of the counts for each review score\n",
    "\n",
    "# The below should be a bar chart of the proportion of individuals in your ed_vals\n",
    "# if it is set up correctly.\n",
    "\n",
    "(ed_vals/Seattle_listings.shape[0]).plot(kind=\"bar\");\n",
    "plt.title(\"Seattle Checkin review scores rating\");"
   ]
  },
  {
   "cell_type": "code",
   "execution_count": 34,
   "metadata": {},
   "outputs": [
    {
     "data": {
      "image/png": "[encoded data removed]",
      "text/plain": [
       "<Figure size 432x288 with 1 Axes>"
      ]
     },
     "metadata": {
      "needs_background": "light"
     },
     "output_type": "display_data"
    }
   ],
   "source": [
    "ed_vals = Boston_listings.review_scores_checkin.value_counts()#Provide a pandas series of the counts for each review score\n",
    "\n",
    "# The below should be a bar chart of the proportion of individuals in your ed_vals\n",
    "# if it is set up correctly.\n",
    "\n",
    "(ed_vals/Boston_listings.shape[0]).plot(kind=\"bar\");\n",
    "plt.title(\"Boston Checkin review scores rating\");"
   ]
  },
  {
   "cell_type": "code",
   "execution_count": 35,
   "metadata": {},
   "outputs": [
    {
     "data": {
      "image/png": "[encoded data removed]",
      "text/plain": [
       "<Figure size 432x288 with 1 Axes>"
      ]
     },
     "metadata": {
      "needs_background": "light"
     },
     "output_type": "display_data"
    }
   ],
   "source": [
    "ed_vals = Seattle_listings.review_scores_value.value_counts()#Provide a pandas series of the counts for each review score\n",
    "\n",
    "# The below should be a bar chart of the proportion of individuals in your ed_vals\n",
    "# if it is set up correctly.\n",
    "\n",
    "(ed_vals/Seattle_listings.shape[0]).plot(kind=\"bar\");\n",
    "plt.title(\"Seattle review scores rating\");"
   ]
  },
  {
   "cell_type": "code",
   "execution_count": 36,
   "metadata": {},
   "outputs": [
    {
     "data": {
      "image/png": "[encoded data removed]",
      "text/plain": [
       "<Figure size 432x288 with 1 Axes>"
      ]
     },
     "metadata": {
      "needs_background": "light"
     },
     "output_type": "display_data"
    }
   ],
   "source": [
    "ed_vals = Boston_listings.review_scores_communication.value_counts()#Provide a pandas series of the counts for each review score\n",
    "\n",
    "# The below should be a bar chart of the proportion of individuals in your ed_vals\n",
    "# if it is set up correctly.\n",
    "\n",
    "(ed_vals/Boston_listings.shape[0]).plot(kind=\"bar\");\n",
    "plt.title(\"Boston Communication review scores rating\");"
   ]
  },
  {
   "cell_type": "code",
   "execution_count": 37,
   "metadata": {},
   "outputs": [
    {
     "data": {
      "image/png": "[encoded data removed]",
      "text/plain": [
       "<Figure size 432x288 with 1 Axes>"
      ]
     },
     "metadata": {
      "needs_background": "light"
     },
     "output_type": "display_data"
    }
   ],
   "source": [
    "ed_vals = Seattle_listings.review_scores_location.value_counts()#Provide a pandas series of the counts for each review score\n",
    "\n",
    "# The below should be a bar chart of the proportion of individuals in your ed_vals\n",
    "# if it is set up correctly.\n",
    "\n",
    "(ed_vals/Seattle_listings.shape[0]).plot(kind=\"bar\");\n",
    "plt.title(\"Seattle Location review scores rating\");"
   ]
  },
  {
   "cell_type": "code",
   "execution_count": 38,
   "metadata": {},
   "outputs": [
    {
     "data": {
      "image/png": "[encoded data removed]",
      "text/plain": [
       "<Figure size 432x288 with 1 Axes>"
      ]
     },
     "metadata": {
      "needs_background": "light"
     },
     "output_type": "display_data"
    }
   ],
   "source": [
    "ed_vals = Boston_listings.review_scores_location.value_counts()#Provide a pandas series of the counts for each review score\n",
    "\n",
    "# The below should be a bar chart of the proportion of individuals in your ed_vals\n",
    "# if it is set up correctly.\n",
    "\n",
    "(ed_vals/Boston_listings.shape[0]).plot(kind=\"bar\");\n",
    "plt.title(\"Boston Location review scores rating\");"
   ]
  },
  {
   "cell_type": "code",
   "execution_count": 39,
   "metadata": {},
   "outputs": [
    {
     "data": {
      "image/png": "[encoded data removed]",
      "text/plain": [
       "<Figure size 432x288 with 1 Axes>"
      ]
     },
     "metadata": {
      "needs_background": "light"
     },
     "output_type": "display_data"
    }
   ],
   "source": [
    "ed_vals = Seattle_listings.review_scores_value.value_counts()#Provide a pandas series of the counts for each review score\n",
    "\n",
    "# The below should be a bar chart of the proportion of individuals in your ed_vals\n",
    "# if it is set up correctly.\n",
    "\n",
    "(ed_vals/Seattle_listings.shape[0]).plot(kind=\"bar\");\n",
    "plt.title(\"Seattle review scores rating\");"
   ]
  },
  {
   "cell_type": "code",
   "execution_count": 40,
   "metadata": {},
   "outputs": [
    {
     "data": {
      "image/png": "[encoded data removed]",
      "text/plain": [
       "<Figure size 432x288 with 1 Axes>"
      ]
     },
     "metadata": {
      "needs_background": "light"
     },
     "output_type": "display_data"
    }
   ],
   "source": [
    "ed_vals = Boston_listings.review_scores_value.value_counts()#Provide a pandas series of the counts for each review score\n",
    "\n",
    "# The below should be a bar chart of the proportion of individuals in your ed_vals\n",
    "# if it is set up correctly.\n",
    "\n",
    "(ed_vals/Boston_listings.shape[0]).plot(kind=\"bar\");\n",
    "plt.title(\"Boston review scores rating\");"
   ]
  },
  {
   "cell_type": "markdown",
   "metadata": {},
   "source": [
    "In general, Seattle has slightly better reviews scores in all elements."
   ]
  },
  {
   "cell_type": "code",
   "execution_count": 41,
   "metadata": {},
   "outputs": [
    {
     "data": {
      "text/html": [
       "<div>\n",
       "<style scoped>\n",
       "    .dataframe tbody tr th:only-of-type {\n",
       "        vertical-align: middle;\n",
       "    }\n",
       "\n",
       "    .dataframe tbody tr th {\n",
       "        vertical-align: top;\n",
       "    }\n",
       "\n",
       "    .dataframe thead th {\n",
       "        text-align: right;\n",
       "    }\n",
       "</style>\n",
       "<table border=\"1\" class=\"dataframe\">\n",
       "  <thead>\n",
       "    <tr style=\"text-align: right;\">\n",
       "      <th></th>\n",
       "      <th>listing_id</th>\n",
       "      <th>date</th>\n",
       "      <th>available</th>\n",
       "      <th>price</th>\n",
       "    </tr>\n",
       "  </thead>\n",
       "  <tbody>\n",
       "    <tr>\n",
       "      <th>0</th>\n",
       "      <td>241032</td>\n",
       "      <td>2016-01-04</td>\n",
       "      <td>t</td>\n",
       "      <td>$85.00</td>\n",
       "    </tr>\n",
       "    <tr>\n",
       "      <th>1</th>\n",
       "      <td>241032</td>\n",
       "      <td>2016-01-05</td>\n",
       "      <td>t</td>\n",
       "      <td>$85.00</td>\n",
       "    </tr>\n",
       "    <tr>\n",
       "      <th>2</th>\n",
       "      <td>241032</td>\n",
       "      <td>2016-01-06</td>\n",
       "      <td>f</td>\n",
       "      <td>NaN</td>\n",
       "    </tr>\n",
       "    <tr>\n",
       "      <th>3</th>\n",
       "      <td>241032</td>\n",
       "      <td>2016-01-07</td>\n",
       "      <td>f</td>\n",
       "      <td>NaN</td>\n",
       "    </tr>\n",
       "    <tr>\n",
       "      <th>4</th>\n",
       "      <td>241032</td>\n",
       "      <td>2016-01-08</td>\n",
       "      <td>f</td>\n",
       "      <td>NaN</td>\n",
       "    </tr>\n",
       "  </tbody>\n",
       "</table>\n",
       "</div>"
      ],
      "text/plain": [
       "   listing_id        date available   price\n",
       "0      241032  2016-01-04         t  $85.00\n",
       "1      241032  2016-01-05         t  $85.00\n",
       "2      241032  2016-01-06         f     NaN\n",
       "3      241032  2016-01-07         f     NaN\n",
       "4      241032  2016-01-08         f     NaN"
      ]
     },
     "execution_count": 41,
     "metadata": {},
     "output_type": "execute_result"
    }
   ],
   "source": [
    "Seattle_calendar.head()"
   ]
  },
  {
   "cell_type": "code",
   "execution_count": 42,
   "metadata": {},
   "outputs": [
    {
     "data": {
      "image/png": "[encoded data removed]",
      "text/plain": [
       "<Figure size 432x288 with 1 Axes>"
      ]
     },
     "metadata": {
      "needs_background": "light"
     },
     "output_type": "display_data"
    }
   ],
   "source": [
    "ed_vals = Seattle_calendar.available.value_counts()#Provide a pandas series of the counts for each review score\n",
    "\n",
    "# The below should be a bar chart of the proportion of individuals in your ed_vals\n",
    "# if it is set up correctly.\n",
    "\n",
    "(ed_vals/Boston_listings.shape[0]).plot(kind=\"bar\");\n",
    "plt.title(\"Seattle availability scores rating\");"
   ]
  },
  {
   "cell_type": "code",
   "execution_count": 43,
   "metadata": {},
   "outputs": [
    {
     "data": {
      "image/png": "[encoded data removed]",
      "text/plain": [
       "<Figure size 432x288 with 1 Axes>"
      ]
     },
     "metadata": {
      "needs_background": "light"
     },
     "output_type": "display_data"
    }
   ],
   "source": [
    "ed_vals = Boston_calendar.available.value_counts()#Provide a pandas series of the counts for each review score\n",
    "\n",
    "# The below should be a bar chart of the proportion of individuals in your ed_vals\n",
    "# if it is set up correctly.\n",
    "\n",
    "(ed_vals/Boston_listings.shape[0]).plot(kind=\"bar\");\n",
    "plt.title(\"Boston availability scores rating\");"
   ]
  },
  {
   "cell_type": "markdown",
   "metadata": {},
   "source": [
    "## General Findigs\n",
    "<br><b>Seattle calendar</b></br>\n",
    "<br> * 33.94% of the Seattle price values are null.</br>\n",
    "<br> * The date in Seattle price is type object and not date. The data type need to be changed. Something similar occurs with price which type is object. This data type needs to be changed.</br>\n",
    "<br><b>Seattle listings</b></br>\n",
    "<br> * The columns that have more than 75% of missing values in seattle listings are square_feet and license. Therefore, those columns are going to be deleted.</br>\n",
    "<br> * On the other hand, the listink URL does not give important information to the analysis I will develop. Therefore this will be delated.</br>\n",
    "<br> * Price, weekly price, monthly price, security deposit, cleaning fee,  has the wrong datatype.</br>\n",
    "<br><b>Seattle reviews</b></br>\n",
    "<br> * The date type needs to be changed because it appears as an object.</br>\n",
    "<br><b>Boston calendar</b></br>\n",
    "<br> * 50% of the prices are null. on the other hand, the date has an incorrect type.</br>\n",
    "<br><b>Boston listings</b></br>\n",
    "<br> * The columns with most null values are: 'neighbourhood_group_cleansed','square_feet','weekly_price','monthly_price', 'has_availability', 'license',\n",
    " 'jurisdiction_names'. It is important to see if they will be delated or treated. For example if null values are set as 0 and the final number of columns should be the same as the Seattle_listing data.</br>\n",
    "<br> * On the other hand, the listink URL does not give important information to the analysis I will develop. Therefore this will be delated.</br>\n",
    "<br> * Price, weekly price, monthly price, security deposit, cleaning fee,  has the wrong datatype.</br>\n",
    "<br><b>Boston reviews</b></br>\n",
    "<br> * The date type needs to be changed because it appears as an object.</br>\n",
    "<br><b>General</b></br>\n",
    "<br> * There should be one dataset for each dimension and one for the facts regardless the city</br>\n",
    "<br> * Dimensional and fact tables should be linked by a key</br>\n",
    "<br> * In all the dimensions, Seattle has has slightly better ratings than Boston </br>"
   ]
  },
  {
   "cell_type": "markdown",
   "metadata": {},
   "source": [
    "## Data preparation"
   ]
  },
  {
   "cell_type": "markdown",
   "metadata": {},
   "source": [
    "* 33,94% of seattle price values are null and 50% of Boston prices are null\n",
    "This is due to the fact that when the place is not available, the price appears as null"
   ]
  },
  {
   "cell_type": "code",
   "execution_count": 44,
   "metadata": {},
   "outputs": [],
   "source": [
    "available_Seattle=Seattle_calendar[Seattle_calendar['available']==\"t\"]"
   ]
  },
  {
   "cell_type": "code",
   "execution_count": 45,
   "metadata": {},
   "outputs": [
    {
     "data": {
      "text/plain": [
       "False    934542\n",
       "Name: price, dtype: int64"
      ]
     },
     "execution_count": 45,
     "metadata": {},
     "output_type": "execute_result"
    }
   ],
   "source": [
    "available_Seattle.price.isnull().value_counts()"
   ]
  },
  {
   "cell_type": "code",
   "execution_count": 46,
   "metadata": {},
   "outputs": [],
   "source": [
    "available_Boston=Boston_calendar[Boston_calendar['available']==\"t\"]"
   ]
  },
  {
   "cell_type": "code",
   "execution_count": 47,
   "metadata": {},
   "outputs": [
    {
     "data": {
      "text/plain": [
       "False    643037\n",
       "Name: price, dtype: int64"
      ]
     },
     "execution_count": 47,
     "metadata": {},
     "output_type": "execute_result"
    }
   ],
   "source": [
    "available_Boston.price.isnull().value_counts()"
   ]
  },
  {
   "cell_type": "markdown",
   "metadata": {},
   "source": [
    "* Boston and seattle dates have incorrect date format"
   ]
  },
  {
   "cell_type": "code",
   "execution_count": 48,
   "metadata": {},
   "outputs": [],
   "source": [
    "Seattle_calendar2=Seattle_calendar.copy()"
   ]
  },
  {
   "cell_type": "code",
   "execution_count": 49,
   "metadata": {},
   "outputs": [],
   "source": [
    "Seattle_calendar2['date']=pd.to_datetime(Seattle_calendar2['date'])"
   ]
  },
  {
   "cell_type": "code",
   "execution_count": 50,
   "metadata": {},
   "outputs": [],
   "source": [
    "Boston_calendar2=Boston_calendar.copy()"
   ]
  },
  {
   "cell_type": "code",
   "execution_count": 51,
   "metadata": {},
   "outputs": [],
   "source": [
    "Boston_calendar2['date']=pd.to_datetime(Boston_calendar2['date'])"
   ]
  },
  {
   "cell_type": "markdown",
   "metadata": {},
   "source": [
    "* Seattle and Boston prie appear as object"
   ]
  },
  {
   "cell_type": "code",
   "execution_count": 52,
   "metadata": {},
   "outputs": [],
   "source": [
    "Seattle_calendar2['price'] = Seattle_calendar2['price'].apply(lambda x: str.replace(str(x),\"$\",\"\"))\n",
    "Seattle_calendar2['price'] = Seattle_calendar2['price'].apply(lambda x: str.replace(str(x),\",\",\"\"))"
   ]
  },
  {
   "cell_type": "code",
   "execution_count": 53,
   "metadata": {},
   "outputs": [
    {
     "data": {
      "text/html": [
       "<div>\n",
       "<style scoped>\n",
       "    .dataframe tbody tr th:only-of-type {\n",
       "        vertical-align: middle;\n",
       "    }\n",
       "\n",
       "    .dataframe tbody tr th {\n",
       "        vertical-align: top;\n",
       "    }\n",
       "\n",
       "    .dataframe thead th {\n",
       "        text-align: right;\n",
       "    }\n",
       "</style>\n",
       "<table border=\"1\" class=\"dataframe\">\n",
       "  <thead>\n",
       "    <tr style=\"text-align: right;\">\n",
       "      <th></th>\n",
       "      <th>listing_id</th>\n",
       "      <th>date</th>\n",
       "      <th>available</th>\n",
       "      <th>price</th>\n",
       "    </tr>\n",
       "  </thead>\n",
       "  <tbody>\n",
       "    <tr>\n",
       "      <th>0</th>\n",
       "      <td>241032</td>\n",
       "      <td>2016-01-04</td>\n",
       "      <td>t</td>\n",
       "      <td>85.00</td>\n",
       "    </tr>\n",
       "    <tr>\n",
       "      <th>1</th>\n",
       "      <td>241032</td>\n",
       "      <td>2016-01-05</td>\n",
       "      <td>t</td>\n",
       "      <td>85.00</td>\n",
       "    </tr>\n",
       "    <tr>\n",
       "      <th>2</th>\n",
       "      <td>241032</td>\n",
       "      <td>2016-01-06</td>\n",
       "      <td>f</td>\n",
       "      <td>nan</td>\n",
       "    </tr>\n",
       "    <tr>\n",
       "      <th>3</th>\n",
       "      <td>241032</td>\n",
       "      <td>2016-01-07</td>\n",
       "      <td>f</td>\n",
       "      <td>nan</td>\n",
       "    </tr>\n",
       "    <tr>\n",
       "      <th>4</th>\n",
       "      <td>241032</td>\n",
       "      <td>2016-01-08</td>\n",
       "      <td>f</td>\n",
       "      <td>nan</td>\n",
       "    </tr>\n",
       "  </tbody>\n",
       "</table>\n",
       "</div>"
      ],
      "text/plain": [
       "   listing_id       date available  price\n",
       "0      241032 2016-01-04         t  85.00\n",
       "1      241032 2016-01-05         t  85.00\n",
       "2      241032 2016-01-06         f    nan\n",
       "3      241032 2016-01-07         f    nan\n",
       "4      241032 2016-01-08         f    nan"
      ]
     },
     "execution_count": 53,
     "metadata": {},
     "output_type": "execute_result"
    }
   ],
   "source": [
    "Seattle_calendar2.head()"
   ]
  },
  {
   "cell_type": "code",
   "execution_count": 54,
   "metadata": {},
   "outputs": [],
   "source": [
    "Seattle_calendar2['price']=Seattle_calendar2['price'].astype(float)"
   ]
  },
  {
   "cell_type": "code",
   "execution_count": 55,
   "metadata": {},
   "outputs": [],
   "source": [
    "Boston_calendar2['price']=Boston_calendar2['price'].apply(lambda x: str.replace(str(x),\"$\",\"\"))\n",
    "Boston_calendar2['price']=Boston_calendar2['price'].apply(lambda x: str.replace(str(x),\",\",\"\"))"
   ]
  },
  {
   "cell_type": "code",
   "execution_count": 56,
   "metadata": {},
   "outputs": [],
   "source": [
    "Boston_calendar2['price']=Boston_calendar2['price'].astype(float)"
   ]
  },
  {
   "cell_type": "code",
   "execution_count": 57,
   "metadata": {},
   "outputs": [
    {
     "name": "stdout",
     "output_type": "stream",
     "text": [
      "<class 'pandas.core.frame.DataFrame'>\n",
      "RangeIndex: 1393570 entries, 0 to 1393569\n",
      "Data columns (total 4 columns):\n",
      " #   Column      Non-Null Count    Dtype         \n",
      "---  ------      --------------    -----         \n",
      " 0   listing_id  1393570 non-null  int64         \n",
      " 1   date        1393570 non-null  datetime64[ns]\n",
      " 2   available   1393570 non-null  object        \n",
      " 3   price       934542 non-null   float64       \n",
      "dtypes: datetime64[ns](1), float64(1), int64(1), object(1)\n",
      "memory usage: 42.5+ MB\n",
      "None\n",
      "<class 'pandas.core.frame.DataFrame'>\n",
      "RangeIndex: 1308890 entries, 0 to 1308889\n",
      "Data columns (total 4 columns):\n",
      " #   Column      Non-Null Count    Dtype         \n",
      "---  ------      --------------    -----         \n",
      " 0   listing_id  1308890 non-null  int64         \n",
      " 1   date        1308890 non-null  datetime64[ns]\n",
      " 2   available   1308890 non-null  object        \n",
      " 3   price       643037 non-null   float64       \n",
      "dtypes: datetime64[ns](1), float64(1), int64(1), object(1)\n",
      "memory usage: 39.9+ MB\n",
      "None\n"
     ]
    }
   ],
   "source": [
    "# Lets proove the change was made\n",
    "print(Seattle_calendar2.info())\n",
    "print(Boston_calendar2.info())"
   ]
  },
  {
   "cell_type": "markdown",
   "metadata": {},
   "source": [
    "* Select the columns to analyze"
   ]
  },
  {
   "cell_type": "code",
   "execution_count": 58,
   "metadata": {},
   "outputs": [],
   "source": [
    "Seattle_listings2=Seattle_listings[['id', 'summary',\n",
    "       'space', 'description', 'experiences_offered', 'neighborhood_overview',\n",
    "       'notes', 'transit', 'host_id','host_about', 'host_response_time',\n",
    "       'host_response_rate', 'host_acceptance_rate', 'host_is_superhost',\n",
    "       'host_neighbourhood', 'host_listings_count', \n",
    "       'host_has_profile_pic', 'host_identity_verified',\n",
    "       'market',\n",
    "       'is_location_exact', 'property_type', 'room_type', 'accommodates',\n",
    "       'bathrooms', 'bedrooms', 'beds', 'bed_type', 'amenities', 'price', 'weekly_price', 'monthly_price', 'security_deposit',\n",
    "       'cleaning_fee', 'guests_included', 'extra_people', 'minimum_nights',\n",
    "       'maximum_nights', 'calendar_updated', 'has_availability',\n",
    "       'availability_30', 'availability_60', 'availability_90',\n",
    "       'availability_365', 'number_of_reviews', 'review_scores_cleanliness',\n",
    "       'review_scores_checkin', 'review_scores_communication',\n",
    "       'review_scores_location', 'review_scores_value', 'requires_license', 'instant_bookable',\n",
    "       'cancellation_policy', 'require_guest_profile_picture',\n",
    "       'require_guest_phone_verification', \n",
    "       'reviews_per_month']].copy()"
   ]
  },
  {
   "cell_type": "markdown",
   "metadata": {},
   "source": [
    "market define if it is Seattle and city the subdivision. Country is allways United States, therefore it will be delated."
   ]
  },
  {
   "cell_type": "code",
   "execution_count": 59,
   "metadata": {},
   "outputs": [],
   "source": [
    "# The same columns will be selected to Boston in order to be able to compare both cities\n",
    "Boston_listings2=Boston_listings[['id', 'summary',\n",
    "       'space', 'description', 'experiences_offered', 'neighborhood_overview',\n",
    "       'notes', 'transit', 'host_id','host_about', 'host_response_time',\n",
    "       'host_response_rate', 'host_acceptance_rate', 'host_is_superhost',\n",
    "       'host_neighbourhood', 'host_listings_count', \n",
    "       'host_has_profile_pic', 'host_identity_verified',\n",
    "       'market',\n",
    "       'is_location_exact', 'property_type', 'room_type', 'accommodates',\n",
    "       'bathrooms', 'bedrooms', 'beds', 'bed_type', 'amenities', 'price', 'weekly_price', 'monthly_price', 'security_deposit',\n",
    "       'cleaning_fee', 'guests_included', 'extra_people', 'minimum_nights',\n",
    "       'maximum_nights', 'calendar_updated', 'has_availability',\n",
    "       'availability_30', 'availability_60', 'availability_90',\n",
    "       'availability_365', 'number_of_reviews', 'review_scores_cleanliness',\n",
    "       'review_scores_checkin', 'review_scores_communication',\n",
    "       'review_scores_location', 'review_scores_value', 'requires_license', 'instant_bookable',\n",
    "       'cancellation_policy', 'require_guest_profile_picture',\n",
    "       'require_guest_phone_verification', \n",
    "       'reviews_per_month']].copy()"
   ]
  },
  {
   "cell_type": "code",
   "execution_count": 60,
   "metadata": {},
   "outputs": [],
   "source": [
    "# Delete rows with all missing values\n",
    "Seattle_listings2=Seattle_listings2.dropna(axis=0,how='all')\n",
    "Boston_listings2=Boston_listings2.dropna(axis=0,how='all')"
   ]
  },
  {
   "cell_type": "code",
   "execution_count": 61,
   "metadata": {},
   "outputs": [],
   "source": [
    "# Drop rows that have missing values in the reviwe scores that is the target variable\n",
    "Seattle_listings2=Seattle_listings2.dropna(subset=['review_scores_value'],how='any')\n",
    "Boston_listings2=Boston_listings2.dropna(subset=['review_scores_value'],how='any')"
   ]
  },
  {
   "cell_type": "markdown",
   "metadata": {},
   "source": [
    "* Price, weekly price, monthly price, security deposit, cleaning fee, has the wrong datatype in Boston and Seattle listings"
   ]
  },
  {
   "cell_type": "code",
   "execution_count": 62,
   "metadata": {},
   "outputs": [],
   "source": [
    "Seattle_listings2['price']=Seattle_listings2['price'].apply(lambda x: str.replace(str(x),\"$\",\"\"))\n",
    "Seattle_listings2['weekly_price']=Seattle_listings2['weekly_price'].apply(lambda x: str.replace(str(x),\"$\",\"\"))\n",
    "Seattle_listings2['monthly_price']=Seattle_listings2['monthly_price'].apply(lambda x: str.replace(str(x),\"$\",\"\"))\n",
    "Seattle_listings2['security_deposit']=Seattle_listings2['security_deposit'].apply(lambda x: str.replace(str(x),\"$\",\"\"))\n",
    "Seattle_listings2['cleaning_fee']=Seattle_listings2['cleaning_fee'].apply(lambda x: str.replace(str(x),\"$\",\"\"))\n",
    "\n",
    "Boston_listings2['price']=Boston_listings2['price'].apply(lambda x: str.replace(str(x),\"$\",\"\"))\n",
    "Boston_listings2['weekly_price']=Boston_listings2['weekly_price'].apply(lambda x: str.replace(str(x),\"$\",\"\"))\n",
    "Boston_listings2['monthly_price']=Boston_listings2['monthly_price'].apply(lambda x: str.replace(str(x),\"$\",\"\"))\n",
    "Boston_listings2['security_deposit']=Boston_listings2['security_deposit'].apply(lambda x: str.replace(str(x),\"$\",\"\"))\n",
    "Boston_listings2['cleaning_fee']=Boston_listings2['cleaning_fee'].apply(lambda x: str.replace(str(x),\"$\",\"\"))\n",
    "\n",
    "Seattle_listings2['price']=Seattle_listings2['price'].apply(lambda x: str.replace(str(x),\",\",\"\"))\n",
    "Seattle_listings2['weekly_price']=Seattle_listings2['weekly_price'].apply(lambda x: str.replace(str(x),\",\",\"\"))\n",
    "Seattle_listings2['monthly_price']=Seattle_listings2['monthly_price'].apply(lambda x: str.replace(str(x),\",\",\"\"))\n",
    "Seattle_listings2['security_deposit']=Seattle_listings2['security_deposit'].apply(lambda x: str.replace(str(x),\",\",\"\"))\n",
    "Seattle_listings2['cleaning_fee']=Seattle_listings2['cleaning_fee'].apply(lambda x: str.replace(str(x),\",\",\"\"))\n",
    "\n",
    "Boston_listings2['price']=Boston_listings2['price'].apply(lambda x: str.replace(str(x),\",\",\"\"))\n",
    "Boston_listings2['weekly_price']=Boston_listings2['weekly_price'].apply(lambda x: str.replace(str(x),\",\",\"\"))\n",
    "Boston_listings2['monthly_price']=Boston_listings2['monthly_price'].apply(lambda x: str.replace(str(x),\",\",\"\"))\n",
    "Boston_listings2['security_deposit']=Boston_listings2['security_deposit'].apply(lambda x: str.replace(str(x),\",\",\"\"))\n",
    "Boston_listings2['cleaning_fee']=Boston_listings2['cleaning_fee'].apply(lambda x: str.replace(str(x),\",\",\"\"))"
   ]
  },
  {
   "cell_type": "code",
   "execution_count": 63,
   "metadata": {},
   "outputs": [],
   "source": [
    "Seattle_listings2[['price', 'weekly_price', 'monthly_price', 'security_deposit',\n",
    "       'cleaning_fee']]=Seattle_listings2[['price', 'weekly_price', 'monthly_price', 'security_deposit',\n",
    "       'cleaning_fee']].astype(float)\n",
    "Boston_listings2[['price', 'weekly_price', 'monthly_price', 'security_deposit',\n",
    "       'cleaning_fee']]=Boston_listings2[['price', 'weekly_price', 'monthly_price', 'security_deposit',\n",
    "       'cleaning_fee']].astype(float)"
   ]
  },
  {
   "cell_type": "code",
   "execution_count": 64,
   "metadata": {
    "scrolled": true
   },
   "outputs": [
    {
     "name": "stdout",
     "output_type": "stream",
     "text": [
      "<class 'pandas.core.frame.DataFrame'>\n",
      "Int64Index: 3162 entries, 0 to 3814\n",
      "Data columns (total 55 columns):\n",
      " #   Column                            Non-Null Count  Dtype  \n",
      "---  ------                            --------------  -----  \n",
      " 0   id                                3162 non-null   int64  \n",
      " 1   summary                           2995 non-null   object \n",
      " 2   space                             2836 non-null   object \n",
      " 3   description                       3162 non-null   object \n",
      " 4   experiences_offered               3162 non-null   object \n",
      " 5   neighborhood_overview             2427 non-null   object \n",
      " 6   notes                             1982 non-null   object \n",
      " 7   transit                           2521 non-null   object \n",
      " 8   host_id                           3162 non-null   int64  \n",
      " 9   host_about                        2588 non-null   object \n",
      " 10  host_response_time                2854 non-null   object \n",
      " 11  host_response_rate                2854 non-null   object \n",
      " 12  host_acceptance_rate              2689 non-null   object \n",
      " 13  host_is_superhost                 3162 non-null   object \n",
      " 14  host_neighbourhood                2960 non-null   object \n",
      " 15  host_listings_count               3162 non-null   float64\n",
      " 16  host_has_profile_pic              3162 non-null   object \n",
      " 17  host_identity_verified            3162 non-null   object \n",
      " 18  market                            3162 non-null   object \n",
      " 19  is_location_exact                 3162 non-null   object \n",
      " 20  property_type                     3162 non-null   object \n",
      " 21  room_type                         3162 non-null   object \n",
      " 22  accommodates                      3162 non-null   int64  \n",
      " 23  bathrooms                         3150 non-null   float64\n",
      " 24  bedrooms                          3156 non-null   float64\n",
      " 25  beds                              3162 non-null   float64\n",
      " 26  bed_type                          3162 non-null   object \n",
      " 27  amenities                         3162 non-null   object \n",
      " 28  price                             3162 non-null   float64\n",
      " 29  weekly_price                      1787 non-null   float64\n",
      " 30  monthly_price                     1353 non-null   float64\n",
      " 31  security_deposit                  1606 non-null   float64\n",
      " 32  cleaning_fee                      2407 non-null   float64\n",
      " 33  guests_included                   3162 non-null   int64  \n",
      " 34  extra_people                      3162 non-null   object \n",
      " 35  minimum_nights                    3162 non-null   int64  \n",
      " 36  maximum_nights                    3162 non-null   int64  \n",
      " 37  calendar_updated                  3162 non-null   object \n",
      " 38  has_availability                  3162 non-null   object \n",
      " 39  availability_30                   3162 non-null   int64  \n",
      " 40  availability_60                   3162 non-null   int64  \n",
      " 41  availability_90                   3162 non-null   int64  \n",
      " 42  availability_365                  3162 non-null   int64  \n",
      " 43  number_of_reviews                 3162 non-null   int64  \n",
      " 44  review_scores_cleanliness         3160 non-null   float64\n",
      " 45  review_scores_checkin             3159 non-null   float64\n",
      " 46  review_scores_communication       3162 non-null   float64\n",
      " 47  review_scores_location            3162 non-null   float64\n",
      " 48  review_scores_value               3162 non-null   float64\n",
      " 49  requires_license                  3162 non-null   object \n",
      " 50  instant_bookable                  3162 non-null   object \n",
      " 51  cancellation_policy               3162 non-null   object \n",
      " 52  require_guest_profile_picture     3162 non-null   object \n",
      " 53  require_guest_phone_verification  3162 non-null   object \n",
      " 54  reviews_per_month                 3162 non-null   float64\n",
      "dtypes: float64(15), int64(11), object(29)\n",
      "memory usage: 1.4+ MB\n",
      "None\n",
      "<class 'pandas.core.frame.DataFrame'>\n",
      "Int64Index: 2764 entries, 1 to 3583\n",
      "Data columns (total 55 columns):\n",
      " #   Column                            Non-Null Count  Dtype  \n",
      "---  ------                            --------------  -----  \n",
      " 0   id                                2764 non-null   int64  \n",
      " 1   summary                           2637 non-null   object \n",
      " 2   space                             2093 non-null   object \n",
      " 3   description                       2764 non-null   object \n",
      " 4   experiences_offered               2764 non-null   object \n",
      " 5   neighborhood_overview             1810 non-null   object \n",
      " 6   notes                             1387 non-null   object \n",
      " 7   transit                           1900 non-null   object \n",
      " 8   host_id                           2764 non-null   int64  \n",
      " 9   host_about                        1902 non-null   object \n",
      " 10  host_response_time                2547 non-null   object \n",
      " 11  host_response_rate                2547 non-null   object \n",
      " 12  host_acceptance_rate              2547 non-null   object \n",
      " 13  host_is_superhost                 2764 non-null   object \n",
      " 14  host_neighbourhood                2520 non-null   object \n",
      " 15  host_listings_count               2764 non-null   int64  \n",
      " 16  host_has_profile_pic              2764 non-null   object \n",
      " 17  host_identity_verified            2764 non-null   object \n",
      " 18  market                            2758 non-null   object \n",
      " 19  is_location_exact                 2764 non-null   object \n",
      " 20  property_type                     2762 non-null   object \n",
      " 21  room_type                         2764 non-null   object \n",
      " 22  accommodates                      2764 non-null   int64  \n",
      " 23  bathrooms                         2752 non-null   float64\n",
      " 24  bedrooms                          2756 non-null   float64\n",
      " 25  beds                              2758 non-null   float64\n",
      " 26  bed_type                          2764 non-null   object \n",
      " 27  amenities                         2764 non-null   object \n",
      " 28  price                             2764 non-null   float64\n",
      " 29  weekly_price                      818 non-null    float64\n",
      " 30  monthly_price                     789 non-null    float64\n",
      " 31  security_deposit                  1118 non-null   float64\n",
      " 32  cleaning_fee                      1972 non-null   float64\n",
      " 33  guests_included                   2764 non-null   int64  \n",
      " 34  extra_people                      2764 non-null   object \n",
      " 35  minimum_nights                    2764 non-null   int64  \n",
      " 36  maximum_nights                    2764 non-null   int64  \n",
      " 37  calendar_updated                  2764 non-null   object \n",
      " 38  has_availability                  0 non-null      float64\n",
      " 39  availability_30                   2764 non-null   int64  \n",
      " 40  availability_60                   2764 non-null   int64  \n",
      " 41  availability_90                   2764 non-null   int64  \n",
      " 42  availability_365                  2764 non-null   int64  \n",
      " 43  number_of_reviews                 2764 non-null   int64  \n",
      " 44  review_scores_cleanliness         2763 non-null   float64\n",
      " 45  review_scores_checkin             2763 non-null   float64\n",
      " 46  review_scores_communication       2763 non-null   float64\n",
      " 47  review_scores_location            2762 non-null   float64\n",
      " 48  review_scores_value               2764 non-null   float64\n",
      " 49  requires_license                  2764 non-null   object \n",
      " 50  instant_bookable                  2764 non-null   object \n",
      " 51  cancellation_policy               2764 non-null   object \n",
      " 52  require_guest_profile_picture     2764 non-null   object \n",
      " 53  require_guest_phone_verification  2764 non-null   object \n",
      " 54  reviews_per_month                 2764 non-null   float64\n",
      "dtypes: float64(15), int64(12), object(28)\n",
      "memory usage: 1.2+ MB\n",
      "None\n"
     ]
    }
   ],
   "source": [
    "print(Seattle_listings2.info())\n",
    "print(Boston_listings2.info())"
   ]
  },
  {
   "cell_type": "markdown",
   "metadata": {},
   "source": [
    "* Date in seattle_reviews and Boston_reviews has an incorrecto format."
   ]
  },
  {
   "cell_type": "code",
   "execution_count": 65,
   "metadata": {},
   "outputs": [],
   "source": [
    "Seattle_reviews2=Seattle_reviews.copy()\n",
    "Boston_reviews2=Boston_reviews.copy()"
   ]
  },
  {
   "cell_type": "code",
   "execution_count": 66,
   "metadata": {},
   "outputs": [],
   "source": [
    "Seattle_reviews2['date']=pd.to_datetime(Seattle_reviews2['date'])"
   ]
  },
  {
   "cell_type": "code",
   "execution_count": 67,
   "metadata": {},
   "outputs": [],
   "source": [
    "Boston_reviews2['date']=pd.to_datetime(Boston_reviews2['date'])"
   ]
  },
  {
   "cell_type": "code",
   "execution_count": 68,
   "metadata": {},
   "outputs": [
    {
     "name": "stdout",
     "output_type": "stream",
     "text": [
      "<class 'pandas.core.frame.DataFrame'>\n",
      "RangeIndex: 84849 entries, 0 to 84848\n",
      "Data columns (total 6 columns):\n",
      " #   Column         Non-Null Count  Dtype         \n",
      "---  ------         --------------  -----         \n",
      " 0   listing_id     84849 non-null  int64         \n",
      " 1   id             84849 non-null  int64         \n",
      " 2   date           84849 non-null  datetime64[ns]\n",
      " 3   reviewer_id    84849 non-null  int64         \n",
      " 4   reviewer_name  84849 non-null  object        \n",
      " 5   comments       84831 non-null  object        \n",
      "dtypes: datetime64[ns](1), int64(3), object(2)\n",
      "memory usage: 3.9+ MB\n",
      "<class 'pandas.core.frame.DataFrame'>\n",
      "RangeIndex: 68275 entries, 0 to 68274\n",
      "Data columns (total 6 columns):\n",
      " #   Column         Non-Null Count  Dtype         \n",
      "---  ------         --------------  -----         \n",
      " 0   listing_id     68275 non-null  int64         \n",
      " 1   id             68275 non-null  int64         \n",
      " 2   date           68275 non-null  datetime64[ns]\n",
      " 3   reviewer_id    68275 non-null  int64         \n",
      " 4   reviewer_name  68275 non-null  object        \n",
      " 5   comments       68222 non-null  object        \n",
      "dtypes: datetime64[ns](1), int64(3), object(2)\n",
      "memory usage: 3.1+ MB\n"
     ]
    }
   ],
   "source": [
    "Seattle_reviews2.info()\n",
    "Boston_reviews2.info()"
   ]
  },
  {
   "cell_type": "markdown",
   "metadata": {},
   "source": [
    "* For variables that are not categories I will include if the information is present or not."
   ]
  },
  {
   "cell_type": "code",
   "execution_count": 110,
   "metadata": {},
   "outputs": [],
   "source": [
    "Seattle_listings2[['summary','description','neighborhood_overview','notes','transit','host_about','amenities','experiences_offered','space']]=Seattle_listings2[['summary','description','neighborhood_overview','notes','transit','host_about','amenities','experiences_offered','space']].fillna(0)\n",
    "Boston_listings2[['summary','description','neighborhood_overview','notes','transit','host_about','amenities','experiences_offered','space']]=Boston_listings2[['summary','description','neighborhood_overview','notes','transit','host_about','amenities','experiences_offered','space']].fillna(0)"
   ]
  },
  {
   "cell_type": "code",
   "execution_count": 111,
   "metadata": {},
   "outputs": [],
   "source": [
    "Seattle_listings2[['summary','description','neighborhood_overview','notes','transit','host_about','amenities','experiences_offered','space']]=np.where(Seattle_listings2[['summary','description','neighborhood_overview','notes','transit','host_about','amenities','experiences_offered','space']]!=0,1,0)\n",
    "Boston_listings2[['summary','description','neighborhood_overview','notes','transit','host_about','amenities','experiences_offered','space']]=np.where(Boston_listings2[['summary','description','neighborhood_overview','notes','transit','host_about','amenities','experiences_offered','space']]!=0,1,0)"
   ]
  },
  {
   "cell_type": "code",
   "execution_count": 112,
   "metadata": {},
   "outputs": [
    {
     "data": {
      "text/html": [
       "<div>\n",
       "<style scoped>\n",
       "    .dataframe tbody tr th:only-of-type {\n",
       "        vertical-align: middle;\n",
       "    }\n",
       "\n",
       "    .dataframe tbody tr th {\n",
       "        vertical-align: top;\n",
       "    }\n",
       "\n",
       "    .dataframe thead th {\n",
       "        text-align: right;\n",
       "    }\n",
       "</style>\n",
       "<table border=\"1\" class=\"dataframe\">\n",
       "  <thead>\n",
       "    <tr style=\"text-align: right;\">\n",
       "      <th></th>\n",
       "      <th>summary</th>\n",
       "      <th>description</th>\n",
       "      <th>neighborhood_overview</th>\n",
       "      <th>notes</th>\n",
       "      <th>transit</th>\n",
       "      <th>host_about</th>\n",
       "      <th>amenities</th>\n",
       "      <th>space</th>\n",
       "    </tr>\n",
       "  </thead>\n",
       "  <tbody>\n",
       "    <tr>\n",
       "      <th>0</th>\n",
       "      <td>0</td>\n",
       "      <td>1</td>\n",
       "      <td>0</td>\n",
       "      <td>0</td>\n",
       "      <td>0</td>\n",
       "      <td>1</td>\n",
       "      <td>1</td>\n",
       "      <td>1</td>\n",
       "    </tr>\n",
       "    <tr>\n",
       "      <th>1</th>\n",
       "      <td>1</td>\n",
       "      <td>1</td>\n",
       "      <td>1</td>\n",
       "      <td>1</td>\n",
       "      <td>1</td>\n",
       "      <td>1</td>\n",
       "      <td>1</td>\n",
       "      <td>1</td>\n",
       "    </tr>\n",
       "    <tr>\n",
       "      <th>2</th>\n",
       "      <td>1</td>\n",
       "      <td>1</td>\n",
       "      <td>1</td>\n",
       "      <td>1</td>\n",
       "      <td>1</td>\n",
       "      <td>1</td>\n",
       "      <td>1</td>\n",
       "      <td>1</td>\n",
       "    </tr>\n",
       "    <tr>\n",
       "      <th>4</th>\n",
       "      <td>1</td>\n",
       "      <td>1</td>\n",
       "      <td>1</td>\n",
       "      <td>1</td>\n",
       "      <td>1</td>\n",
       "      <td>1</td>\n",
       "      <td>1</td>\n",
       "      <td>1</td>\n",
       "    </tr>\n",
       "    <tr>\n",
       "      <th>5</th>\n",
       "      <td>1</td>\n",
       "      <td>1</td>\n",
       "      <td>1</td>\n",
       "      <td>1</td>\n",
       "      <td>1</td>\n",
       "      <td>1</td>\n",
       "      <td>1</td>\n",
       "      <td>1</td>\n",
       "    </tr>\n",
       "  </tbody>\n",
       "</table>\n",
       "</div>"
      ],
      "text/plain": [
       "   summary  description  neighborhood_overview  notes  transit  host_about  \\\n",
       "0        0            1                      0      0        0           1   \n",
       "1        1            1                      1      1        1           1   \n",
       "2        1            1                      1      1        1           1   \n",
       "4        1            1                      1      1        1           1   \n",
       "5        1            1                      1      1        1           1   \n",
       "\n",
       "   amenities  space  \n",
       "0          1      1  \n",
       "1          1      1  \n",
       "2          1      1  \n",
       "4          1      1  \n",
       "5          1      1  "
      ]
     },
     "execution_count": 112,
     "metadata": {},
     "output_type": "execute_result"
    }
   ],
   "source": [
    "Seattle_listings2[['summary','description','neighborhood_overview','notes','transit','host_about','amenities','space']].head()"
   ]
  },
  {
   "cell_type": "code",
   "execution_count": 113,
   "metadata": {},
   "outputs": [
    {
     "data": {
      "text/html": [
       "<div>\n",
       "<style scoped>\n",
       "    .dataframe tbody tr th:only-of-type {\n",
       "        vertical-align: middle;\n",
       "    }\n",
       "\n",
       "    .dataframe tbody tr th {\n",
       "        vertical-align: top;\n",
       "    }\n",
       "\n",
       "    .dataframe thead th {\n",
       "        text-align: right;\n",
       "    }\n",
       "</style>\n",
       "<table border=\"1\" class=\"dataframe\">\n",
       "  <thead>\n",
       "    <tr style=\"text-align: right;\">\n",
       "      <th></th>\n",
       "      <th>summary</th>\n",
       "      <th>description</th>\n",
       "      <th>neighborhood_overview</th>\n",
       "      <th>notes</th>\n",
       "      <th>transit</th>\n",
       "      <th>host_about</th>\n",
       "      <th>amenities</th>\n",
       "    </tr>\n",
       "  </thead>\n",
       "  <tbody>\n",
       "    <tr>\n",
       "      <th>1</th>\n",
       "      <td>1</td>\n",
       "      <td>1</td>\n",
       "      <td>1</td>\n",
       "      <td>1</td>\n",
       "      <td>1</td>\n",
       "      <td>1</td>\n",
       "      <td>1</td>\n",
       "    </tr>\n",
       "    <tr>\n",
       "      <th>2</th>\n",
       "      <td>1</td>\n",
       "      <td>1</td>\n",
       "      <td>1</td>\n",
       "      <td>1</td>\n",
       "      <td>1</td>\n",
       "      <td>1</td>\n",
       "      <td>1</td>\n",
       "    </tr>\n",
       "    <tr>\n",
       "      <th>3</th>\n",
       "      <td>1</td>\n",
       "      <td>1</td>\n",
       "      <td>1</td>\n",
       "      <td>1</td>\n",
       "      <td>1</td>\n",
       "      <td>1</td>\n",
       "      <td>1</td>\n",
       "    </tr>\n",
       "    <tr>\n",
       "      <th>4</th>\n",
       "      <td>1</td>\n",
       "      <td>1</td>\n",
       "      <td>1</td>\n",
       "      <td>1</td>\n",
       "      <td>1</td>\n",
       "      <td>1</td>\n",
       "      <td>1</td>\n",
       "    </tr>\n",
       "    <tr>\n",
       "      <th>5</th>\n",
       "      <td>1</td>\n",
       "      <td>1</td>\n",
       "      <td>1</td>\n",
       "      <td>0</td>\n",
       "      <td>1</td>\n",
       "      <td>0</td>\n",
       "      <td>1</td>\n",
       "    </tr>\n",
       "  </tbody>\n",
       "</table>\n",
       "</div>"
      ],
      "text/plain": [
       "   summary  description  neighborhood_overview  notes  transit  host_about  \\\n",
       "1        1            1                      1      1        1           1   \n",
       "2        1            1                      1      1        1           1   \n",
       "3        1            1                      1      1        1           1   \n",
       "4        1            1                      1      1        1           1   \n",
       "5        1            1                      1      0        1           0   \n",
       "\n",
       "   amenities  \n",
       "1          1  \n",
       "2          1  \n",
       "3          1  \n",
       "4          1  \n",
       "5          1  "
      ]
     },
     "execution_count": 113,
     "metadata": {},
     "output_type": "execute_result"
    }
   ],
   "source": [
    "Boston_listings2[['summary','description','neighborhood_overview','notes','transit','host_about','amenities']].head()"
   ]
  },
  {
   "cell_type": "code",
   "execution_count": 114,
   "metadata": {},
   "outputs": [],
   "source": [
    "# I will combine Seattle and Boston Data Frame\n",
    "listings= Seattle_listings2.append(Boston_listings2, ignore_index=True)"
   ]
  },
  {
   "cell_type": "markdown",
   "metadata": {},
   "source": [
    "* I will treat missing values in numerical data"
   ]
  },
  {
   "cell_type": "code",
   "execution_count": 115,
   "metadata": {},
   "outputs": [
    {
     "name": "stdout",
     "output_type": "stream",
     "text": [
      "Index(['host_response_time', 'host_response_rate', 'host_acceptance_rate',\n",
      "       'host_neighbourhood', 'market', 'property_type', 'bathrooms',\n",
      "       'bedrooms', 'beds', 'weekly_price', 'monthly_price', 'security_deposit',\n",
      "       'cleaning_fee', 'has_availability', 'review_scores_cleanliness',\n",
      "       'review_scores_checkin', 'review_scores_communication',\n",
      "       'review_scores_location'],\n",
      "      dtype='object')\n"
     ]
    }
   ],
   "source": [
    "missing_columns=listings.columns[listings.isna().any()]\n",
    "print(missing_columns)"
   ]
  },
  {
   "cell_type": "code",
   "execution_count": 116,
   "metadata": {},
   "outputs": [
    {
     "name": "stdout",
     "output_type": "stream",
     "text": [
      "<class 'pandas.core.frame.DataFrame'>\n",
      "RangeIndex: 5926 entries, 0 to 5925\n",
      "Data columns (total 18 columns):\n",
      " #   Column                       Non-Null Count  Dtype  \n",
      "---  ------                       --------------  -----  \n",
      " 0   host_response_time           5401 non-null   object \n",
      " 1   host_response_rate           5401 non-null   object \n",
      " 2   host_acceptance_rate         5236 non-null   object \n",
      " 3   host_neighbourhood           5480 non-null   object \n",
      " 4   market                       5920 non-null   object \n",
      " 5   property_type                5924 non-null   object \n",
      " 6   bathrooms                    5902 non-null   float64\n",
      " 7   bedrooms                     5912 non-null   float64\n",
      " 8   beds                         5920 non-null   float64\n",
      " 9   weekly_price                 2605 non-null   float64\n",
      " 10  monthly_price                2142 non-null   float64\n",
      " 11  security_deposit             2724 non-null   float64\n",
      " 12  cleaning_fee                 4379 non-null   float64\n",
      " 13  has_availability             3162 non-null   object \n",
      " 14  review_scores_cleanliness    5923 non-null   float64\n",
      " 15  review_scores_checkin        5922 non-null   float64\n",
      " 16  review_scores_communication  5925 non-null   float64\n",
      " 17  review_scores_location       5924 non-null   float64\n",
      "dtypes: float64(11), object(7)\n",
      "memory usage: 833.5+ KB\n"
     ]
    }
   ],
   "source": [
    "listings[['host_response_time', 'host_response_rate',\n",
    "       'host_acceptance_rate', 'host_neighbourhood', 'market', 'property_type',\n",
    "       'bathrooms', 'bedrooms', 'beds', 'weekly_price', 'monthly_price',\n",
    "       'security_deposit', 'cleaning_fee', 'has_availability',\n",
    "       'review_scores_cleanliness', 'review_scores_checkin',\n",
    "       'review_scores_communication', 'review_scores_location']].info()"
   ]
  },
  {
   "cell_type": "code",
   "execution_count": 117,
   "metadata": {},
   "outputs": [],
   "source": [
    "numerical_columns_missing_values=['bathrooms', 'bedrooms', 'beds', 'weekly_price', 'monthly_price','security_deposit', 'cleaning_fee','review_scores_cleanliness', 'review_scores_checkin',\n",
    "       'review_scores_communication', 'review_scores_location']"
   ]
  },
  {
   "cell_type": "markdown",
   "metadata": {},
   "source": [
    "* I will convert the categorical columns into dummies. On the other hand, for the analysis made I will only use Seattle and boston Lightings because and the calendar of Seattle and Boston."
   ]
  },
  {
   "cell_type": "code",
   "execution_count": 118,
   "metadata": {},
   "outputs": [],
   "source": [
    "cat_cols=listings.select_dtypes(include=['object']).copy().columns"
   ]
  },
  {
   "cell_type": "code",
   "execution_count": 119,
   "metadata": {},
   "outputs": [],
   "source": [
    "def create_dummy_df(df, cat_cols, dummy_na):\n",
    "    '''\n",
    "    INPUT:\n",
    "    df - pandas dataframe with categorical variables you want to dummy\n",
    "    cat_cols - list of strings that are associated with names of the categorical columns\n",
    "    dummy_na - Bool holding whether you want to dummy NA vals of categorical columns or not\n",
    "    \n",
    "    OUTPUT:\n",
    "    df - a new dataframe that has the following characteristics:\n",
    "            1. contains all columns that were not specified as categorical\n",
    "            2. removes all the original columns in cat_cols\n",
    "            3. dummy columns for each of the categorical columns in cat_cols\n",
    "            4. if dummy_na is True - it also contains dummy columns for the NaN values\n",
    "            5. Use a prefix of the column name with an underscore (_) for separating \n",
    "    '''\n",
    "    for col in  cat_cols:\n",
    "        try:\n",
    "            # for each cat add dummy var, drop original column\n",
    "            df = pd.concat([df.drop(col, axis=1), pd.get_dummies(df[col], prefix=col, prefix_sep='_', drop_first=True, dummy_na=dummy_na)], axis=1)\n",
    "        except:\n",
    "            continue\n",
    "    return df"
   ]
  },
  {
   "cell_type": "code",
   "execution_count": 120,
   "metadata": {},
   "outputs": [
    {
     "name": "stdout",
     "output_type": "stream",
     "text": [
      "<class 'pandas.core.frame.DataFrame'>\n",
      "RangeIndex: 5926 entries, 0 to 5925\n",
      "Data columns (total 55 columns):\n",
      " #   Column                            Non-Null Count  Dtype  \n",
      "---  ------                            --------------  -----  \n",
      " 0   id                                5926 non-null   int64  \n",
      " 1   summary                           5926 non-null   int64  \n",
      " 2   space                             5926 non-null   int64  \n",
      " 3   description                       5926 non-null   int64  \n",
      " 4   experiences_offered               5926 non-null   int64  \n",
      " 5   neighborhood_overview             5926 non-null   int64  \n",
      " 6   notes                             5926 non-null   int64  \n",
      " 7   transit                           5926 non-null   int64  \n",
      " 8   host_id                           5926 non-null   int64  \n",
      " 9   host_about                        5926 non-null   int64  \n",
      " 10  host_response_time                5401 non-null   object \n",
      " 11  host_response_rate                5401 non-null   object \n",
      " 12  host_acceptance_rate              5236 non-null   object \n",
      " 13  host_is_superhost                 5926 non-null   object \n",
      " 14  host_neighbourhood                5480 non-null   object \n",
      " 15  host_listings_count               5926 non-null   float64\n",
      " 16  host_has_profile_pic              5926 non-null   object \n",
      " 17  host_identity_verified            5926 non-null   object \n",
      " 18  market                            5920 non-null   object \n",
      " 19  is_location_exact                 5926 non-null   object \n",
      " 20  property_type                     5924 non-null   object \n",
      " 21  room_type                         5926 non-null   object \n",
      " 22  accommodates                      5926 non-null   int64  \n",
      " 23  bathrooms                         5902 non-null   float64\n",
      " 24  bedrooms                          5912 non-null   float64\n",
      " 25  beds                              5920 non-null   float64\n",
      " 26  bed_type                          5926 non-null   object \n",
      " 27  amenities                         5926 non-null   int64  \n",
      " 28  price                             5926 non-null   float64\n",
      " 29  weekly_price                      2605 non-null   float64\n",
      " 30  monthly_price                     2142 non-null   float64\n",
      " 31  security_deposit                  2724 non-null   float64\n",
      " 32  cleaning_fee                      4379 non-null   float64\n",
      " 33  guests_included                   5926 non-null   int64  \n",
      " 34  extra_people                      5926 non-null   object \n",
      " 35  minimum_nights                    5926 non-null   int64  \n",
      " 36  maximum_nights                    5926 non-null   int64  \n",
      " 37  calendar_updated                  5926 non-null   object \n",
      " 38  has_availability                  3162 non-null   object \n",
      " 39  availability_30                   5926 non-null   int64  \n",
      " 40  availability_60                   5926 non-null   int64  \n",
      " 41  availability_90                   5926 non-null   int64  \n",
      " 42  availability_365                  5926 non-null   int64  \n",
      " 43  number_of_reviews                 5926 non-null   int64  \n",
      " 44  review_scores_cleanliness         5923 non-null   float64\n",
      " 45  review_scores_checkin             5922 non-null   float64\n",
      " 46  review_scores_communication       5925 non-null   float64\n",
      " 47  review_scores_location            5924 non-null   float64\n",
      " 48  review_scores_value               5926 non-null   float64\n",
      " 49  requires_license                  5926 non-null   object \n",
      " 50  instant_bookable                  5926 non-null   object \n",
      " 51  cancellation_policy               5926 non-null   object \n",
      " 52  require_guest_profile_picture     5926 non-null   object \n",
      " 53  require_guest_phone_verification  5926 non-null   object \n",
      " 54  reviews_per_month                 5926 non-null   float64\n",
      "dtypes: float64(15), int64(20), object(20)\n",
      "memory usage: 2.5+ MB\n"
     ]
    }
   ],
   "source": [
    "listings.info()"
   ]
  },
  {
   "cell_type": "code",
   "execution_count": 121,
   "metadata": {},
   "outputs": [],
   "source": [
    "listings = create_dummy_df(listings,cat_cols, dummy_na=True)"
   ]
  },
  {
   "cell_type": "code",
   "execution_count": 122,
   "metadata": {
    "scrolled": false
   },
   "outputs": [
    {
     "data": {
      "text/html": [
       "<div>\n",
       "<style scoped>\n",
       "    .dataframe tbody tr th:only-of-type {\n",
       "        vertical-align: middle;\n",
       "    }\n",
       "\n",
       "    .dataframe tbody tr th {\n",
       "        vertical-align: top;\n",
       "    }\n",
       "\n",
       "    .dataframe thead th {\n",
       "        text-align: right;\n",
       "    }\n",
       "</style>\n",
       "<table border=\"1\" class=\"dataframe\">\n",
       "  <thead>\n",
       "    <tr style=\"text-align: right;\">\n",
       "      <th></th>\n",
       "      <th>id</th>\n",
       "      <th>summary</th>\n",
       "      <th>space</th>\n",
       "      <th>description</th>\n",
       "      <th>experiences_offered</th>\n",
       "      <th>neighborhood_overview</th>\n",
       "      <th>notes</th>\n",
       "      <th>transit</th>\n",
       "      <th>host_id</th>\n",
       "      <th>host_about</th>\n",
       "      <th>...</th>\n",
       "      <th>instant_bookable_t</th>\n",
       "      <th>instant_bookable_nan</th>\n",
       "      <th>cancellation_policy_moderate</th>\n",
       "      <th>cancellation_policy_strict</th>\n",
       "      <th>cancellation_policy_super_strict_30</th>\n",
       "      <th>cancellation_policy_nan</th>\n",
       "      <th>require_guest_profile_picture_t</th>\n",
       "      <th>require_guest_profile_picture_nan</th>\n",
       "      <th>require_guest_phone_verification_t</th>\n",
       "      <th>require_guest_phone_verification_nan</th>\n",
       "    </tr>\n",
       "  </thead>\n",
       "  <tbody>\n",
       "    <tr>\n",
       "      <th>0</th>\n",
       "      <td>241032</td>\n",
       "      <td>0</td>\n",
       "      <td>1</td>\n",
       "      <td>1</td>\n",
       "      <td>1</td>\n",
       "      <td>0</td>\n",
       "      <td>0</td>\n",
       "      <td>0</td>\n",
       "      <td>956883</td>\n",
       "      <td>1</td>\n",
       "      <td>...</td>\n",
       "      <td>0</td>\n",
       "      <td>0</td>\n",
       "      <td>1</td>\n",
       "      <td>0</td>\n",
       "      <td>0</td>\n",
       "      <td>0</td>\n",
       "      <td>0</td>\n",
       "      <td>0</td>\n",
       "      <td>0</td>\n",
       "      <td>0</td>\n",
       "    </tr>\n",
       "    <tr>\n",
       "      <th>1</th>\n",
       "      <td>953595</td>\n",
       "      <td>1</td>\n",
       "      <td>1</td>\n",
       "      <td>1</td>\n",
       "      <td>1</td>\n",
       "      <td>1</td>\n",
       "      <td>1</td>\n",
       "      <td>1</td>\n",
       "      <td>5177328</td>\n",
       "      <td>1</td>\n",
       "      <td>...</td>\n",
       "      <td>0</td>\n",
       "      <td>0</td>\n",
       "      <td>0</td>\n",
       "      <td>1</td>\n",
       "      <td>0</td>\n",
       "      <td>0</td>\n",
       "      <td>1</td>\n",
       "      <td>0</td>\n",
       "      <td>1</td>\n",
       "      <td>0</td>\n",
       "    </tr>\n",
       "    <tr>\n",
       "      <th>2</th>\n",
       "      <td>3308979</td>\n",
       "      <td>1</td>\n",
       "      <td>1</td>\n",
       "      <td>1</td>\n",
       "      <td>1</td>\n",
       "      <td>1</td>\n",
       "      <td>1</td>\n",
       "      <td>1</td>\n",
       "      <td>16708587</td>\n",
       "      <td>1</td>\n",
       "      <td>...</td>\n",
       "      <td>0</td>\n",
       "      <td>0</td>\n",
       "      <td>0</td>\n",
       "      <td>1</td>\n",
       "      <td>0</td>\n",
       "      <td>0</td>\n",
       "      <td>0</td>\n",
       "      <td>0</td>\n",
       "      <td>0</td>\n",
       "      <td>0</td>\n",
       "    </tr>\n",
       "    <tr>\n",
       "      <th>3</th>\n",
       "      <td>278830</td>\n",
       "      <td>1</td>\n",
       "      <td>1</td>\n",
       "      <td>1</td>\n",
       "      <td>1</td>\n",
       "      <td>1</td>\n",
       "      <td>1</td>\n",
       "      <td>1</td>\n",
       "      <td>1452570</td>\n",
       "      <td>1</td>\n",
       "      <td>...</td>\n",
       "      <td>0</td>\n",
       "      <td>0</td>\n",
       "      <td>0</td>\n",
       "      <td>1</td>\n",
       "      <td>0</td>\n",
       "      <td>0</td>\n",
       "      <td>0</td>\n",
       "      <td>0</td>\n",
       "      <td>0</td>\n",
       "      <td>0</td>\n",
       "    </tr>\n",
       "    <tr>\n",
       "      <th>4</th>\n",
       "      <td>5956968</td>\n",
       "      <td>1</td>\n",
       "      <td>1</td>\n",
       "      <td>1</td>\n",
       "      <td>1</td>\n",
       "      <td>1</td>\n",
       "      <td>1</td>\n",
       "      <td>1</td>\n",
       "      <td>326758</td>\n",
       "      <td>1</td>\n",
       "      <td>...</td>\n",
       "      <td>0</td>\n",
       "      <td>0</td>\n",
       "      <td>0</td>\n",
       "      <td>1</td>\n",
       "      <td>0</td>\n",
       "      <td>0</td>\n",
       "      <td>0</td>\n",
       "      <td>0</td>\n",
       "      <td>0</td>\n",
       "      <td>0</td>\n",
       "    </tr>\n",
       "  </tbody>\n",
       "</table>\n",
       "<p>5 rows × 451 columns</p>\n",
       "</div>"
      ],
      "text/plain": [
       "        id  summary  space  description  experiences_offered  \\\n",
       "0   241032        0      1            1                    1   \n",
       "1   953595        1      1            1                    1   \n",
       "2  3308979        1      1            1                    1   \n",
       "3   278830        1      1            1                    1   \n",
       "4  5956968        1      1            1                    1   \n",
       "\n",
       "   neighborhood_overview  notes  transit   host_id  host_about  ...  \\\n",
       "0                      0      0        0    956883           1  ...   \n",
       "1                      1      1        1   5177328           1  ...   \n",
       "2                      1      1        1  16708587           1  ...   \n",
       "3                      1      1        1   1452570           1  ...   \n",
       "4                      1      1        1    326758           1  ...   \n",
       "\n",
       "   instant_bookable_t  instant_bookable_nan  cancellation_policy_moderate  \\\n",
       "0                   0                     0                             1   \n",
       "1                   0                     0                             0   \n",
       "2                   0                     0                             0   \n",
       "3                   0                     0                             0   \n",
       "4                   0                     0                             0   \n",
       "\n",
       "   cancellation_policy_strict  cancellation_policy_super_strict_30  \\\n",
       "0                           0                                    0   \n",
       "1                           1                                    0   \n",
       "2                           1                                    0   \n",
       "3                           1                                    0   \n",
       "4                           1                                    0   \n",
       "\n",
       "   cancellation_policy_nan  require_guest_profile_picture_t  \\\n",
       "0                        0                                0   \n",
       "1                        0                                1   \n",
       "2                        0                                0   \n",
       "3                        0                                0   \n",
       "4                        0                                0   \n",
       "\n",
       "   require_guest_profile_picture_nan  require_guest_phone_verification_t  \\\n",
       "0                                  0                                   0   \n",
       "1                                  0                                   1   \n",
       "2                                  0                                   0   \n",
       "3                                  0                                   0   \n",
       "4                                  0                                   0   \n",
       "\n",
       "   require_guest_phone_verification_nan  \n",
       "0                                     0  \n",
       "1                                     0  \n",
       "2                                     0  \n",
       "3                                     0  \n",
       "4                                     0  \n",
       "\n",
       "[5 rows x 451 columns]"
      ]
     },
     "execution_count": 122,
     "metadata": {},
     "output_type": "execute_result"
    }
   ],
   "source": [
    "listings.head()"
   ]
  },
  {
   "cell_type": "code",
   "execution_count": 123,
   "metadata": {},
   "outputs": [],
   "source": [
    "def clean_fit_linear_mod(df, col, test_size=.3, rand_state=42):\n",
    "    '''\n",
    "    INPUT:\n",
    "    df - a dataframe holding all the variables of interest\n",
    "    response_col - a string with the name of the target column \n",
    "    cat_cols - list of strings that are associated with names of the categorical columns\n",
    "    dummy_na - Bool holding whether you want to dummy NA vals of categorical columns or not\n",
    "    test_size - a float between [0,1] about what proportion of data should be in the test dataset\n",
    "    rand_state - an int that is provided as the random state for splitting the data into training and test \n",
    "    \n",
    "    OUTPUT:\n",
    "    test_score - float - r2 score on the test data\n",
    "    train_score - float - r2 score on the test data\n",
    "    lm_model - model object from sklearn\n",
    "    X_train, X_test, y_train, y_test - output from sklearn train test split used for optimal model\n",
    "    \n",
    "    Your function should:\n",
    "    1. Drop the rows with missing response values\n",
    "    2. Fill the mean of the column for any missing values \n",
    "    5. Split your data into an X matrix and a response vector y\n",
    "    6. Create training and test sets of data\n",
    "    7. Instantiate a LinearRegression model with normalized data\n",
    "    8. Fit your model to the training data\n",
    "    9. Predict the response for the training data and the test data\n",
    "    10. Obtain an rsquared value for both the training and test data\n",
    "    '''\n",
    "\n",
    "    #Drop the rows with missing response values\n",
    "    df  = df.dropna(subset=[col], axis=0)\n",
    "    y=df[col]\n",
    "    #Drop respondent and expected salary columns\n",
    "    df = df.drop([col], axis=1)\n",
    "    # Mean function\n",
    "    fill_mean = lambda x: x.fillna(x.mean())\n",
    "    # Fill the mean\n",
    "    df = df.apply(fill_mean, axis=0)\n",
    "    #Split into explanatory and response variables\n",
    "    X=df\n",
    "    X_train, X_test, y_train, y_test = train_test_split(X, y, test_size=test_size, random_state=rand_state)\n",
    "    lm_model = LinearRegression(normalize=True) # Instantiate\n",
    "    lm_model.fit(X_train, y_train) #Fit\n",
    "    #Predict using your model\n",
    "    y_test_preds = lm_model.predict(X_test)\n",
    "    y_train_preds = lm_model.predict(X_train)\n",
    "    #Score using your model\n",
    "    test_score = r2_score(y_test, y_test_preds)\n",
    "    train_score = r2_score(y_train, y_train_preds)\n",
    "    return X,y,test_score, train_score, lm_model#, X_train, X_test, y_train, y_test"
   ]
  },
  {
   "cell_type": "code",
   "execution_count": 124,
   "metadata": {},
   "outputs": [],
   "source": [
    "#Use the function to create X and y\n",
    "X,y,test_score,train_scroe,model= clean_fit_linear_mod(listings,'review_scores_value' )"
   ]
  },
  {
   "cell_type": "code",
   "execution_count": 125,
   "metadata": {},
   "outputs": [
    {
     "data": {
      "text/html": [
       "<div>\n",
       "<style scoped>\n",
       "    .dataframe tbody tr th:only-of-type {\n",
       "        vertical-align: middle;\n",
       "    }\n",
       "\n",
       "    .dataframe tbody tr th {\n",
       "        vertical-align: top;\n",
       "    }\n",
       "\n",
       "    .dataframe thead th {\n",
       "        text-align: right;\n",
       "    }\n",
       "</style>\n",
       "<table border=\"1\" class=\"dataframe\">\n",
       "  <thead>\n",
       "    <tr style=\"text-align: right;\">\n",
       "      <th></th>\n",
       "      <th>id</th>\n",
       "      <th>summary</th>\n",
       "      <th>space</th>\n",
       "      <th>description</th>\n",
       "      <th>experiences_offered</th>\n",
       "      <th>neighborhood_overview</th>\n",
       "      <th>notes</th>\n",
       "      <th>transit</th>\n",
       "      <th>host_id</th>\n",
       "      <th>host_about</th>\n",
       "      <th>...</th>\n",
       "      <th>instant_bookable_t</th>\n",
       "      <th>instant_bookable_nan</th>\n",
       "      <th>cancellation_policy_moderate</th>\n",
       "      <th>cancellation_policy_strict</th>\n",
       "      <th>cancellation_policy_super_strict_30</th>\n",
       "      <th>cancellation_policy_nan</th>\n",
       "      <th>require_guest_profile_picture_t</th>\n",
       "      <th>require_guest_profile_picture_nan</th>\n",
       "      <th>require_guest_phone_verification_t</th>\n",
       "      <th>require_guest_phone_verification_nan</th>\n",
       "    </tr>\n",
       "  </thead>\n",
       "  <tbody>\n",
       "    <tr>\n",
       "      <th>0</th>\n",
       "      <td>241032</td>\n",
       "      <td>0</td>\n",
       "      <td>1</td>\n",
       "      <td>1</td>\n",
       "      <td>1</td>\n",
       "      <td>0</td>\n",
       "      <td>0</td>\n",
       "      <td>0</td>\n",
       "      <td>956883</td>\n",
       "      <td>1</td>\n",
       "      <td>...</td>\n",
       "      <td>0</td>\n",
       "      <td>0</td>\n",
       "      <td>1</td>\n",
       "      <td>0</td>\n",
       "      <td>0</td>\n",
       "      <td>0</td>\n",
       "      <td>0</td>\n",
       "      <td>0</td>\n",
       "      <td>0</td>\n",
       "      <td>0</td>\n",
       "    </tr>\n",
       "    <tr>\n",
       "      <th>1</th>\n",
       "      <td>953595</td>\n",
       "      <td>1</td>\n",
       "      <td>1</td>\n",
       "      <td>1</td>\n",
       "      <td>1</td>\n",
       "      <td>1</td>\n",
       "      <td>1</td>\n",
       "      <td>1</td>\n",
       "      <td>5177328</td>\n",
       "      <td>1</td>\n",
       "      <td>...</td>\n",
       "      <td>0</td>\n",
       "      <td>0</td>\n",
       "      <td>0</td>\n",
       "      <td>1</td>\n",
       "      <td>0</td>\n",
       "      <td>0</td>\n",
       "      <td>1</td>\n",
       "      <td>0</td>\n",
       "      <td>1</td>\n",
       "      <td>0</td>\n",
       "    </tr>\n",
       "    <tr>\n",
       "      <th>2</th>\n",
       "      <td>3308979</td>\n",
       "      <td>1</td>\n",
       "      <td>1</td>\n",
       "      <td>1</td>\n",
       "      <td>1</td>\n",
       "      <td>1</td>\n",
       "      <td>1</td>\n",
       "      <td>1</td>\n",
       "      <td>16708587</td>\n",
       "      <td>1</td>\n",
       "      <td>...</td>\n",
       "      <td>0</td>\n",
       "      <td>0</td>\n",
       "      <td>0</td>\n",
       "      <td>1</td>\n",
       "      <td>0</td>\n",
       "      <td>0</td>\n",
       "      <td>0</td>\n",
       "      <td>0</td>\n",
       "      <td>0</td>\n",
       "      <td>0</td>\n",
       "    </tr>\n",
       "    <tr>\n",
       "      <th>3</th>\n",
       "      <td>278830</td>\n",
       "      <td>1</td>\n",
       "      <td>1</td>\n",
       "      <td>1</td>\n",
       "      <td>1</td>\n",
       "      <td>1</td>\n",
       "      <td>1</td>\n",
       "      <td>1</td>\n",
       "      <td>1452570</td>\n",
       "      <td>1</td>\n",
       "      <td>...</td>\n",
       "      <td>0</td>\n",
       "      <td>0</td>\n",
       "      <td>0</td>\n",
       "      <td>1</td>\n",
       "      <td>0</td>\n",
       "      <td>0</td>\n",
       "      <td>0</td>\n",
       "      <td>0</td>\n",
       "      <td>0</td>\n",
       "      <td>0</td>\n",
       "    </tr>\n",
       "    <tr>\n",
       "      <th>4</th>\n",
       "      <td>5956968</td>\n",
       "      <td>1</td>\n",
       "      <td>1</td>\n",
       "      <td>1</td>\n",
       "      <td>1</td>\n",
       "      <td>1</td>\n",
       "      <td>1</td>\n",
       "      <td>1</td>\n",
       "      <td>326758</td>\n",
       "      <td>1</td>\n",
       "      <td>...</td>\n",
       "      <td>0</td>\n",
       "      <td>0</td>\n",
       "      <td>0</td>\n",
       "      <td>1</td>\n",
       "      <td>0</td>\n",
       "      <td>0</td>\n",
       "      <td>0</td>\n",
       "      <td>0</td>\n",
       "      <td>0</td>\n",
       "      <td>0</td>\n",
       "    </tr>\n",
       "    <tr>\n",
       "      <th>...</th>\n",
       "      <td>...</td>\n",
       "      <td>...</td>\n",
       "      <td>...</td>\n",
       "      <td>...</td>\n",
       "      <td>...</td>\n",
       "      <td>...</td>\n",
       "      <td>...</td>\n",
       "      <td>...</td>\n",
       "      <td>...</td>\n",
       "      <td>...</td>\n",
       "      <td>...</td>\n",
       "      <td>...</td>\n",
       "      <td>...</td>\n",
       "      <td>...</td>\n",
       "      <td>...</td>\n",
       "      <td>...</td>\n",
       "      <td>...</td>\n",
       "      <td>...</td>\n",
       "      <td>...</td>\n",
       "      <td>...</td>\n",
       "      <td>...</td>\n",
       "    </tr>\n",
       "    <tr>\n",
       "      <th>5921</th>\n",
       "      <td>14743129</td>\n",
       "      <td>1</td>\n",
       "      <td>0</td>\n",
       "      <td>1</td>\n",
       "      <td>1</td>\n",
       "      <td>1</td>\n",
       "      <td>0</td>\n",
       "      <td>1</td>\n",
       "      <td>91855319</td>\n",
       "      <td>0</td>\n",
       "      <td>...</td>\n",
       "      <td>0</td>\n",
       "      <td>0</td>\n",
       "      <td>1</td>\n",
       "      <td>0</td>\n",
       "      <td>0</td>\n",
       "      <td>0</td>\n",
       "      <td>0</td>\n",
       "      <td>0</td>\n",
       "      <td>0</td>\n",
       "      <td>0</td>\n",
       "    </tr>\n",
       "    <tr>\n",
       "      <th>5922</th>\n",
       "      <td>5280827</td>\n",
       "      <td>1</td>\n",
       "      <td>0</td>\n",
       "      <td>1</td>\n",
       "      <td>1</td>\n",
       "      <td>0</td>\n",
       "      <td>0</td>\n",
       "      <td>0</td>\n",
       "      <td>19246369</td>\n",
       "      <td>0</td>\n",
       "      <td>...</td>\n",
       "      <td>1</td>\n",
       "      <td>0</td>\n",
       "      <td>0</td>\n",
       "      <td>1</td>\n",
       "      <td>0</td>\n",
       "      <td>0</td>\n",
       "      <td>0</td>\n",
       "      <td>0</td>\n",
       "      <td>0</td>\n",
       "      <td>0</td>\n",
       "    </tr>\n",
       "    <tr>\n",
       "      <th>5923</th>\n",
       "      <td>14536322</td>\n",
       "      <td>1</td>\n",
       "      <td>1</td>\n",
       "      <td>1</td>\n",
       "      <td>1</td>\n",
       "      <td>1</td>\n",
       "      <td>0</td>\n",
       "      <td>1</td>\n",
       "      <td>78459716</td>\n",
       "      <td>1</td>\n",
       "      <td>...</td>\n",
       "      <td>1</td>\n",
       "      <td>0</td>\n",
       "      <td>0</td>\n",
       "      <td>1</td>\n",
       "      <td>0</td>\n",
       "      <td>0</td>\n",
       "      <td>0</td>\n",
       "      <td>0</td>\n",
       "      <td>0</td>\n",
       "      <td>0</td>\n",
       "    </tr>\n",
       "    <tr>\n",
       "      <th>5924</th>\n",
       "      <td>8373729</td>\n",
       "      <td>1</td>\n",
       "      <td>0</td>\n",
       "      <td>1</td>\n",
       "      <td>1</td>\n",
       "      <td>0</td>\n",
       "      <td>0</td>\n",
       "      <td>0</td>\n",
       "      <td>19246369</td>\n",
       "      <td>0</td>\n",
       "      <td>...</td>\n",
       "      <td>1</td>\n",
       "      <td>0</td>\n",
       "      <td>0</td>\n",
       "      <td>1</td>\n",
       "      <td>0</td>\n",
       "      <td>0</td>\n",
       "      <td>0</td>\n",
       "      <td>0</td>\n",
       "      <td>0</td>\n",
       "      <td>0</td>\n",
       "    </tr>\n",
       "    <tr>\n",
       "      <th>5925</th>\n",
       "      <td>14603878</td>\n",
       "      <td>1</td>\n",
       "      <td>0</td>\n",
       "      <td>1</td>\n",
       "      <td>1</td>\n",
       "      <td>0</td>\n",
       "      <td>0</td>\n",
       "      <td>0</td>\n",
       "      <td>74318064</td>\n",
       "      <td>1</td>\n",
       "      <td>...</td>\n",
       "      <td>0</td>\n",
       "      <td>0</td>\n",
       "      <td>0</td>\n",
       "      <td>1</td>\n",
       "      <td>0</td>\n",
       "      <td>0</td>\n",
       "      <td>0</td>\n",
       "      <td>0</td>\n",
       "      <td>0</td>\n",
       "      <td>0</td>\n",
       "    </tr>\n",
       "  </tbody>\n",
       "</table>\n",
       "<p>5926 rows × 450 columns</p>\n",
       "</div>"
      ],
      "text/plain": [
       "            id  summary  space  description  experiences_offered  \\\n",
       "0       241032        0      1            1                    1   \n",
       "1       953595        1      1            1                    1   \n",
       "2      3308979        1      1            1                    1   \n",
       "3       278830        1      1            1                    1   \n",
       "4      5956968        1      1            1                    1   \n",
       "...        ...      ...    ...          ...                  ...   \n",
       "5921  14743129        1      0            1                    1   \n",
       "5922   5280827        1      0            1                    1   \n",
       "5923  14536322        1      1            1                    1   \n",
       "5924   8373729        1      0            1                    1   \n",
       "5925  14603878        1      0            1                    1   \n",
       "\n",
       "      neighborhood_overview  notes  transit   host_id  host_about  ...  \\\n",
       "0                         0      0        0    956883           1  ...   \n",
       "1                         1      1        1   5177328           1  ...   \n",
       "2                         1      1        1  16708587           1  ...   \n",
       "3                         1      1        1   1452570           1  ...   \n",
       "4                         1      1        1    326758           1  ...   \n",
       "...                     ...    ...      ...       ...         ...  ...   \n",
       "5921                      1      0        1  91855319           0  ...   \n",
       "5922                      0      0        0  19246369           0  ...   \n",
       "5923                      1      0        1  78459716           1  ...   \n",
       "5924                      0      0        0  19246369           0  ...   \n",
       "5925                      0      0        0  74318064           1  ...   \n",
       "\n",
       "      instant_bookable_t  instant_bookable_nan  cancellation_policy_moderate  \\\n",
       "0                      0                     0                             1   \n",
       "1                      0                     0                             0   \n",
       "2                      0                     0                             0   \n",
       "3                      0                     0                             0   \n",
       "4                      0                     0                             0   \n",
       "...                  ...                   ...                           ...   \n",
       "5921                   0                     0                             1   \n",
       "5922                   1                     0                             0   \n",
       "5923                   1                     0                             0   \n",
       "5924                   1                     0                             0   \n",
       "5925                   0                     0                             0   \n",
       "\n",
       "      cancellation_policy_strict  cancellation_policy_super_strict_30  \\\n",
       "0                              0                                    0   \n",
       "1                              1                                    0   \n",
       "2                              1                                    0   \n",
       "3                              1                                    0   \n",
       "4                              1                                    0   \n",
       "...                          ...                                  ...   \n",
       "5921                           0                                    0   \n",
       "5922                           1                                    0   \n",
       "5923                           1                                    0   \n",
       "5924                           1                                    0   \n",
       "5925                           1                                    0   \n",
       "\n",
       "      cancellation_policy_nan  require_guest_profile_picture_t  \\\n",
       "0                           0                                0   \n",
       "1                           0                                1   \n",
       "2                           0                                0   \n",
       "3                           0                                0   \n",
       "4                           0                                0   \n",
       "...                       ...                              ...   \n",
       "5921                        0                                0   \n",
       "5922                        0                                0   \n",
       "5923                        0                                0   \n",
       "5924                        0                                0   \n",
       "5925                        0                                0   \n",
       "\n",
       "      require_guest_profile_picture_nan  require_guest_phone_verification_t  \\\n",
       "0                                     0                                   0   \n",
       "1                                     0                                   1   \n",
       "2                                     0                                   0   \n",
       "3                                     0                                   0   \n",
       "4                                     0                                   0   \n",
       "...                                 ...                                 ...   \n",
       "5921                                  0                                   0   \n",
       "5922                                  0                                   0   \n",
       "5923                                  0                                   0   \n",
       "5924                                  0                                   0   \n",
       "5925                                  0                                   0   \n",
       "\n",
       "      require_guest_phone_verification_nan  \n",
       "0                                        0  \n",
       "1                                        0  \n",
       "2                                        0  \n",
       "3                                        0  \n",
       "4                                        0  \n",
       "...                                    ...  \n",
       "5921                                     0  \n",
       "5922                                     0  \n",
       "5923                                     0  \n",
       "5924                                     0  \n",
       "5925                                     0  \n",
       "\n",
       "[5926 rows x 450 columns]"
      ]
     },
     "execution_count": 125,
     "metadata": {},
     "output_type": "execute_result"
    }
   ],
   "source": [
    "X"
   ]
  },
  {
   "cell_type": "markdown",
   "metadata": {},
   "source": [
    "Tratar las columnas con texto como si se tiene o no se tiene la descripción.\n",
    "'summary','space', 'description', 'experiences_offered', 'neighborhood_overview','notes', 'transit', 'host_about'\n",
    "\n",
    "revews per month NAN convertir a cero 'host_response_rate', 'host_acceptance_rate','host_listings_count', 'host_total_listings_count','host_verifications'"
   ]
  },
  {
   "cell_type": "markdown",
   "metadata": {},
   "source": [
    "## Answering the questions\n",
    "<br>1) What are the busiest times of the year to visit each city?</br>"
   ]
  },
  {
   "cell_type": "code",
   "execution_count": 126,
   "metadata": {},
   "outputs": [
    {
     "data": {
      "text/html": [
       "<div>\n",
       "<style scoped>\n",
       "    .dataframe tbody tr th:only-of-type {\n",
       "        vertical-align: middle;\n",
       "    }\n",
       "\n",
       "    .dataframe tbody tr th {\n",
       "        vertical-align: top;\n",
       "    }\n",
       "\n",
       "    .dataframe thead th {\n",
       "        text-align: right;\n",
       "    }\n",
       "</style>\n",
       "<table border=\"1\" class=\"dataframe\">\n",
       "  <thead>\n",
       "    <tr style=\"text-align: right;\">\n",
       "      <th></th>\n",
       "      <th>listing_id</th>\n",
       "      <th>date</th>\n",
       "      <th>available</th>\n",
       "      <th>price</th>\n",
       "      <th>City</th>\n",
       "    </tr>\n",
       "  </thead>\n",
       "  <tbody>\n",
       "    <tr>\n",
       "      <th>1308885</th>\n",
       "      <td>14504422</td>\n",
       "      <td>2016-09-10</td>\n",
       "      <td>f</td>\n",
       "      <td>NaN</td>\n",
       "      <td>Boston</td>\n",
       "    </tr>\n",
       "    <tr>\n",
       "      <th>1308886</th>\n",
       "      <td>14504422</td>\n",
       "      <td>2016-09-09</td>\n",
       "      <td>f</td>\n",
       "      <td>NaN</td>\n",
       "      <td>Boston</td>\n",
       "    </tr>\n",
       "    <tr>\n",
       "      <th>1308887</th>\n",
       "      <td>14504422</td>\n",
       "      <td>2016-09-08</td>\n",
       "      <td>f</td>\n",
       "      <td>NaN</td>\n",
       "      <td>Boston</td>\n",
       "    </tr>\n",
       "    <tr>\n",
       "      <th>1308888</th>\n",
       "      <td>14504422</td>\n",
       "      <td>2016-09-07</td>\n",
       "      <td>f</td>\n",
       "      <td>NaN</td>\n",
       "      <td>Boston</td>\n",
       "    </tr>\n",
       "    <tr>\n",
       "      <th>1308889</th>\n",
       "      <td>14504422</td>\n",
       "      <td>2016-09-06</td>\n",
       "      <td>f</td>\n",
       "      <td>NaN</td>\n",
       "      <td>Boston</td>\n",
       "    </tr>\n",
       "  </tbody>\n",
       "</table>\n",
       "</div>"
      ],
      "text/plain": [
       "         listing_id        date available price    City\n",
       "1308885    14504422  2016-09-10         f   NaN  Boston\n",
       "1308886    14504422  2016-09-09         f   NaN  Boston\n",
       "1308887    14504422  2016-09-08         f   NaN  Boston\n",
       "1308888    14504422  2016-09-07         f   NaN  Boston\n",
       "1308889    14504422  2016-09-06         f   NaN  Boston"
      ]
     },
     "execution_count": 126,
     "metadata": {},
     "output_type": "execute_result"
    }
   ],
   "source": [
    "Seattle_calendar.tail()\n",
    "Boston_calendar.tail()"
   ]
  },
  {
   "cell_type": "code",
   "execution_count": 127,
   "metadata": {},
   "outputs": [],
   "source": [
    "Seattle_calendar['City']='Seattle'\n",
    "Boston_calendar['City']='Boston'"
   ]
  },
  {
   "cell_type": "code",
   "execution_count": 128,
   "metadata": {},
   "outputs": [],
   "source": [
    "Calendar=Boston_calendar.append(Seattle_calendar, ignore_index=True)"
   ]
  },
  {
   "cell_type": "code",
   "execution_count": 129,
   "metadata": {},
   "outputs": [
    {
     "data": {
      "text/html": [
       "<div>\n",
       "<style scoped>\n",
       "    .dataframe tbody tr th:only-of-type {\n",
       "        vertical-align: middle;\n",
       "    }\n",
       "\n",
       "    .dataframe tbody tr th {\n",
       "        vertical-align: top;\n",
       "    }\n",
       "\n",
       "    .dataframe thead tr th {\n",
       "        text-align: left;\n",
       "    }\n",
       "\n",
       "    .dataframe thead tr:last-of-type th {\n",
       "        text-align: right;\n",
       "    }\n",
       "</style>\n",
       "<table border=\"1\" class=\"dataframe\">\n",
       "  <thead>\n",
       "    <tr>\n",
       "      <th></th>\n",
       "      <th colspan=\"4\" halign=\"left\">listing_id</th>\n",
       "    </tr>\n",
       "    <tr>\n",
       "      <th>City</th>\n",
       "      <th colspan=\"2\" halign=\"left\">Boston</th>\n",
       "      <th colspan=\"2\" halign=\"left\">Seattle</th>\n",
       "    </tr>\n",
       "    <tr>\n",
       "      <th>available</th>\n",
       "      <th>f</th>\n",
       "      <th>t</th>\n",
       "      <th>f</th>\n",
       "      <th>t</th>\n",
       "    </tr>\n",
       "    <tr>\n",
       "      <th>date</th>\n",
       "      <th></th>\n",
       "      <th></th>\n",
       "      <th></th>\n",
       "      <th></th>\n",
       "    </tr>\n",
       "  </thead>\n",
       "  <tbody>\n",
       "    <tr>\n",
       "      <th>2016-01-04</th>\n",
       "      <td>NaN</td>\n",
       "      <td>NaN</td>\n",
       "      <td>2083.0</td>\n",
       "      <td>1735.0</td>\n",
       "    </tr>\n",
       "    <tr>\n",
       "      <th>2016-01-05</th>\n",
       "      <td>NaN</td>\n",
       "      <td>NaN</td>\n",
       "      <td>1951.0</td>\n",
       "      <td>1867.0</td>\n",
       "    </tr>\n",
       "    <tr>\n",
       "      <th>2016-01-06</th>\n",
       "      <td>NaN</td>\n",
       "      <td>NaN</td>\n",
       "      <td>1992.0</td>\n",
       "      <td>1826.0</td>\n",
       "    </tr>\n",
       "    <tr>\n",
       "      <th>2016-01-07</th>\n",
       "      <td>NaN</td>\n",
       "      <td>NaN</td>\n",
       "      <td>2042.0</td>\n",
       "      <td>1776.0</td>\n",
       "    </tr>\n",
       "    <tr>\n",
       "      <th>2016-01-08</th>\n",
       "      <td>NaN</td>\n",
       "      <td>NaN</td>\n",
       "      <td>2036.0</td>\n",
       "      <td>1782.0</td>\n",
       "    </tr>\n",
       "    <tr>\n",
       "      <th>...</th>\n",
       "      <td>...</td>\n",
       "      <td>...</td>\n",
       "      <td>...</td>\n",
       "      <td>...</td>\n",
       "    </tr>\n",
       "    <tr>\n",
       "      <th>2017-09-01</th>\n",
       "      <td>1791.0</td>\n",
       "      <td>1795.0</td>\n",
       "      <td>NaN</td>\n",
       "      <td>NaN</td>\n",
       "    </tr>\n",
       "    <tr>\n",
       "      <th>2017-09-02</th>\n",
       "      <td>1788.0</td>\n",
       "      <td>1798.0</td>\n",
       "      <td>NaN</td>\n",
       "      <td>NaN</td>\n",
       "    </tr>\n",
       "    <tr>\n",
       "      <th>2017-09-03</th>\n",
       "      <td>1784.0</td>\n",
       "      <td>1802.0</td>\n",
       "      <td>NaN</td>\n",
       "      <td>NaN</td>\n",
       "    </tr>\n",
       "    <tr>\n",
       "      <th>2017-09-04</th>\n",
       "      <td>1785.0</td>\n",
       "      <td>1801.0</td>\n",
       "      <td>NaN</td>\n",
       "      <td>NaN</td>\n",
       "    </tr>\n",
       "    <tr>\n",
       "      <th>2017-09-05</th>\n",
       "      <td>1785.0</td>\n",
       "      <td>1801.0</td>\n",
       "      <td>NaN</td>\n",
       "      <td>NaN</td>\n",
       "    </tr>\n",
       "  </tbody>\n",
       "</table>\n",
       "<p>611 rows × 4 columns</p>\n",
       "</div>"
      ],
      "text/plain": [
       "           listing_id                        \n",
       "City           Boston         Seattle        \n",
       "available           f       t       f       t\n",
       "date                                         \n",
       "2016-01-04        NaN     NaN  2083.0  1735.0\n",
       "2016-01-05        NaN     NaN  1951.0  1867.0\n",
       "2016-01-06        NaN     NaN  1992.0  1826.0\n",
       "2016-01-07        NaN     NaN  2042.0  1776.0\n",
       "2016-01-08        NaN     NaN  2036.0  1782.0\n",
       "...               ...     ...     ...     ...\n",
       "2017-09-01     1791.0  1795.0     NaN     NaN\n",
       "2017-09-02     1788.0  1798.0     NaN     NaN\n",
       "2017-09-03     1784.0  1802.0     NaN     NaN\n",
       "2017-09-04     1785.0  1801.0     NaN     NaN\n",
       "2017-09-05     1785.0  1801.0     NaN     NaN\n",
       "\n",
       "[611 rows x 4 columns]"
      ]
     },
     "execution_count": 129,
     "metadata": {},
     "output_type": "execute_result"
    }
   ],
   "source": [
    "TD=pd.pivot_table(Calendar,index=['date'],columns=['City','available'],values=['listing_id'],aggfunc='count')\n",
    "TD"
   ]
  },
  {
   "cell_type": "code",
   "execution_count": 130,
   "metadata": {},
   "outputs": [
    {
     "name": "stdout",
     "output_type": "stream",
     "text": [
      "<class 'pandas.core.frame.DataFrame'>\n",
      "Index: 611 entries, 2016-01-04 to 2017-09-05\n",
      "Data columns (total 4 columns):\n",
      " #   Column                    Non-Null Count  Dtype  \n",
      "---  ------                    --------------  -----  \n",
      " 0   (listing_id, Boston, f)   365 non-null    float64\n",
      " 1   (listing_id, Boston, t)   365 non-null    float64\n",
      " 2   (listing_id, Seattle, f)  365 non-null    float64\n",
      " 3   (listing_id, Seattle, t)  365 non-null    float64\n",
      "dtypes: float64(4)\n",
      "memory usage: 23.9+ KB\n"
     ]
    }
   ],
   "source": [
    "TD.info()"
   ]
  },
  {
   "cell_type": "code",
   "execution_count": 131,
   "metadata": {},
   "outputs": [
    {
     "data": {
      "image/png": "[encoded data removed]",
      "text/plain": [
       "<Figure size 576x288 with 1 Axes>"
      ]
     },
     "metadata": {
      "needs_background": "light"
     },
     "output_type": "display_data"
    }
   ],
   "source": [
    "TD.plot(figsize=(8,4))\n",
    "plt.title('Quantity of listings and their availability over time in Boston and Seattle')\n",
    "plt.show()"
   ]
  },
  {
   "cell_type": "markdown",
   "metadata": {},
   "source": [
    "The datasets have different periods and it can be seen that the availability of Seattle has increased over time. The same situation can be seen in Boston case getting steady arround a 50%. It coud be infered that the bussiest times in Seattle are april and june. On the other hand, the bussiest time in Boston is between june and august."
   ]
  },
  {
   "cell_type": "markdown",
   "metadata": {},
   "source": [
    "<br>2) Which city has the best Airbnb ratings?</br>"
   ]
  },
  {
   "cell_type": "code",
   "execution_count": 132,
   "metadata": {},
   "outputs": [],
   "source": [
    "Ratings= X.copy()\n",
    "Ratings['Final_Rate']=y"
   ]
  },
  {
   "cell_type": "code",
   "execution_count": 133,
   "metadata": {
    "scrolled": true
   },
   "outputs": [
    {
     "data": {
      "text/html": [
       "<div>\n",
       "<style scoped>\n",
       "    .dataframe tbody tr th:only-of-type {\n",
       "        vertical-align: middle;\n",
       "    }\n",
       "\n",
       "    .dataframe tbody tr th {\n",
       "        vertical-align: top;\n",
       "    }\n",
       "\n",
       "    .dataframe thead th {\n",
       "        text-align: right;\n",
       "    }\n",
       "</style>\n",
       "<table border=\"1\" class=\"dataframe\">\n",
       "  <thead>\n",
       "    <tr style=\"text-align: right;\">\n",
       "      <th></th>\n",
       "      <th>id</th>\n",
       "      <th>summary</th>\n",
       "      <th>space</th>\n",
       "      <th>description</th>\n",
       "      <th>experiences_offered</th>\n",
       "      <th>neighborhood_overview</th>\n",
       "      <th>notes</th>\n",
       "      <th>transit</th>\n",
       "      <th>host_id</th>\n",
       "      <th>host_about</th>\n",
       "      <th>...</th>\n",
       "      <th>instant_bookable_nan</th>\n",
       "      <th>cancellation_policy_moderate</th>\n",
       "      <th>cancellation_policy_strict</th>\n",
       "      <th>cancellation_policy_super_strict_30</th>\n",
       "      <th>cancellation_policy_nan</th>\n",
       "      <th>require_guest_profile_picture_t</th>\n",
       "      <th>require_guest_profile_picture_nan</th>\n",
       "      <th>require_guest_phone_verification_t</th>\n",
       "      <th>require_guest_phone_verification_nan</th>\n",
       "      <th>Final_Rate</th>\n",
       "    </tr>\n",
       "  </thead>\n",
       "  <tbody>\n",
       "    <tr>\n",
       "      <th>0</th>\n",
       "      <td>241032</td>\n",
       "      <td>0</td>\n",
       "      <td>1</td>\n",
       "      <td>1</td>\n",
       "      <td>1</td>\n",
       "      <td>0</td>\n",
       "      <td>0</td>\n",
       "      <td>0</td>\n",
       "      <td>956883</td>\n",
       "      <td>1</td>\n",
       "      <td>...</td>\n",
       "      <td>0</td>\n",
       "      <td>1</td>\n",
       "      <td>0</td>\n",
       "      <td>0</td>\n",
       "      <td>0</td>\n",
       "      <td>0</td>\n",
       "      <td>0</td>\n",
       "      <td>0</td>\n",
       "      <td>0</td>\n",
       "      <td>10.0</td>\n",
       "    </tr>\n",
       "    <tr>\n",
       "      <th>1</th>\n",
       "      <td>953595</td>\n",
       "      <td>1</td>\n",
       "      <td>1</td>\n",
       "      <td>1</td>\n",
       "      <td>1</td>\n",
       "      <td>1</td>\n",
       "      <td>1</td>\n",
       "      <td>1</td>\n",
       "      <td>5177328</td>\n",
       "      <td>1</td>\n",
       "      <td>...</td>\n",
       "      <td>0</td>\n",
       "      <td>0</td>\n",
       "      <td>1</td>\n",
       "      <td>0</td>\n",
       "      <td>0</td>\n",
       "      <td>1</td>\n",
       "      <td>0</td>\n",
       "      <td>1</td>\n",
       "      <td>0</td>\n",
       "      <td>10.0</td>\n",
       "    </tr>\n",
       "    <tr>\n",
       "      <th>2</th>\n",
       "      <td>3308979</td>\n",
       "      <td>1</td>\n",
       "      <td>1</td>\n",
       "      <td>1</td>\n",
       "      <td>1</td>\n",
       "      <td>1</td>\n",
       "      <td>1</td>\n",
       "      <td>1</td>\n",
       "      <td>16708587</td>\n",
       "      <td>1</td>\n",
       "      <td>...</td>\n",
       "      <td>0</td>\n",
       "      <td>0</td>\n",
       "      <td>1</td>\n",
       "      <td>0</td>\n",
       "      <td>0</td>\n",
       "      <td>0</td>\n",
       "      <td>0</td>\n",
       "      <td>0</td>\n",
       "      <td>0</td>\n",
       "      <td>10.0</td>\n",
       "    </tr>\n",
       "    <tr>\n",
       "      <th>3</th>\n",
       "      <td>278830</td>\n",
       "      <td>1</td>\n",
       "      <td>1</td>\n",
       "      <td>1</td>\n",
       "      <td>1</td>\n",
       "      <td>1</td>\n",
       "      <td>1</td>\n",
       "      <td>1</td>\n",
       "      <td>1452570</td>\n",
       "      <td>1</td>\n",
       "      <td>...</td>\n",
       "      <td>0</td>\n",
       "      <td>0</td>\n",
       "      <td>1</td>\n",
       "      <td>0</td>\n",
       "      <td>0</td>\n",
       "      <td>0</td>\n",
       "      <td>0</td>\n",
       "      <td>0</td>\n",
       "      <td>0</td>\n",
       "      <td>9.0</td>\n",
       "    </tr>\n",
       "    <tr>\n",
       "      <th>4</th>\n",
       "      <td>5956968</td>\n",
       "      <td>1</td>\n",
       "      <td>1</td>\n",
       "      <td>1</td>\n",
       "      <td>1</td>\n",
       "      <td>1</td>\n",
       "      <td>1</td>\n",
       "      <td>1</td>\n",
       "      <td>326758</td>\n",
       "      <td>1</td>\n",
       "      <td>...</td>\n",
       "      <td>0</td>\n",
       "      <td>0</td>\n",
       "      <td>1</td>\n",
       "      <td>0</td>\n",
       "      <td>0</td>\n",
       "      <td>0</td>\n",
       "      <td>0</td>\n",
       "      <td>0</td>\n",
       "      <td>0</td>\n",
       "      <td>10.0</td>\n",
       "    </tr>\n",
       "    <tr>\n",
       "      <th>...</th>\n",
       "      <td>...</td>\n",
       "      <td>...</td>\n",
       "      <td>...</td>\n",
       "      <td>...</td>\n",
       "      <td>...</td>\n",
       "      <td>...</td>\n",
       "      <td>...</td>\n",
       "      <td>...</td>\n",
       "      <td>...</td>\n",
       "      <td>...</td>\n",
       "      <td>...</td>\n",
       "      <td>...</td>\n",
       "      <td>...</td>\n",
       "      <td>...</td>\n",
       "      <td>...</td>\n",
       "      <td>...</td>\n",
       "      <td>...</td>\n",
       "      <td>...</td>\n",
       "      <td>...</td>\n",
       "      <td>...</td>\n",
       "      <td>...</td>\n",
       "    </tr>\n",
       "    <tr>\n",
       "      <th>5921</th>\n",
       "      <td>14743129</td>\n",
       "      <td>1</td>\n",
       "      <td>0</td>\n",
       "      <td>1</td>\n",
       "      <td>1</td>\n",
       "      <td>1</td>\n",
       "      <td>0</td>\n",
       "      <td>1</td>\n",
       "      <td>91855319</td>\n",
       "      <td>0</td>\n",
       "      <td>...</td>\n",
       "      <td>0</td>\n",
       "      <td>1</td>\n",
       "      <td>0</td>\n",
       "      <td>0</td>\n",
       "      <td>0</td>\n",
       "      <td>0</td>\n",
       "      <td>0</td>\n",
       "      <td>0</td>\n",
       "      <td>0</td>\n",
       "      <td>8.0</td>\n",
       "    </tr>\n",
       "    <tr>\n",
       "      <th>5922</th>\n",
       "      <td>5280827</td>\n",
       "      <td>1</td>\n",
       "      <td>0</td>\n",
       "      <td>1</td>\n",
       "      <td>1</td>\n",
       "      <td>0</td>\n",
       "      <td>0</td>\n",
       "      <td>0</td>\n",
       "      <td>19246369</td>\n",
       "      <td>0</td>\n",
       "      <td>...</td>\n",
       "      <td>0</td>\n",
       "      <td>0</td>\n",
       "      <td>1</td>\n",
       "      <td>0</td>\n",
       "      <td>0</td>\n",
       "      <td>0</td>\n",
       "      <td>0</td>\n",
       "      <td>0</td>\n",
       "      <td>0</td>\n",
       "      <td>7.0</td>\n",
       "    </tr>\n",
       "    <tr>\n",
       "      <th>5923</th>\n",
       "      <td>14536322</td>\n",
       "      <td>1</td>\n",
       "      <td>1</td>\n",
       "      <td>1</td>\n",
       "      <td>1</td>\n",
       "      <td>1</td>\n",
       "      <td>0</td>\n",
       "      <td>1</td>\n",
       "      <td>78459716</td>\n",
       "      <td>1</td>\n",
       "      <td>...</td>\n",
       "      <td>0</td>\n",
       "      <td>0</td>\n",
       "      <td>1</td>\n",
       "      <td>0</td>\n",
       "      <td>0</td>\n",
       "      <td>0</td>\n",
       "      <td>0</td>\n",
       "      <td>0</td>\n",
       "      <td>0</td>\n",
       "      <td>10.0</td>\n",
       "    </tr>\n",
       "    <tr>\n",
       "      <th>5924</th>\n",
       "      <td>8373729</td>\n",
       "      <td>1</td>\n",
       "      <td>0</td>\n",
       "      <td>1</td>\n",
       "      <td>1</td>\n",
       "      <td>0</td>\n",
       "      <td>0</td>\n",
       "      <td>0</td>\n",
       "      <td>19246369</td>\n",
       "      <td>0</td>\n",
       "      <td>...</td>\n",
       "      <td>0</td>\n",
       "      <td>0</td>\n",
       "      <td>1</td>\n",
       "      <td>0</td>\n",
       "      <td>0</td>\n",
       "      <td>0</td>\n",
       "      <td>0</td>\n",
       "      <td>0</td>\n",
       "      <td>0</td>\n",
       "      <td>9.0</td>\n",
       "    </tr>\n",
       "    <tr>\n",
       "      <th>5925</th>\n",
       "      <td>14603878</td>\n",
       "      <td>1</td>\n",
       "      <td>0</td>\n",
       "      <td>1</td>\n",
       "      <td>1</td>\n",
       "      <td>0</td>\n",
       "      <td>0</td>\n",
       "      <td>0</td>\n",
       "      <td>74318064</td>\n",
       "      <td>1</td>\n",
       "      <td>...</td>\n",
       "      <td>0</td>\n",
       "      <td>0</td>\n",
       "      <td>1</td>\n",
       "      <td>0</td>\n",
       "      <td>0</td>\n",
       "      <td>0</td>\n",
       "      <td>0</td>\n",
       "      <td>0</td>\n",
       "      <td>0</td>\n",
       "      <td>7.0</td>\n",
       "    </tr>\n",
       "  </tbody>\n",
       "</table>\n",
       "<p>5926 rows × 451 columns</p>\n",
       "</div>"
      ],
      "text/plain": [
       "            id  summary  space  description  experiences_offered  \\\n",
       "0       241032        0      1            1                    1   \n",
       "1       953595        1      1            1                    1   \n",
       "2      3308979        1      1            1                    1   \n",
       "3       278830        1      1            1                    1   \n",
       "4      5956968        1      1            1                    1   \n",
       "...        ...      ...    ...          ...                  ...   \n",
       "5921  14743129        1      0            1                    1   \n",
       "5922   5280827        1      0            1                    1   \n",
       "5923  14536322        1      1            1                    1   \n",
       "5924   8373729        1      0            1                    1   \n",
       "5925  14603878        1      0            1                    1   \n",
       "\n",
       "      neighborhood_overview  notes  transit   host_id  host_about  ...  \\\n",
       "0                         0      0        0    956883           1  ...   \n",
       "1                         1      1        1   5177328           1  ...   \n",
       "2                         1      1        1  16708587           1  ...   \n",
       "3                         1      1        1   1452570           1  ...   \n",
       "4                         1      1        1    326758           1  ...   \n",
       "...                     ...    ...      ...       ...         ...  ...   \n",
       "5921                      1      0        1  91855319           0  ...   \n",
       "5922                      0      0        0  19246369           0  ...   \n",
       "5923                      1      0        1  78459716           1  ...   \n",
       "5924                      0      0        0  19246369           0  ...   \n",
       "5925                      0      0        0  74318064           1  ...   \n",
       "\n",
       "      instant_bookable_nan  cancellation_policy_moderate  \\\n",
       "0                        0                             1   \n",
       "1                        0                             0   \n",
       "2                        0                             0   \n",
       "3                        0                             0   \n",
       "4                        0                             0   \n",
       "...                    ...                           ...   \n",
       "5921                     0                             1   \n",
       "5922                     0                             0   \n",
       "5923                     0                             0   \n",
       "5924                     0                             0   \n",
       "5925                     0                             0   \n",
       "\n",
       "      cancellation_policy_strict  cancellation_policy_super_strict_30  \\\n",
       "0                              0                                    0   \n",
       "1                              1                                    0   \n",
       "2                              1                                    0   \n",
       "3                              1                                    0   \n",
       "4                              1                                    0   \n",
       "...                          ...                                  ...   \n",
       "5921                           0                                    0   \n",
       "5922                           1                                    0   \n",
       "5923                           1                                    0   \n",
       "5924                           1                                    0   \n",
       "5925                           1                                    0   \n",
       "\n",
       "      cancellation_policy_nan  require_guest_profile_picture_t  \\\n",
       "0                           0                                0   \n",
       "1                           0                                1   \n",
       "2                           0                                0   \n",
       "3                           0                                0   \n",
       "4                           0                                0   \n",
       "...                       ...                              ...   \n",
       "5921                        0                                0   \n",
       "5922                        0                                0   \n",
       "5923                        0                                0   \n",
       "5924                        0                                0   \n",
       "5925                        0                                0   \n",
       "\n",
       "      require_guest_profile_picture_nan  require_guest_phone_verification_t  \\\n",
       "0                                     0                                   0   \n",
       "1                                     0                                   1   \n",
       "2                                     0                                   0   \n",
       "3                                     0                                   0   \n",
       "4                                     0                                   0   \n",
       "...                                 ...                                 ...   \n",
       "5921                                  0                                   0   \n",
       "5922                                  0                                   0   \n",
       "5923                                  0                                   0   \n",
       "5924                                  0                                   0   \n",
       "5925                                  0                                   0   \n",
       "\n",
       "      require_guest_phone_verification_nan  Final_Rate  \n",
       "0                                        0        10.0  \n",
       "1                                        0        10.0  \n",
       "2                                        0        10.0  \n",
       "3                                        0         9.0  \n",
       "4                                        0        10.0  \n",
       "...                                    ...         ...  \n",
       "5921                                     0         8.0  \n",
       "5922                                     0         7.0  \n",
       "5923                                     0        10.0  \n",
       "5924                                     0         9.0  \n",
       "5925                                     0         7.0  \n",
       "\n",
       "[5926 rows x 451 columns]"
      ]
     },
     "execution_count": 133,
     "metadata": {},
     "output_type": "execute_result"
    }
   ],
   "source": [
    "Ratings"
   ]
  },
  {
   "cell_type": "code",
   "execution_count": 134,
   "metadata": {},
   "outputs": [
    {
     "data": {
      "text/plain": [
       "Index(['id', 'summary', 'space', 'description', 'experiences_offered',\n",
       "       'neighborhood_overview', 'notes', 'transit', 'host_id', 'host_about',\n",
       "       ...\n",
       "       'instant_bookable_nan', 'cancellation_policy_moderate',\n",
       "       'cancellation_policy_strict', 'cancellation_policy_super_strict_30',\n",
       "       'cancellation_policy_nan', 'require_guest_profile_picture_t',\n",
       "       'require_guest_profile_picture_nan',\n",
       "       'require_guest_phone_verification_t',\n",
       "       'require_guest_phone_verification_nan', 'Final_Rate'],\n",
       "      dtype='object', length=451)"
      ]
     },
     "execution_count": 134,
     "metadata": {},
     "output_type": "execute_result"
    }
   ],
   "source": [
    "Ratings.columns"
   ]
  },
  {
   "cell_type": "code",
   "execution_count": 135,
   "metadata": {},
   "outputs": [
    {
     "data": {
      "text/html": [
       "<div>\n",
       "<style scoped>\n",
       "    .dataframe tbody tr th:only-of-type {\n",
       "        vertical-align: middle;\n",
       "    }\n",
       "\n",
       "    .dataframe tbody tr th {\n",
       "        vertical-align: top;\n",
       "    }\n",
       "\n",
       "    .dataframe thead th {\n",
       "        text-align: right;\n",
       "    }\n",
       "</style>\n",
       "<table border=\"1\" class=\"dataframe\">\n",
       "  <thead>\n",
       "    <tr style=\"text-align: right;\">\n",
       "      <th></th>\n",
       "      <th>Final_Rate</th>\n",
       "    </tr>\n",
       "    <tr>\n",
       "      <th>market_Seattle</th>\n",
       "      <th></th>\n",
       "    </tr>\n",
       "  </thead>\n",
       "  <tbody>\n",
       "    <tr>\n",
       "      <th>0</th>\n",
       "      <td>9.168234</td>\n",
       "    </tr>\n",
       "    <tr>\n",
       "      <th>1</th>\n",
       "      <td>9.452245</td>\n",
       "    </tr>\n",
       "  </tbody>\n",
       "</table>\n",
       "</div>"
      ],
      "text/plain": [
       "                Final_Rate\n",
       "market_Seattle            \n",
       "0                 9.168234\n",
       "1                 9.452245"
      ]
     },
     "execution_count": 135,
     "metadata": {},
     "output_type": "execute_result"
    }
   ],
   "source": [
    "TD3=pd.pivot_table(Ratings,index=['market_Seattle'],values=['Final_Rate'],aggfunc='mean')\n",
    "TD3"
   ]
  },
  {
   "cell_type": "code",
   "execution_count": 136,
   "metadata": {},
   "outputs": [],
   "source": [
    "TD3['Ciudad']=['Boston','Seattle']"
   ]
  },
  {
   "cell_type": "code",
   "execution_count": 137,
   "metadata": {},
   "outputs": [
    {
     "data": {
      "image/png": "[encoded data removed]",
      "text/plain": [
       "<Figure size 432x288 with 1 Axes>"
      ]
     },
     "metadata": {
      "needs_background": "light"
     },
     "output_type": "display_data"
    }
   ],
   "source": [
    "plt.bar(TD3.Ciudad,TD3.Final_Rate)\n",
    "plt.title('Boston and seattle total rating')\n",
    "plt.show()"
   ]
  },
  {
   "cell_type": "markdown",
   "metadata": {},
   "source": [
    "It can be seen that the average rating among cities is very good and close among them. However Seattle ratings are slightly better than Boston"
   ]
  },
  {
   "cell_type": "markdown",
   "metadata": {},
   "source": [
    "<br>3) What characteristics are related to higher ratings?</br>"
   ]
  },
  {
   "cell_type": "code",
   "execution_count": 138,
   "metadata": {},
   "outputs": [],
   "source": [
    "# Get the coefficient of each variable\n",
    "coefficients = model.coef_\n",
    "variables=pd.DataFrame()\n",
    "variables['Column']=X.columns\n",
    "variables['Coefficient']=coefficients\n",
    "\n",
    "\n",
    "# Sort the coefficients in descending order\n",
    "variables.sort_values(by='Coefficient',inplace=True)"
   ]
  },
  {
   "cell_type": "code",
   "execution_count": 139,
   "metadata": {},
   "outputs": [],
   "source": [
    "variables2=variables.head(10).append(variables.tail(10))"
   ]
  },
  {
   "cell_type": "code",
   "execution_count": 140,
   "metadata": {},
   "outputs": [
    {
     "data": {
      "text/html": [
       "<div>\n",
       "<style scoped>\n",
       "    .dataframe tbody tr th:only-of-type {\n",
       "        vertical-align: middle;\n",
       "    }\n",
       "\n",
       "    .dataframe tbody tr th {\n",
       "        vertical-align: top;\n",
       "    }\n",
       "\n",
       "    .dataframe thead th {\n",
       "        text-align: right;\n",
       "    }\n",
       "</style>\n",
       "<table border=\"1\" class=\"dataframe\">\n",
       "  <thead>\n",
       "    <tr style=\"text-align: right;\">\n",
       "      <th></th>\n",
       "      <th>Column</th>\n",
       "      <th>Coefficient</th>\n",
       "    </tr>\n",
       "  </thead>\n",
       "  <tbody>\n",
       "    <tr>\n",
       "      <th>245</th>\n",
       "      <td>host_neighbourhood_Manhattan Beach</td>\n",
       "      <td>-7.592079e+14</td>\n",
       "    </tr>\n",
       "    <tr>\n",
       "      <th>309</th>\n",
       "      <td>host_identity_verified_nan</td>\n",
       "      <td>-6.853872e+14</td>\n",
       "    </tr>\n",
       "    <tr>\n",
       "      <th>337</th>\n",
       "      <td>room_type_nan</td>\n",
       "      <td>-4.893312e+14</td>\n",
       "    </tr>\n",
       "    <tr>\n",
       "      <th>351</th>\n",
       "      <td>extra_people_$150.00</td>\n",
       "      <td>-4.834554e+14</td>\n",
       "    </tr>\n",
       "    <tr>\n",
       "      <th>342</th>\n",
       "      <td>bed_type_nan</td>\n",
       "      <td>-4.205253e+14</td>\n",
       "    </tr>\n",
       "    <tr>\n",
       "      <th>355</th>\n",
       "      <td>extra_people_$18.00</td>\n",
       "      <td>-3.131766e+14</td>\n",
       "    </tr>\n",
       "    <tr>\n",
       "      <th>315</th>\n",
       "      <td>is_location_exact_nan</td>\n",
       "      <td>-3.025752e+14</td>\n",
       "    </tr>\n",
       "    <tr>\n",
       "      <th>15</th>\n",
       "      <td>amenities</td>\n",
       "      <td>-2.951719e+14</td>\n",
       "    </tr>\n",
       "    <tr>\n",
       "      <th>4</th>\n",
       "      <td>experiences_offered</td>\n",
       "      <td>-2.283054e+14</td>\n",
       "    </tr>\n",
       "    <tr>\n",
       "      <th>116</th>\n",
       "      <td>host_acceptance_rate_52%</td>\n",
       "      <td>-2.211388e+14</td>\n",
       "    </tr>\n",
       "    <tr>\n",
       "      <th>196</th>\n",
       "      <td>host_neighbourhood_Coral Way</td>\n",
       "      <td>5.168745e+13</td>\n",
       "    </tr>\n",
       "    <tr>\n",
       "      <th>177</th>\n",
       "      <td>host_neighbourhood_Bernal Heights</td>\n",
       "      <td>7.530290e+13</td>\n",
       "    </tr>\n",
       "    <tr>\n",
       "      <th>204</th>\n",
       "      <td>host_neighbourhood_East Village</td>\n",
       "      <td>8.713189e+13</td>\n",
       "    </tr>\n",
       "    <tr>\n",
       "      <th>176</th>\n",
       "      <td>host_neighbourhood_Benton Park</td>\n",
       "      <td>1.358436e+14</td>\n",
       "    </tr>\n",
       "    <tr>\n",
       "      <th>278</th>\n",
       "      <td>host_neighbourhood_Roxhill</td>\n",
       "      <td>1.421811e+14</td>\n",
       "    </tr>\n",
       "    <tr>\n",
       "      <th>325</th>\n",
       "      <td>property_type_Guesthouse</td>\n",
       "      <td>2.045742e+14</td>\n",
       "    </tr>\n",
       "    <tr>\n",
       "      <th>399</th>\n",
       "      <td>extra_people_$89.00</td>\n",
       "      <td>4.357163e+14</td>\n",
       "    </tr>\n",
       "    <tr>\n",
       "      <th>268</th>\n",
       "      <td>host_neighbourhood_Pinehurst</td>\n",
       "      <td>4.435103e+14</td>\n",
       "    </tr>\n",
       "    <tr>\n",
       "      <th>217</th>\n",
       "      <td>host_neighbourhood_Government Center</td>\n",
       "      <td>4.834554e+14</td>\n",
       "    </tr>\n",
       "    <tr>\n",
       "      <th>230</th>\n",
       "      <td>host_neighbourhood_Industrial District</td>\n",
       "      <td>5.247684e+14</td>\n",
       "    </tr>\n",
       "  </tbody>\n",
       "</table>\n",
       "</div>"
      ],
      "text/plain": [
       "                                     Column   Coefficient\n",
       "245      host_neighbourhood_Manhattan Beach -7.592079e+14\n",
       "309              host_identity_verified_nan -6.853872e+14\n",
       "337                           room_type_nan -4.893312e+14\n",
       "351                    extra_people_$150.00 -4.834554e+14\n",
       "342                            bed_type_nan -4.205253e+14\n",
       "355                     extra_people_$18.00 -3.131766e+14\n",
       "315                   is_location_exact_nan -3.025752e+14\n",
       "15                                amenities -2.951719e+14\n",
       "4                       experiences_offered -2.283054e+14\n",
       "116                host_acceptance_rate_52% -2.211388e+14\n",
       "196            host_neighbourhood_Coral Way  5.168745e+13\n",
       "177       host_neighbourhood_Bernal Heights  7.530290e+13\n",
       "204         host_neighbourhood_East Village  8.713189e+13\n",
       "176          host_neighbourhood_Benton Park  1.358436e+14\n",
       "278              host_neighbourhood_Roxhill  1.421811e+14\n",
       "325                property_type_Guesthouse  2.045742e+14\n",
       "399                     extra_people_$89.00  4.357163e+14\n",
       "268            host_neighbourhood_Pinehurst  4.435103e+14\n",
       "217    host_neighbourhood_Government Center  4.834554e+14\n",
       "230  host_neighbourhood_Industrial District  5.247684e+14"
      ]
     },
     "execution_count": 140,
     "metadata": {},
     "output_type": "execute_result"
    }
   ],
   "source": [
    "variables2"
   ]
  },
  {
   "cell_type": "code",
   "execution_count": 141,
   "metadata": {},
   "outputs": [
    {
     "data": {
      "image/png": "[encoded data removed]",
      "text/plain": [
       "<Figure size 432x288 with 1 Axes>"
      ]
     },
     "metadata": {
      "needs_background": "light"
     },
     "output_type": "display_data"
    }
   ],
   "source": [
    "# Plot the tornado diagram\n",
    "plt.figure()\n",
    "plt.barh(variables2.Column, variables2.Coefficient, color='blue')\n",
    "plt.xlabel('Coefficient')\n",
    "plt.ylabel('Variable')\n",
    "plt.title('Tornado Diagram of Coefficients for Multiple Linear Regression Model')\n",
    "plt.show()"
   ]
  },
  {
   "cell_type": "markdown",
   "metadata": {},
   "source": [
    "Revisar si se puede alinear al nombre de la columna"
   ]
  },
  {
   "cell_type": "code",
   "execution_count": 99,
   "metadata": {
    "scrolled": true
   },
   "outputs": [
    {
     "data": {
      "text/html": [
       "<div>\n",
       "<style scoped>\n",
       "    .dataframe tbody tr th:only-of-type {\n",
       "        vertical-align: middle;\n",
       "    }\n",
       "\n",
       "    .dataframe tbody tr th {\n",
       "        vertical-align: top;\n",
       "    }\n",
       "\n",
       "    .dataframe thead th {\n",
       "        text-align: right;\n",
       "    }\n",
       "</style>\n",
       "<table border=\"1\" class=\"dataframe\">\n",
       "  <thead>\n",
       "    <tr style=\"text-align: right;\">\n",
       "      <th></th>\n",
       "      <th>variable_1</th>\n",
       "      <th>variable_2</th>\n",
       "      <th>r</th>\n",
       "      <th>abs_r</th>\n",
       "    </tr>\n",
       "  </thead>\n",
       "  <tbody>\n",
       "    <tr>\n",
       "      <th>47</th>\n",
       "      <td>beds</td>\n",
       "      <td>bedrooms</td>\n",
       "      <td>0.735125</td>\n",
       "      <td>0.735125</td>\n",
       "    </tr>\n",
       "    <tr>\n",
       "      <th>33</th>\n",
       "      <td>bedrooms</td>\n",
       "      <td>beds</td>\n",
       "      <td>0.735125</td>\n",
       "      <td>0.735125</td>\n",
       "    </tr>\n",
       "    <tr>\n",
       "      <th>175</th>\n",
       "      <td>review_scores_communication</td>\n",
       "      <td>review_scores_checkin</td>\n",
       "      <td>0.686526</td>\n",
       "      <td>0.686526</td>\n",
       "    </tr>\n",
       "    <tr>\n",
       "      <th>161</th>\n",
       "      <td>review_scores_checkin</td>\n",
       "      <td>review_scores_communication</td>\n",
       "      <td>0.686526</td>\n",
       "      <td>0.686526</td>\n",
       "    </tr>\n",
       "    <tr>\n",
       "      <th>219</th>\n",
       "      <td>Final_Rate</td>\n",
       "      <td>review_scores_cleanliness</td>\n",
       "      <td>0.615214</td>\n",
       "      <td>0.615214</td>\n",
       "    </tr>\n",
       "    <tr>\n",
       "      <th>149</th>\n",
       "      <td>review_scores_cleanliness</td>\n",
       "      <td>Final_Rate</td>\n",
       "      <td>0.615214</td>\n",
       "      <td>0.615214</td>\n",
       "    </tr>\n",
       "    <tr>\n",
       "      <th>81</th>\n",
       "      <td>weekly_price</td>\n",
       "      <td>monthly_price</td>\n",
       "      <td>0.609599</td>\n",
       "      <td>0.609599</td>\n",
       "    </tr>\n",
       "    <tr>\n",
       "      <th>95</th>\n",
       "      <td>monthly_price</td>\n",
       "      <td>weekly_price</td>\n",
       "      <td>0.609599</td>\n",
       "      <td>0.609599</td>\n",
       "    </tr>\n",
       "    <tr>\n",
       "      <th>34</th>\n",
       "      <td>bedrooms</td>\n",
       "      <td>price</td>\n",
       "      <td>0.561413</td>\n",
       "      <td>0.561413</td>\n",
       "    </tr>\n",
       "    <tr>\n",
       "      <th>62</th>\n",
       "      <td>price</td>\n",
       "      <td>bedrooms</td>\n",
       "      <td>0.561413</td>\n",
       "      <td>0.561413</td>\n",
       "    </tr>\n",
       "  </tbody>\n",
       "</table>\n",
       "</div>"
      ],
      "text/plain": [
       "                      variable_1                   variable_2         r  \\\n",
       "47                          beds                     bedrooms  0.735125   \n",
       "33                      bedrooms                         beds  0.735125   \n",
       "175  review_scores_communication        review_scores_checkin  0.686526   \n",
       "161        review_scores_checkin  review_scores_communication  0.686526   \n",
       "219                   Final_Rate    review_scores_cleanliness  0.615214   \n",
       "149    review_scores_cleanliness                   Final_Rate  0.615214   \n",
       "81                  weekly_price                monthly_price  0.609599   \n",
       "95                 monthly_price                 weekly_price  0.609599   \n",
       "34                      bedrooms                        price  0.561413   \n",
       "62                         price                     bedrooms  0.561413   \n",
       "\n",
       "        abs_r  \n",
       "47   0.735125  \n",
       "33   0.735125  \n",
       "175  0.686526  \n",
       "161  0.686526  \n",
       "219  0.615214  \n",
       "149  0.615214  \n",
       "81   0.609599  \n",
       "95   0.609599  \n",
       "34   0.561413  \n",
       "62   0.561413  "
      ]
     },
     "execution_count": 99,
     "metadata": {},
     "output_type": "execute_result"
    }
   ],
   "source": [
    "def tidy_corr_matrix(corr_mat):\n",
    "    '''\n",
    "    Función para convertir una matriz de correlación de pandas en formato tidy\n",
    "    '''\n",
    "    corr_mat = corr_mat.stack().reset_index()\n",
    "    corr_mat.columns = ['variable_1','variable_2','r']\n",
    "    corr_mat = corr_mat.loc[corr_mat['variable_1'] != corr_mat['variable_2'], :]\n",
    "    corr_mat['abs_r'] = np.abs(corr_mat['r'])\n",
    "    corr_mat = corr_mat.sort_values('abs_r', ascending=False)\n",
    "    \n",
    "    return(corr_mat)\n",
    "\n",
    "corr_matrix = Ratings.select_dtypes(include=['float64', 'int']).corr(method='pearson')\n",
    "TCM=tidy_corr_matrix(corr_matrix)\n",
    "TCM.head(10)"
   ]
  },
  {
   "cell_type": "code",
   "execution_count": 100,
   "metadata": {},
   "outputs": [],
   "source": [
    "TCM_rating=TCM[TCM['variable_1']=='Final_Rate'].copy()"
   ]
  },
  {
   "cell_type": "code",
   "execution_count": 101,
   "metadata": {},
   "outputs": [
    {
     "data": {
      "text/html": [
       "<div>\n",
       "<style scoped>\n",
       "    .dataframe tbody tr th:only-of-type {\n",
       "        vertical-align: middle;\n",
       "    }\n",
       "\n",
       "    .dataframe tbody tr th {\n",
       "        vertical-align: top;\n",
       "    }\n",
       "\n",
       "    .dataframe thead th {\n",
       "        text-align: right;\n",
       "    }\n",
       "</style>\n",
       "<table border=\"1\" class=\"dataframe\">\n",
       "  <thead>\n",
       "    <tr style=\"text-align: right;\">\n",
       "      <th></th>\n",
       "      <th>variable_1</th>\n",
       "      <th>variable_2</th>\n",
       "      <th>r</th>\n",
       "      <th>abs_r</th>\n",
       "    </tr>\n",
       "  </thead>\n",
       "  <tbody>\n",
       "    <tr>\n",
       "      <th>210</th>\n",
       "      <td>Final_Rate</td>\n",
       "      <td>host_listings_count</td>\n",
       "      <td>-0.196678</td>\n",
       "      <td>0.196678</td>\n",
       "    </tr>\n",
       "    <tr>\n",
       "      <th>216</th>\n",
       "      <td>Final_Rate</td>\n",
       "      <td>monthly_price</td>\n",
       "      <td>-0.072895</td>\n",
       "      <td>0.072895</td>\n",
       "    </tr>\n",
       "    <tr>\n",
       "      <th>218</th>\n",
       "      <td>Final_Rate</td>\n",
       "      <td>cleaning_fee</td>\n",
       "      <td>-0.071989</td>\n",
       "      <td>0.071989</td>\n",
       "    </tr>\n",
       "    <tr>\n",
       "      <th>214</th>\n",
       "      <td>Final_Rate</td>\n",
       "      <td>price</td>\n",
       "      <td>-0.039909</td>\n",
       "      <td>0.039909</td>\n",
       "    </tr>\n",
       "    <tr>\n",
       "      <th>215</th>\n",
       "      <td>Final_Rate</td>\n",
       "      <td>weekly_price</td>\n",
       "      <td>-0.031395</td>\n",
       "      <td>0.031395</td>\n",
       "    </tr>\n",
       "    <tr>\n",
       "      <th>213</th>\n",
       "      <td>Final_Rate</td>\n",
       "      <td>beds</td>\n",
       "      <td>-0.005984</td>\n",
       "      <td>0.005984</td>\n",
       "    </tr>\n",
       "    <tr>\n",
       "      <th>211</th>\n",
       "      <td>Final_Rate</td>\n",
       "      <td>bathrooms</td>\n",
       "      <td>0.007121</td>\n",
       "      <td>0.007121</td>\n",
       "    </tr>\n",
       "    <tr>\n",
       "      <th>217</th>\n",
       "      <td>Final_Rate</td>\n",
       "      <td>security_deposit</td>\n",
       "      <td>0.014702</td>\n",
       "      <td>0.014702</td>\n",
       "    </tr>\n",
       "    <tr>\n",
       "      <th>212</th>\n",
       "      <td>Final_Rate</td>\n",
       "      <td>bedrooms</td>\n",
       "      <td>0.015675</td>\n",
       "      <td>0.015675</td>\n",
       "    </tr>\n",
       "    <tr>\n",
       "      <th>223</th>\n",
       "      <td>Final_Rate</td>\n",
       "      <td>reviews_per_month</td>\n",
       "      <td>0.127279</td>\n",
       "      <td>0.127279</td>\n",
       "    </tr>\n",
       "    <tr>\n",
       "      <th>222</th>\n",
       "      <td>Final_Rate</td>\n",
       "      <td>review_scores_location</td>\n",
       "      <td>0.424428</td>\n",
       "      <td>0.424428</td>\n",
       "    </tr>\n",
       "    <tr>\n",
       "      <th>220</th>\n",
       "      <td>Final_Rate</td>\n",
       "      <td>review_scores_checkin</td>\n",
       "      <td>0.466126</td>\n",
       "      <td>0.466126</td>\n",
       "    </tr>\n",
       "    <tr>\n",
       "      <th>221</th>\n",
       "      <td>Final_Rate</td>\n",
       "      <td>review_scores_communication</td>\n",
       "      <td>0.513017</td>\n",
       "      <td>0.513017</td>\n",
       "    </tr>\n",
       "    <tr>\n",
       "      <th>219</th>\n",
       "      <td>Final_Rate</td>\n",
       "      <td>review_scores_cleanliness</td>\n",
       "      <td>0.615214</td>\n",
       "      <td>0.615214</td>\n",
       "    </tr>\n",
       "  </tbody>\n",
       "</table>\n",
       "</div>"
      ],
      "text/plain": [
       "     variable_1                   variable_2         r     abs_r\n",
       "210  Final_Rate          host_listings_count -0.196678  0.196678\n",
       "216  Final_Rate                monthly_price -0.072895  0.072895\n",
       "218  Final_Rate                 cleaning_fee -0.071989  0.071989\n",
       "214  Final_Rate                        price -0.039909  0.039909\n",
       "215  Final_Rate                 weekly_price -0.031395  0.031395\n",
       "213  Final_Rate                         beds -0.005984  0.005984\n",
       "211  Final_Rate                    bathrooms  0.007121  0.007121\n",
       "217  Final_Rate             security_deposit  0.014702  0.014702\n",
       "212  Final_Rate                     bedrooms  0.015675  0.015675\n",
       "223  Final_Rate            reviews_per_month  0.127279  0.127279\n",
       "222  Final_Rate       review_scores_location  0.424428  0.424428\n",
       "220  Final_Rate        review_scores_checkin  0.466126  0.466126\n",
       "221  Final_Rate  review_scores_communication  0.513017  0.513017\n",
       "219  Final_Rate    review_scores_cleanliness  0.615214  0.615214"
      ]
     },
     "execution_count": 101,
     "metadata": {},
     "output_type": "execute_result"
    }
   ],
   "source": [
    "TCM_rating.sort_values(by='r',inplace=True)\n",
    "TCM_rating"
   ]
  },
  {
   "cell_type": "code",
   "execution_count": 102,
   "metadata": {},
   "outputs": [
    {
     "data": {
      "image/png": "[encoded data removed]",
      "text/plain": [
       "<Figure size 432x288 with 1 Axes>"
      ]
     },
     "metadata": {
      "needs_background": "light"
     },
     "output_type": "display_data"
    }
   ],
   "source": [
    "plt.figure()\n",
    "plt.barh(TCM_rating.variable_2 ,TCM_rating.r, color='blue')\n",
    "plt.xlabel('Correlation')\n",
    "plt.ylabel('Variable')\n",
    "plt.title('Correlation between Final Rate and numerical variables')\n",
    "plt.xticks(rotation=0)\n",
    "plt.show()"
   ]
  },
  {
   "cell_type": "markdown",
   "metadata": {},
   "source": [
    "model"
   ]
  },
  {
   "cell_type": "markdown",
   "metadata": {},
   "source": [
    "<br>4) Which are the best rated hosts?</br>"
   ]
  },
  {
   "cell_type": "code",
   "execution_count": 103,
   "metadata": {},
   "outputs": [
    {
     "data": {
      "text/html": [
       "<div>\n",
       "<style scoped>\n",
       "    .dataframe tbody tr th:only-of-type {\n",
       "        vertical-align: middle;\n",
       "    }\n",
       "\n",
       "    .dataframe tbody tr th {\n",
       "        vertical-align: top;\n",
       "    }\n",
       "\n",
       "    .dataframe thead th {\n",
       "        text-align: right;\n",
       "    }\n",
       "</style>\n",
       "<table border=\"1\" class=\"dataframe\">\n",
       "  <thead>\n",
       "    <tr style=\"text-align: right;\">\n",
       "      <th></th>\n",
       "      <th>Final_Rate</th>\n",
       "    </tr>\n",
       "    <tr>\n",
       "      <th>host_id</th>\n",
       "      <th></th>\n",
       "    </tr>\n",
       "  </thead>\n",
       "  <tbody>\n",
       "    <tr>\n",
       "      <th>92878185</th>\n",
       "      <td>10.0</td>\n",
       "    </tr>\n",
       "    <tr>\n",
       "      <th>10138187</th>\n",
       "      <td>10.0</td>\n",
       "    </tr>\n",
       "    <tr>\n",
       "      <th>34609479</th>\n",
       "      <td>10.0</td>\n",
       "    </tr>\n",
       "    <tr>\n",
       "      <th>34605512</th>\n",
       "      <td>10.0</td>\n",
       "    </tr>\n",
       "    <tr>\n",
       "      <th>10477638</th>\n",
       "      <td>10.0</td>\n",
       "    </tr>\n",
       "    <tr>\n",
       "      <th>...</th>\n",
       "      <td>...</td>\n",
       "    </tr>\n",
       "    <tr>\n",
       "      <th>6967157</th>\n",
       "      <td>10.0</td>\n",
       "    </tr>\n",
       "    <tr>\n",
       "      <th>6979871</th>\n",
       "      <td>10.0</td>\n",
       "    </tr>\n",
       "    <tr>\n",
       "      <th>6985440</th>\n",
       "      <td>10.0</td>\n",
       "    </tr>\n",
       "    <tr>\n",
       "      <th>7053059</th>\n",
       "      <td>10.0</td>\n",
       "    </tr>\n",
       "    <tr>\n",
       "      <th>38818333</th>\n",
       "      <td>10.0</td>\n",
       "    </tr>\n",
       "  </tbody>\n",
       "</table>\n",
       "<p>300 rows × 1 columns</p>\n",
       "</div>"
      ],
      "text/plain": [
       "          Final_Rate\n",
       "host_id             \n",
       "92878185        10.0\n",
       "10138187        10.0\n",
       "34609479        10.0\n",
       "34605512        10.0\n",
       "10477638        10.0\n",
       "...              ...\n",
       "6967157         10.0\n",
       "6979871         10.0\n",
       "6985440         10.0\n",
       "7053059         10.0\n",
       "38818333        10.0\n",
       "\n",
       "[300 rows x 1 columns]"
      ]
     },
     "execution_count": 103,
     "metadata": {},
     "output_type": "execute_result"
    }
   ],
   "source": [
    "TD4=pd.pivot_table(Ratings,index=['host_id'],values=['Final_Rate'],aggfunc='mean')\n",
    "TD4.sort_values(by=['Final_Rate'], ascending=False,inplace= True)\n",
    "TD4.head(300)"
   ]
  },
  {
   "cell_type": "code",
   "execution_count": 104,
   "metadata": {},
   "outputs": [],
   "source": [
    "TD5=TD4.Final_Rate.value_counts()"
   ]
  },
  {
   "cell_type": "code",
   "execution_count": 105,
   "metadata": {},
   "outputs": [
    {
     "data": {
      "text/plain": [
       "10.000000    2070\n",
       "9.000000     1283\n",
       "8.000000      227\n",
       "9.500000      146\n",
       "7.000000       43\n",
       "             ... \n",
       "7.962264        1\n",
       "9.388889        1\n",
       "9.266667        1\n",
       "7.882353        1\n",
       "9.090909        1\n",
       "Name: Final_Rate, Length: 65, dtype: int64"
      ]
     },
     "execution_count": 105,
     "metadata": {},
     "output_type": "execute_result"
    }
   ],
   "source": [
    "TD5"
   ]
  },
  {
   "cell_type": "code",
   "execution_count": 106,
   "metadata": {},
   "outputs": [
    {
     "data": {
      "image/png": "[encoded data removed]",
      "text/plain": [
       "<Figure size 432x288 with 1 Axes>"
      ]
     },
     "metadata": {
      "needs_background": "light"
     },
     "output_type": "display_data"
    }
   ],
   "source": [
    "plt.figure()\n",
    "plt.hist(x=TD4.Final_Rate, bins=9,rwidth=0.85)\n",
    "plt.xlabel('Number of hosts')\n",
    "plt.ylabel('Final Rate')\n",
    "plt.title('Number of hosts per rate')\n",
    "plt.show()"
   ]
  },
  {
   "cell_type": "markdown",
   "metadata": {},
   "source": [
    "There are over 2070 hosts rated with 10 rating"
   ]
  }
 ],
 "metadata": {
  "kernelspec": {
   "display_name": "Python 3",
   "language": "python",
   "name": "python3"
  },
  "language_info": {
   "codemirror_mode": {
    "name": "ipython",
    "version": 3
   },
   "file_extension": ".py",
   "mimetype": "text/x-python",
   "name": "python",
   "nbconvert_exporter": "python",
   "pygments_lexer": "ipython3",
   "version": "3.8.5"
  }
 },
 "nbformat": 4,
 "nbformat_minor": 4
}
